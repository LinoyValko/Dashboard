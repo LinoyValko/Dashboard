{
 "cells": [
  {
   "cell_type": "markdown",
   "id": "b69c1add",
   "metadata": {},
   "source": [
    "##  Preparations"
   ]
  },
  {
   "cell_type": "code",
   "execution_count": 322,
   "id": "0f2d5cde",
   "metadata": {},
   "outputs": [],
   "source": [
    "import pandas as pd\n",
    "import numpy as np\n",
    "import panel as pn\n",
    "pn.extension('tabulator')\n",
    "\n",
    "import hvplot.pandas\n",
    "#import pymysql"
   ]
  },
  {
   "cell_type": "code",
   "execution_count": 323,
   "id": "1696aa41",
   "metadata": {},
   "outputs": [
    {
     "data": {
      "text/html": [
       "<div>\n",
       "<style scoped>\n",
       "    .dataframe tbody tr th:only-of-type {\n",
       "        vertical-align: middle;\n",
       "    }\n",
       "\n",
       "    .dataframe tbody tr th {\n",
       "        vertical-align: top;\n",
       "    }\n",
       "\n",
       "    .dataframe thead th {\n",
       "        text-align: right;\n",
       "    }\n",
       "</style>\n",
       "<table border=\"1\" class=\"dataframe\">\n",
       "  <thead>\n",
       "    <tr style=\"text-align: right;\">\n",
       "      <th></th>\n",
       "      <th>iso_code</th>\n",
       "      <th>continent</th>\n",
       "      <th>location</th>\n",
       "      <th>date</th>\n",
       "      <th>total_cases</th>\n",
       "      <th>new_cases</th>\n",
       "      <th>new_cases_smoothed</th>\n",
       "      <th>total_deaths</th>\n",
       "      <th>new_deaths</th>\n",
       "      <th>new_deaths_smoothed</th>\n",
       "      <th>...</th>\n",
       "      <th>male_smokers</th>\n",
       "      <th>handwashing_facilities</th>\n",
       "      <th>hospital_beds_per_thousand</th>\n",
       "      <th>life_expectancy</th>\n",
       "      <th>human_development_index</th>\n",
       "      <th>population</th>\n",
       "      <th>excess_mortality_cumulative_absolute</th>\n",
       "      <th>excess_mortality_cumulative</th>\n",
       "      <th>excess_mortality</th>\n",
       "      <th>excess_mortality_cumulative_per_million</th>\n",
       "    </tr>\n",
       "  </thead>\n",
       "  <tbody>\n",
       "    <tr>\n",
       "      <th>0</th>\n",
       "      <td>AFG</td>\n",
       "      <td>Asia</td>\n",
       "      <td>Afghanistan</td>\n",
       "      <td>2020-02-24</td>\n",
       "      <td>5.0</td>\n",
       "      <td>5.0</td>\n",
       "      <td>NaN</td>\n",
       "      <td>NaN</td>\n",
       "      <td>NaN</td>\n",
       "      <td>NaN</td>\n",
       "      <td>...</td>\n",
       "      <td>NaN</td>\n",
       "      <td>37.746</td>\n",
       "      <td>0.5</td>\n",
       "      <td>64.83</td>\n",
       "      <td>0.511</td>\n",
       "      <td>41128772.0</td>\n",
       "      <td>NaN</td>\n",
       "      <td>NaN</td>\n",
       "      <td>NaN</td>\n",
       "      <td>NaN</td>\n",
       "    </tr>\n",
       "    <tr>\n",
       "      <th>1</th>\n",
       "      <td>AFG</td>\n",
       "      <td>Asia</td>\n",
       "      <td>Afghanistan</td>\n",
       "      <td>2020-02-25</td>\n",
       "      <td>5.0</td>\n",
       "      <td>0.0</td>\n",
       "      <td>NaN</td>\n",
       "      <td>NaN</td>\n",
       "      <td>NaN</td>\n",
       "      <td>NaN</td>\n",
       "      <td>...</td>\n",
       "      <td>NaN</td>\n",
       "      <td>37.746</td>\n",
       "      <td>0.5</td>\n",
       "      <td>64.83</td>\n",
       "      <td>0.511</td>\n",
       "      <td>41128772.0</td>\n",
       "      <td>NaN</td>\n",
       "      <td>NaN</td>\n",
       "      <td>NaN</td>\n",
       "      <td>NaN</td>\n",
       "    </tr>\n",
       "    <tr>\n",
       "      <th>2</th>\n",
       "      <td>AFG</td>\n",
       "      <td>Asia</td>\n",
       "      <td>Afghanistan</td>\n",
       "      <td>2020-02-26</td>\n",
       "      <td>5.0</td>\n",
       "      <td>0.0</td>\n",
       "      <td>NaN</td>\n",
       "      <td>NaN</td>\n",
       "      <td>NaN</td>\n",
       "      <td>NaN</td>\n",
       "      <td>...</td>\n",
       "      <td>NaN</td>\n",
       "      <td>37.746</td>\n",
       "      <td>0.5</td>\n",
       "      <td>64.83</td>\n",
       "      <td>0.511</td>\n",
       "      <td>41128772.0</td>\n",
       "      <td>NaN</td>\n",
       "      <td>NaN</td>\n",
       "      <td>NaN</td>\n",
       "      <td>NaN</td>\n",
       "    </tr>\n",
       "    <tr>\n",
       "      <th>3</th>\n",
       "      <td>AFG</td>\n",
       "      <td>Asia</td>\n",
       "      <td>Afghanistan</td>\n",
       "      <td>2020-02-27</td>\n",
       "      <td>5.0</td>\n",
       "      <td>0.0</td>\n",
       "      <td>NaN</td>\n",
       "      <td>NaN</td>\n",
       "      <td>NaN</td>\n",
       "      <td>NaN</td>\n",
       "      <td>...</td>\n",
       "      <td>NaN</td>\n",
       "      <td>37.746</td>\n",
       "      <td>0.5</td>\n",
       "      <td>64.83</td>\n",
       "      <td>0.511</td>\n",
       "      <td>41128772.0</td>\n",
       "      <td>NaN</td>\n",
       "      <td>NaN</td>\n",
       "      <td>NaN</td>\n",
       "      <td>NaN</td>\n",
       "    </tr>\n",
       "    <tr>\n",
       "      <th>4</th>\n",
       "      <td>AFG</td>\n",
       "      <td>Asia</td>\n",
       "      <td>Afghanistan</td>\n",
       "      <td>2020-02-28</td>\n",
       "      <td>5.0</td>\n",
       "      <td>0.0</td>\n",
       "      <td>NaN</td>\n",
       "      <td>NaN</td>\n",
       "      <td>NaN</td>\n",
       "      <td>NaN</td>\n",
       "      <td>...</td>\n",
       "      <td>NaN</td>\n",
       "      <td>37.746</td>\n",
       "      <td>0.5</td>\n",
       "      <td>64.83</td>\n",
       "      <td>0.511</td>\n",
       "      <td>41128772.0</td>\n",
       "      <td>NaN</td>\n",
       "      <td>NaN</td>\n",
       "      <td>NaN</td>\n",
       "      <td>NaN</td>\n",
       "    </tr>\n",
       "    <tr>\n",
       "      <th>...</th>\n",
       "      <td>...</td>\n",
       "      <td>...</td>\n",
       "      <td>...</td>\n",
       "      <td>...</td>\n",
       "      <td>...</td>\n",
       "      <td>...</td>\n",
       "      <td>...</td>\n",
       "      <td>...</td>\n",
       "      <td>...</td>\n",
       "      <td>...</td>\n",
       "      <td>...</td>\n",
       "      <td>...</td>\n",
       "      <td>...</td>\n",
       "      <td>...</td>\n",
       "      <td>...</td>\n",
       "      <td>...</td>\n",
       "      <td>...</td>\n",
       "      <td>...</td>\n",
       "      <td>...</td>\n",
       "      <td>...</td>\n",
       "      <td>...</td>\n",
       "    </tr>\n",
       "    <tr>\n",
       "      <th>250611</th>\n",
       "      <td>ZWE</td>\n",
       "      <td>Africa</td>\n",
       "      <td>Zimbabwe</td>\n",
       "      <td>2023-01-12</td>\n",
       "      <td>259981.0</td>\n",
       "      <td>0.0</td>\n",
       "      <td>0.0</td>\n",
       "      <td>5637.0</td>\n",
       "      <td>0.0</td>\n",
       "      <td>0.0</td>\n",
       "      <td>...</td>\n",
       "      <td>30.7</td>\n",
       "      <td>36.791</td>\n",
       "      <td>1.7</td>\n",
       "      <td>61.49</td>\n",
       "      <td>0.571</td>\n",
       "      <td>16320539.0</td>\n",
       "      <td>NaN</td>\n",
       "      <td>NaN</td>\n",
       "      <td>NaN</td>\n",
       "      <td>NaN</td>\n",
       "    </tr>\n",
       "    <tr>\n",
       "      <th>250612</th>\n",
       "      <td>ZWE</td>\n",
       "      <td>Africa</td>\n",
       "      <td>Zimbabwe</td>\n",
       "      <td>2023-01-13</td>\n",
       "      <td>259981.0</td>\n",
       "      <td>0.0</td>\n",
       "      <td>0.0</td>\n",
       "      <td>5637.0</td>\n",
       "      <td>0.0</td>\n",
       "      <td>0.0</td>\n",
       "      <td>...</td>\n",
       "      <td>30.7</td>\n",
       "      <td>36.791</td>\n",
       "      <td>1.7</td>\n",
       "      <td>61.49</td>\n",
       "      <td>0.571</td>\n",
       "      <td>16320539.0</td>\n",
       "      <td>NaN</td>\n",
       "      <td>NaN</td>\n",
       "      <td>NaN</td>\n",
       "      <td>NaN</td>\n",
       "    </tr>\n",
       "    <tr>\n",
       "      <th>250613</th>\n",
       "      <td>ZWE</td>\n",
       "      <td>Africa</td>\n",
       "      <td>Zimbabwe</td>\n",
       "      <td>2023-01-14</td>\n",
       "      <td>259981.0</td>\n",
       "      <td>0.0</td>\n",
       "      <td>0.0</td>\n",
       "      <td>5637.0</td>\n",
       "      <td>0.0</td>\n",
       "      <td>0.0</td>\n",
       "      <td>...</td>\n",
       "      <td>30.7</td>\n",
       "      <td>36.791</td>\n",
       "      <td>1.7</td>\n",
       "      <td>61.49</td>\n",
       "      <td>0.571</td>\n",
       "      <td>16320539.0</td>\n",
       "      <td>NaN</td>\n",
       "      <td>NaN</td>\n",
       "      <td>NaN</td>\n",
       "      <td>NaN</td>\n",
       "    </tr>\n",
       "    <tr>\n",
       "      <th>250614</th>\n",
       "      <td>ZWE</td>\n",
       "      <td>Africa</td>\n",
       "      <td>Zimbabwe</td>\n",
       "      <td>2023-01-15</td>\n",
       "      <td>259981.0</td>\n",
       "      <td>0.0</td>\n",
       "      <td>0.0</td>\n",
       "      <td>5637.0</td>\n",
       "      <td>0.0</td>\n",
       "      <td>0.0</td>\n",
       "      <td>...</td>\n",
       "      <td>30.7</td>\n",
       "      <td>36.791</td>\n",
       "      <td>1.7</td>\n",
       "      <td>61.49</td>\n",
       "      <td>0.571</td>\n",
       "      <td>16320539.0</td>\n",
       "      <td>NaN</td>\n",
       "      <td>NaN</td>\n",
       "      <td>NaN</td>\n",
       "      <td>NaN</td>\n",
       "    </tr>\n",
       "    <tr>\n",
       "      <th>250615</th>\n",
       "      <td>ZWE</td>\n",
       "      <td>Africa</td>\n",
       "      <td>Zimbabwe</td>\n",
       "      <td>2023-01-16</td>\n",
       "      <td>259981.0</td>\n",
       "      <td>0.0</td>\n",
       "      <td>0.0</td>\n",
       "      <td>5637.0</td>\n",
       "      <td>0.0</td>\n",
       "      <td>0.0</td>\n",
       "      <td>...</td>\n",
       "      <td>30.7</td>\n",
       "      <td>36.791</td>\n",
       "      <td>1.7</td>\n",
       "      <td>61.49</td>\n",
       "      <td>0.571</td>\n",
       "      <td>16320539.0</td>\n",
       "      <td>NaN</td>\n",
       "      <td>NaN</td>\n",
       "      <td>NaN</td>\n",
       "      <td>NaN</td>\n",
       "    </tr>\n",
       "  </tbody>\n",
       "</table>\n",
       "<p>250616 rows × 67 columns</p>\n",
       "</div>"
      ],
      "text/plain": [
       "       iso_code continent     location        date  total_cases  new_cases  \\\n",
       "0           AFG      Asia  Afghanistan  2020-02-24          5.0        5.0   \n",
       "1           AFG      Asia  Afghanistan  2020-02-25          5.0        0.0   \n",
       "2           AFG      Asia  Afghanistan  2020-02-26          5.0        0.0   \n",
       "3           AFG      Asia  Afghanistan  2020-02-27          5.0        0.0   \n",
       "4           AFG      Asia  Afghanistan  2020-02-28          5.0        0.0   \n",
       "...         ...       ...          ...         ...          ...        ...   \n",
       "250611      ZWE    Africa     Zimbabwe  2023-01-12     259981.0        0.0   \n",
       "250612      ZWE    Africa     Zimbabwe  2023-01-13     259981.0        0.0   \n",
       "250613      ZWE    Africa     Zimbabwe  2023-01-14     259981.0        0.0   \n",
       "250614      ZWE    Africa     Zimbabwe  2023-01-15     259981.0        0.0   \n",
       "250615      ZWE    Africa     Zimbabwe  2023-01-16     259981.0        0.0   \n",
       "\n",
       "        new_cases_smoothed  total_deaths  new_deaths  new_deaths_smoothed  \\\n",
       "0                      NaN           NaN         NaN                  NaN   \n",
       "1                      NaN           NaN         NaN                  NaN   \n",
       "2                      NaN           NaN         NaN                  NaN   \n",
       "3                      NaN           NaN         NaN                  NaN   \n",
       "4                      NaN           NaN         NaN                  NaN   \n",
       "...                    ...           ...         ...                  ...   \n",
       "250611                 0.0        5637.0         0.0                  0.0   \n",
       "250612                 0.0        5637.0         0.0                  0.0   \n",
       "250613                 0.0        5637.0         0.0                  0.0   \n",
       "250614                 0.0        5637.0         0.0                  0.0   \n",
       "250615                 0.0        5637.0         0.0                  0.0   \n",
       "\n",
       "        ...  male_smokers  handwashing_facilities  hospital_beds_per_thousand  \\\n",
       "0       ...           NaN                  37.746                         0.5   \n",
       "1       ...           NaN                  37.746                         0.5   \n",
       "2       ...           NaN                  37.746                         0.5   \n",
       "3       ...           NaN                  37.746                         0.5   \n",
       "4       ...           NaN                  37.746                         0.5   \n",
       "...     ...           ...                     ...                         ...   \n",
       "250611  ...          30.7                  36.791                         1.7   \n",
       "250612  ...          30.7                  36.791                         1.7   \n",
       "250613  ...          30.7                  36.791                         1.7   \n",
       "250614  ...          30.7                  36.791                         1.7   \n",
       "250615  ...          30.7                  36.791                         1.7   \n",
       "\n",
       "        life_expectancy  human_development_index  population  \\\n",
       "0                 64.83                    0.511  41128772.0   \n",
       "1                 64.83                    0.511  41128772.0   \n",
       "2                 64.83                    0.511  41128772.0   \n",
       "3                 64.83                    0.511  41128772.0   \n",
       "4                 64.83                    0.511  41128772.0   \n",
       "...                 ...                      ...         ...   \n",
       "250611            61.49                    0.571  16320539.0   \n",
       "250612            61.49                    0.571  16320539.0   \n",
       "250613            61.49                    0.571  16320539.0   \n",
       "250614            61.49                    0.571  16320539.0   \n",
       "250615            61.49                    0.571  16320539.0   \n",
       "\n",
       "        excess_mortality_cumulative_absolute  excess_mortality_cumulative  \\\n",
       "0                                        NaN                          NaN   \n",
       "1                                        NaN                          NaN   \n",
       "2                                        NaN                          NaN   \n",
       "3                                        NaN                          NaN   \n",
       "4                                        NaN                          NaN   \n",
       "...                                      ...                          ...   \n",
       "250611                                   NaN                          NaN   \n",
       "250612                                   NaN                          NaN   \n",
       "250613                                   NaN                          NaN   \n",
       "250614                                   NaN                          NaN   \n",
       "250615                                   NaN                          NaN   \n",
       "\n",
       "        excess_mortality  excess_mortality_cumulative_per_million  \n",
       "0                    NaN                                      NaN  \n",
       "1                    NaN                                      NaN  \n",
       "2                    NaN                                      NaN  \n",
       "3                    NaN                                      NaN  \n",
       "4                    NaN                                      NaN  \n",
       "...                  ...                                      ...  \n",
       "250611               NaN                                      NaN  \n",
       "250612               NaN                                      NaN  \n",
       "250613               NaN                                      NaN  \n",
       "250614               NaN                                      NaN  \n",
       "250615               NaN                                      NaN  \n",
       "\n",
       "[250616 rows x 67 columns]"
      ]
     },
     "execution_count": 323,
     "metadata": {},
     "output_type": "execute_result"
    }
   ],
   "source": [
    "connector = pd.read_csv('C:/Users/adaro/Downloads/owid-covid-data.csv')\n",
    "connector"
   ]
  },
  {
   "cell_type": "code",
   "execution_count": 325,
   "id": "ff4c382b",
   "metadata": {},
   "outputs": [
    {
     "data": {
      "text/html": [
       "<div>\n",
       "<style scoped>\n",
       "    .dataframe tbody tr th:only-of-type {\n",
       "        vertical-align: middle;\n",
       "    }\n",
       "\n",
       "    .dataframe tbody tr th {\n",
       "        vertical-align: top;\n",
       "    }\n",
       "\n",
       "    .dataframe thead th {\n",
       "        text-align: right;\n",
       "    }\n",
       "</style>\n",
       "<table border=\"1\" class=\"dataframe\">\n",
       "  <thead>\n",
       "    <tr style=\"text-align: right;\">\n",
       "      <th></th>\n",
       "      <th>iso_code</th>\n",
       "      <th>continent</th>\n",
       "      <th>location</th>\n",
       "      <th>date</th>\n",
       "      <th>total_cases</th>\n",
       "      <th>new_cases</th>\n",
       "      <th>new_cases_smoothed</th>\n",
       "      <th>total_deaths</th>\n",
       "      <th>new_deaths</th>\n",
       "      <th>new_deaths_smoothed</th>\n",
       "      <th>icu_patients</th>\n",
       "      <th>icu_patients_per_million</th>\n",
       "      <th>hosp_patients</th>\n",
       "      <th>hosp_patients_per_million</th>\n",
       "      <th>weekly_icu_admissions</th>\n",
       "      <th>weekly_icu_admissions_per_million</th>\n",
       "      <th>weekly_hosp_admissions</th>\n",
       "      <th>weekly_hosp_admissions_per_million</th>\n",
       "    </tr>\n",
       "  </thead>\n",
       "  <tbody>\n",
       "    <tr>\n",
       "      <th>0</th>\n",
       "      <td>AFG</td>\n",
       "      <td>Asia</td>\n",
       "      <td>Afghanistan</td>\n",
       "      <td>2020-02-24</td>\n",
       "      <td>5.0</td>\n",
       "      <td>5.0</td>\n",
       "      <td>NaN</td>\n",
       "      <td>NaN</td>\n",
       "      <td>NaN</td>\n",
       "      <td>NaN</td>\n",
       "      <td>NaN</td>\n",
       "      <td>NaN</td>\n",
       "      <td>NaN</td>\n",
       "      <td>NaN</td>\n",
       "      <td>NaN</td>\n",
       "      <td>NaN</td>\n",
       "      <td>NaN</td>\n",
       "      <td>NaN</td>\n",
       "    </tr>\n",
       "    <tr>\n",
       "      <th>1</th>\n",
       "      <td>AFG</td>\n",
       "      <td>Asia</td>\n",
       "      <td>Afghanistan</td>\n",
       "      <td>2020-02-25</td>\n",
       "      <td>5.0</td>\n",
       "      <td>0.0</td>\n",
       "      <td>NaN</td>\n",
       "      <td>NaN</td>\n",
       "      <td>NaN</td>\n",
       "      <td>NaN</td>\n",
       "      <td>NaN</td>\n",
       "      <td>NaN</td>\n",
       "      <td>NaN</td>\n",
       "      <td>NaN</td>\n",
       "      <td>NaN</td>\n",
       "      <td>NaN</td>\n",
       "      <td>NaN</td>\n",
       "      <td>NaN</td>\n",
       "    </tr>\n",
       "    <tr>\n",
       "      <th>2</th>\n",
       "      <td>AFG</td>\n",
       "      <td>Asia</td>\n",
       "      <td>Afghanistan</td>\n",
       "      <td>2020-02-26</td>\n",
       "      <td>5.0</td>\n",
       "      <td>0.0</td>\n",
       "      <td>NaN</td>\n",
       "      <td>NaN</td>\n",
       "      <td>NaN</td>\n",
       "      <td>NaN</td>\n",
       "      <td>NaN</td>\n",
       "      <td>NaN</td>\n",
       "      <td>NaN</td>\n",
       "      <td>NaN</td>\n",
       "      <td>NaN</td>\n",
       "      <td>NaN</td>\n",
       "      <td>NaN</td>\n",
       "      <td>NaN</td>\n",
       "    </tr>\n",
       "    <tr>\n",
       "      <th>3</th>\n",
       "      <td>AFG</td>\n",
       "      <td>Asia</td>\n",
       "      <td>Afghanistan</td>\n",
       "      <td>2020-02-27</td>\n",
       "      <td>5.0</td>\n",
       "      <td>0.0</td>\n",
       "      <td>NaN</td>\n",
       "      <td>NaN</td>\n",
       "      <td>NaN</td>\n",
       "      <td>NaN</td>\n",
       "      <td>NaN</td>\n",
       "      <td>NaN</td>\n",
       "      <td>NaN</td>\n",
       "      <td>NaN</td>\n",
       "      <td>NaN</td>\n",
       "      <td>NaN</td>\n",
       "      <td>NaN</td>\n",
       "      <td>NaN</td>\n",
       "    </tr>\n",
       "    <tr>\n",
       "      <th>4</th>\n",
       "      <td>AFG</td>\n",
       "      <td>Asia</td>\n",
       "      <td>Afghanistan</td>\n",
       "      <td>2020-02-28</td>\n",
       "      <td>5.0</td>\n",
       "      <td>0.0</td>\n",
       "      <td>NaN</td>\n",
       "      <td>NaN</td>\n",
       "      <td>NaN</td>\n",
       "      <td>NaN</td>\n",
       "      <td>NaN</td>\n",
       "      <td>NaN</td>\n",
       "      <td>NaN</td>\n",
       "      <td>NaN</td>\n",
       "      <td>NaN</td>\n",
       "      <td>NaN</td>\n",
       "      <td>NaN</td>\n",
       "      <td>NaN</td>\n",
       "    </tr>\n",
       "    <tr>\n",
       "      <th>...</th>\n",
       "      <td>...</td>\n",
       "      <td>...</td>\n",
       "      <td>...</td>\n",
       "      <td>...</td>\n",
       "      <td>...</td>\n",
       "      <td>...</td>\n",
       "      <td>...</td>\n",
       "      <td>...</td>\n",
       "      <td>...</td>\n",
       "      <td>...</td>\n",
       "      <td>...</td>\n",
       "      <td>...</td>\n",
       "      <td>...</td>\n",
       "      <td>...</td>\n",
       "      <td>...</td>\n",
       "      <td>...</td>\n",
       "      <td>...</td>\n",
       "      <td>...</td>\n",
       "    </tr>\n",
       "    <tr>\n",
       "      <th>250611</th>\n",
       "      <td>ZWE</td>\n",
       "      <td>Africa</td>\n",
       "      <td>Zimbabwe</td>\n",
       "      <td>2023-01-12</td>\n",
       "      <td>259981.0</td>\n",
       "      <td>0.0</td>\n",
       "      <td>0.0</td>\n",
       "      <td>5637.0</td>\n",
       "      <td>0.0</td>\n",
       "      <td>0.0</td>\n",
       "      <td>NaN</td>\n",
       "      <td>NaN</td>\n",
       "      <td>NaN</td>\n",
       "      <td>NaN</td>\n",
       "      <td>NaN</td>\n",
       "      <td>NaN</td>\n",
       "      <td>NaN</td>\n",
       "      <td>NaN</td>\n",
       "    </tr>\n",
       "    <tr>\n",
       "      <th>250612</th>\n",
       "      <td>ZWE</td>\n",
       "      <td>Africa</td>\n",
       "      <td>Zimbabwe</td>\n",
       "      <td>2023-01-13</td>\n",
       "      <td>259981.0</td>\n",
       "      <td>0.0</td>\n",
       "      <td>0.0</td>\n",
       "      <td>5637.0</td>\n",
       "      <td>0.0</td>\n",
       "      <td>0.0</td>\n",
       "      <td>NaN</td>\n",
       "      <td>NaN</td>\n",
       "      <td>NaN</td>\n",
       "      <td>NaN</td>\n",
       "      <td>NaN</td>\n",
       "      <td>NaN</td>\n",
       "      <td>NaN</td>\n",
       "      <td>NaN</td>\n",
       "    </tr>\n",
       "    <tr>\n",
       "      <th>250613</th>\n",
       "      <td>ZWE</td>\n",
       "      <td>Africa</td>\n",
       "      <td>Zimbabwe</td>\n",
       "      <td>2023-01-14</td>\n",
       "      <td>259981.0</td>\n",
       "      <td>0.0</td>\n",
       "      <td>0.0</td>\n",
       "      <td>5637.0</td>\n",
       "      <td>0.0</td>\n",
       "      <td>0.0</td>\n",
       "      <td>NaN</td>\n",
       "      <td>NaN</td>\n",
       "      <td>NaN</td>\n",
       "      <td>NaN</td>\n",
       "      <td>NaN</td>\n",
       "      <td>NaN</td>\n",
       "      <td>NaN</td>\n",
       "      <td>NaN</td>\n",
       "    </tr>\n",
       "    <tr>\n",
       "      <th>250614</th>\n",
       "      <td>ZWE</td>\n",
       "      <td>Africa</td>\n",
       "      <td>Zimbabwe</td>\n",
       "      <td>2023-01-15</td>\n",
       "      <td>259981.0</td>\n",
       "      <td>0.0</td>\n",
       "      <td>0.0</td>\n",
       "      <td>5637.0</td>\n",
       "      <td>0.0</td>\n",
       "      <td>0.0</td>\n",
       "      <td>NaN</td>\n",
       "      <td>NaN</td>\n",
       "      <td>NaN</td>\n",
       "      <td>NaN</td>\n",
       "      <td>NaN</td>\n",
       "      <td>NaN</td>\n",
       "      <td>NaN</td>\n",
       "      <td>NaN</td>\n",
       "    </tr>\n",
       "    <tr>\n",
       "      <th>250615</th>\n",
       "      <td>ZWE</td>\n",
       "      <td>Africa</td>\n",
       "      <td>Zimbabwe</td>\n",
       "      <td>2023-01-16</td>\n",
       "      <td>259981.0</td>\n",
       "      <td>0.0</td>\n",
       "      <td>0.0</td>\n",
       "      <td>5637.0</td>\n",
       "      <td>0.0</td>\n",
       "      <td>0.0</td>\n",
       "      <td>NaN</td>\n",
       "      <td>NaN</td>\n",
       "      <td>NaN</td>\n",
       "      <td>NaN</td>\n",
       "      <td>NaN</td>\n",
       "      <td>NaN</td>\n",
       "      <td>NaN</td>\n",
       "      <td>NaN</td>\n",
       "    </tr>\n",
       "  </tbody>\n",
       "</table>\n",
       "<p>250616 rows × 18 columns</p>\n",
       "</div>"
      ],
      "text/plain": [
       "       iso_code continent     location        date  total_cases  new_cases  \\\n",
       "0           AFG      Asia  Afghanistan  2020-02-24          5.0        5.0   \n",
       "1           AFG      Asia  Afghanistan  2020-02-25          5.0        0.0   \n",
       "2           AFG      Asia  Afghanistan  2020-02-26          5.0        0.0   \n",
       "3           AFG      Asia  Afghanistan  2020-02-27          5.0        0.0   \n",
       "4           AFG      Asia  Afghanistan  2020-02-28          5.0        0.0   \n",
       "...         ...       ...          ...         ...          ...        ...   \n",
       "250611      ZWE    Africa     Zimbabwe  2023-01-12     259981.0        0.0   \n",
       "250612      ZWE    Africa     Zimbabwe  2023-01-13     259981.0        0.0   \n",
       "250613      ZWE    Africa     Zimbabwe  2023-01-14     259981.0        0.0   \n",
       "250614      ZWE    Africa     Zimbabwe  2023-01-15     259981.0        0.0   \n",
       "250615      ZWE    Africa     Zimbabwe  2023-01-16     259981.0        0.0   \n",
       "\n",
       "        new_cases_smoothed  total_deaths  new_deaths  new_deaths_smoothed  \\\n",
       "0                      NaN           NaN         NaN                  NaN   \n",
       "1                      NaN           NaN         NaN                  NaN   \n",
       "2                      NaN           NaN         NaN                  NaN   \n",
       "3                      NaN           NaN         NaN                  NaN   \n",
       "4                      NaN           NaN         NaN                  NaN   \n",
       "...                    ...           ...         ...                  ...   \n",
       "250611                 0.0        5637.0         0.0                  0.0   \n",
       "250612                 0.0        5637.0         0.0                  0.0   \n",
       "250613                 0.0        5637.0         0.0                  0.0   \n",
       "250614                 0.0        5637.0         0.0                  0.0   \n",
       "250615                 0.0        5637.0         0.0                  0.0   \n",
       "\n",
       "        icu_patients  icu_patients_per_million  hosp_patients  \\\n",
       "0                NaN                       NaN            NaN   \n",
       "1                NaN                       NaN            NaN   \n",
       "2                NaN                       NaN            NaN   \n",
       "3                NaN                       NaN            NaN   \n",
       "4                NaN                       NaN            NaN   \n",
       "...              ...                       ...            ...   \n",
       "250611           NaN                       NaN            NaN   \n",
       "250612           NaN                       NaN            NaN   \n",
       "250613           NaN                       NaN            NaN   \n",
       "250614           NaN                       NaN            NaN   \n",
       "250615           NaN                       NaN            NaN   \n",
       "\n",
       "        hosp_patients_per_million  weekly_icu_admissions  \\\n",
       "0                             NaN                    NaN   \n",
       "1                             NaN                    NaN   \n",
       "2                             NaN                    NaN   \n",
       "3                             NaN                    NaN   \n",
       "4                             NaN                    NaN   \n",
       "...                           ...                    ...   \n",
       "250611                        NaN                    NaN   \n",
       "250612                        NaN                    NaN   \n",
       "250613                        NaN                    NaN   \n",
       "250614                        NaN                    NaN   \n",
       "250615                        NaN                    NaN   \n",
       "\n",
       "        weekly_icu_admissions_per_million  weekly_hosp_admissions  \\\n",
       "0                                     NaN                     NaN   \n",
       "1                                     NaN                     NaN   \n",
       "2                                     NaN                     NaN   \n",
       "3                                     NaN                     NaN   \n",
       "4                                     NaN                     NaN   \n",
       "...                                   ...                     ...   \n",
       "250611                                NaN                     NaN   \n",
       "250612                                NaN                     NaN   \n",
       "250613                                NaN                     NaN   \n",
       "250614                                NaN                     NaN   \n",
       "250615                                NaN                     NaN   \n",
       "\n",
       "        weekly_hosp_admissions_per_million  \n",
       "0                                      NaN  \n",
       "1                                      NaN  \n",
       "2                                      NaN  \n",
       "3                                      NaN  \n",
       "4                                      NaN  \n",
       "...                                    ...  \n",
       "250611                                 NaN  \n",
       "250612                                 NaN  \n",
       "250613                                 NaN  \n",
       "250614                                 NaN  \n",
       "250615                                 NaN  \n",
       "\n",
       "[250616 rows x 18 columns]"
      ]
     },
     "execution_count": 325,
     "metadata": {},
     "output_type": "execute_result"
    }
   ],
   "source": [
    "#pre-df\n",
    "our_df = connector[['iso_code', 'continent', 'location', 'date', 'total_cases', 'new_cases','new_cases_smoothed', 'total_deaths', 'new_deaths','new_deaths_smoothed','icu_patients','icu_patients_per_million','hosp_patients','hosp_patients_per_million','weekly_icu_admissions','weekly_icu_admissions_per_million','weekly_hosp_admissions','weekly_hosp_admissions_per_million']]\n",
    "our_df\n"
   ]
  },
  {
   "cell_type": "code",
   "execution_count": 326,
   "id": "8f9ee040",
   "metadata": {},
   "outputs": [],
   "source": [
    "#creating a copy, in order to keep a raw original data a side.\n",
    "copy_df = our_df"
   ]
  },
  {
   "cell_type": "code",
   "execution_count": 327,
   "id": "c1626b04",
   "metadata": {},
   "outputs": [
    {
     "name": "stderr",
     "output_type": "stream",
     "text": [
      "C:\\Users\\adaro\\AppData\\Local\\Temp\\ipykernel_12392\\4098238241.py:2: SettingWithCopyWarning: \n",
      "A value is trying to be set on a copy of a slice from a DataFrame.\n",
      "Try using .loc[row_indexer,col_indexer] = value instead\n",
      "\n",
      "See the caveats in the documentation: https://pandas.pydata.org/pandas-docs/stable/user_guide/indexing.html#returning-a-view-versus-a-copy\n",
      "  copy_df['date'] = pd.to_datetime(copy_df['date'])\n",
      "C:\\Users\\adaro\\AppData\\Local\\Temp\\ipykernel_12392\\4098238241.py:3: SettingWithCopyWarning: \n",
      "A value is trying to be set on a copy of a slice from a DataFrame.\n",
      "Try using .loc[row_indexer,col_indexer] = value instead\n",
      "\n",
      "See the caveats in the documentation: https://pandas.pydata.org/pandas-docs/stable/user_guide/indexing.html#returning-a-view-versus-a-copy\n",
      "  copy_df['year'], copy_df['month'], copy_df['day'] = copy_df['date'].dt.year, copy_df['date'].dt.month, copy_df['date'].dt.day\n",
      "C:\\Users\\adaro\\AppData\\Local\\Temp\\ipykernel_12392\\4098238241.py:3: SettingWithCopyWarning: \n",
      "A value is trying to be set on a copy of a slice from a DataFrame.\n",
      "Try using .loc[row_indexer,col_indexer] = value instead\n",
      "\n",
      "See the caveats in the documentation: https://pandas.pydata.org/pandas-docs/stable/user_guide/indexing.html#returning-a-view-versus-a-copy\n",
      "  copy_df['year'], copy_df['month'], copy_df['day'] = copy_df['date'].dt.year, copy_df['date'].dt.month, copy_df['date'].dt.day\n",
      "C:\\Users\\adaro\\AppData\\Local\\Temp\\ipykernel_12392\\4098238241.py:3: SettingWithCopyWarning: \n",
      "A value is trying to be set on a copy of a slice from a DataFrame.\n",
      "Try using .loc[row_indexer,col_indexer] = value instead\n",
      "\n",
      "See the caveats in the documentation: https://pandas.pydata.org/pandas-docs/stable/user_guide/indexing.html#returning-a-view-versus-a-copy\n",
      "  copy_df['year'], copy_df['month'], copy_df['day'] = copy_df['date'].dt.year, copy_df['date'].dt.month, copy_df['date'].dt.day\n"
     ]
    }
   ],
   "source": [
    "#creating new time columns \n",
    "copy_df['date'] = pd.to_datetime(copy_df['date'])\n",
    "copy_df['year'], copy_df['month'], copy_df['day'] = copy_df['date'].dt.year, copy_df['date'].dt.month, copy_df['date'].dt.day"
   ]
  },
  {
   "cell_type": "code",
   "execution_count": 328,
   "id": "3c3443ac",
   "metadata": {},
   "outputs": [
    {
     "name": "stderr",
     "output_type": "stream",
     "text": [
      "C:\\Users\\adaro\\AppData\\Local\\Temp\\ipykernel_12392\\128928614.py:1: SettingWithCopyWarning: \n",
      "A value is trying to be set on a copy of a slice from a DataFrame.\n",
      "Try using .loc[row_indexer,col_indexer] = value instead\n",
      "\n",
      "See the caveats in the documentation: https://pandas.pydata.org/pandas-docs/stable/user_guide/indexing.html#returning-a-view-versus-a-copy\n",
      "  copy_df['week_day']= copy_df['date'].dt.dayofweek\n"
     ]
    }
   ],
   "source": [
    "copy_df['week_day']= copy_df['date'].dt.dayofweek\n",
    "#Monday-0, Sunday-6"
   ]
  },
  {
   "cell_type": "markdown",
   "id": "e473864d",
   "metadata": {},
   "source": [
    "## Board Design"
   ]
  },
  {
   "cell_type": "code",
   "execution_count": 330,
   "id": "7b672a91",
   "metadata": {},
   "outputs": [
    {
     "data": {},
     "metadata": {},
     "output_type": "display_data"
    },
    {
     "data": {
      "application/vnd.holoviews_exec.v0+json": "",
      "text/html": [
       "<div id='38524'>\n",
       "  <div class=\"bk-root\" id=\"db543cca-7579-484c-a0a8-c6e462a7c478\" data-root-id=\"38524\"></div>\n",
       "</div>\n",
       "<script type=\"application/javascript\">(function(root) {\n",
       "  function embed_document(root) {\n",
       "    var docs_json = {\"44f8a729-bc3b-4d04-a648-d882e9baee0e\":{\"defs\":[{\"extends\":null,\"module\":null,\"name\":\"ReactiveHTML1\",\"overrides\":[],\"properties\":[]},{\"extends\":null,\"module\":null,\"name\":\"FlexBox1\",\"overrides\":[],\"properties\":[{\"default\":\"flex-start\",\"kind\":null,\"name\":\"align_content\"},{\"default\":\"flex-start\",\"kind\":null,\"name\":\"align_items\"},{\"default\":\"row\",\"kind\":null,\"name\":\"flex_direction\"},{\"default\":\"wrap\",\"kind\":null,\"name\":\"flex_wrap\"},{\"default\":\"flex-start\",\"kind\":null,\"name\":\"justify_content\"}]},{\"extends\":null,\"module\":null,\"name\":\"GridStack1\",\"overrides\":[],\"properties\":[{\"default\":\"warn\",\"kind\":null,\"name\":\"mode\"},{\"default\":null,\"kind\":null,\"name\":\"ncols\"},{\"default\":null,\"kind\":null,\"name\":\"nrows\"},{\"default\":true,\"kind\":null,\"name\":\"allow_resize\"},{\"default\":true,\"kind\":null,\"name\":\"allow_drag\"},{\"default\":[],\"kind\":null,\"name\":\"state\"}]},{\"extends\":null,\"module\":null,\"name\":\"click1\",\"overrides\":[],\"properties\":[{\"default\":\"\",\"kind\":null,\"name\":\"terminal_output\"},{\"default\":\"\",\"kind\":null,\"name\":\"debug_name\"},{\"default\":0,\"kind\":null,\"name\":\"clears\"}]},{\"extends\":null,\"module\":null,\"name\":\"NotificationAreaBase1\",\"overrides\":[],\"properties\":[{\"default\":\"bottom-right\",\"kind\":null,\"name\":\"position\"},{\"default\":0,\"kind\":null,\"name\":\"_clear\"}]},{\"extends\":null,\"module\":null,\"name\":\"NotificationArea1\",\"overrides\":[],\"properties\":[{\"default\":[],\"kind\":null,\"name\":\"notifications\"},{\"default\":\"bottom-right\",\"kind\":null,\"name\":\"position\"},{\"default\":0,\"kind\":null,\"name\":\"_clear\"},{\"default\":[{\"background\":\"#ffc107\",\"icon\":{\"className\":\"fas fa-exclamation-triangle\",\"color\":\"white\",\"tagName\":\"i\"},\"type\":\"warning\"},{\"background\":\"#007bff\",\"icon\":{\"className\":\"fas fa-info-circle\",\"color\":\"white\",\"tagName\":\"i\"},\"type\":\"info\"}],\"kind\":null,\"name\":\"types\"}]},{\"extends\":null,\"module\":null,\"name\":\"Notification\",\"overrides\":[],\"properties\":[{\"default\":null,\"kind\":null,\"name\":\"background\"},{\"default\":3000,\"kind\":null,\"name\":\"duration\"},{\"default\":null,\"kind\":null,\"name\":\"icon\"},{\"default\":\"\",\"kind\":null,\"name\":\"message\"},{\"default\":null,\"kind\":null,\"name\":\"notification_type\"},{\"default\":false,\"kind\":null,\"name\":\"_destroyed\"}]},{\"extends\":null,\"module\":null,\"name\":\"TemplateActions1\",\"overrides\":[],\"properties\":[{\"default\":0,\"kind\":null,\"name\":\"open_modal\"},{\"default\":0,\"kind\":null,\"name\":\"close_modal\"}]},{\"extends\":null,\"module\":null,\"name\":\"MaterialTemplateActions1\",\"overrides\":[],\"properties\":[{\"default\":0,\"kind\":null,\"name\":\"open_modal\"},{\"default\":0,\"kind\":null,\"name\":\"close_modal\"}]}],\"roots\":{\"references\":[{\"attributes\":{\"children\":[{\"id\":\"38526\"},{\"id\":\"38529\"}],\"margin\":[0,0,0,0],\"name\":\"Column186235\"},\"id\":\"38525\",\"type\":\"Column\"},{\"attributes\":{\"margin\":[5,5,5,5],\"name\":\"interactive186198\",\"text\":\"&lt;pre&gt;Index([&#x27;iso_code&#x27;, &#x27;continent&#x27;, &#x27;location&#x27;, &#x27;date&#x27;, &#x27;total_cases&#x27;, &#x27;new_cases&#x27;,\\n       &#x27;new_cases_smoothed&#x27;, &#x27;total_deaths&#x27;, &#x27;new_deaths&#x27;,\\n       &#x27;new_deaths_smoothed&#x27;, &#x27;icu_patients&#x27;, &#x27;icu_patients_per_million&#x27;,\\n       &#x27;hosp_patients&#x27;, &#x27;hosp_patients_per_million&#x27;, &#x27;weekly_icu_admissions&#x27;,\\n       &#x27;weekly_icu_admissions_per_million&#x27;, &#x27;weekly_hosp_admissions&#x27;,\\n       &#x27;weekly_hosp_admissions_per_million&#x27;, &#x27;year&#x27;, &#x27;month&#x27;, &#x27;day&#x27;,\\n       &#x27;week_day&#x27;],\\n      dtype=&#x27;object&#x27;)&lt;/pre&gt;\"},\"id\":\"38532\",\"type\":\"panel.models.markup.HTML\"},{\"attributes\":{\"children\":[{\"id\":\"38525\"}],\"margin\":[0,0,0,0],\"name\":\"Row186236\"},\"id\":\"38524\",\"type\":\"Row\"},{\"attributes\":{\"client_comm_id\":\"b8972a1c73d24123b4687dc4e70b6a98\",\"comm_id\":\"bfa633aa39aa499e89aa1dd3df75ce24\",\"plot_id\":\"38524\"},\"id\":\"38533\",\"type\":\"panel.models.comm_manager.CommManager\"},{\"attributes\":{\"children\":[{\"id\":\"38532\"}],\"margin\":[0,0,0,0],\"name\":\"Row186231\"},\"id\":\"38531\",\"type\":\"Row\"},{\"attributes\":{\"margin\":[5,5,5,5],\"name\":\"HSpacer186233\",\"sizing_mode\":\"stretch_width\"},\"id\":\"38528\",\"type\":\"Spacer\"},{\"attributes\":{\"children\":[{\"id\":\"38530\"},{\"id\":\"38531\"}],\"margin\":[0,0,0,0],\"name\":\"Column186199\"},\"id\":\"38529\",\"type\":\"Column\"},{\"attributes\":{\"margin\":[0,0,0,0],\"name\":\"Column186197\"},\"id\":\"38527\",\"type\":\"Column\"},{\"attributes\":{\"children\":[{\"id\":\"38527\"},{\"id\":\"38528\"}],\"margin\":[0,0,0,0],\"name\":\"Row186234\"},\"id\":\"38526\",\"type\":\"Row\"},{\"attributes\":{\"margin\":[0,0,0,0],\"name\":\"Column186232\"},\"id\":\"38530\",\"type\":\"Column\"}],\"root_ids\":[\"38524\",\"38533\"]},\"title\":\"Bokeh Application\",\"version\":\"2.4.3\"}};\n",
       "    var render_items = [{\"docid\":\"44f8a729-bc3b-4d04-a648-d882e9baee0e\",\"root_ids\":[\"38524\"],\"roots\":{\"38524\":\"db543cca-7579-484c-a0a8-c6e462a7c478\"}}];\n",
       "    root.Bokeh.embed.embed_items_notebook(docs_json, render_items);\n",
       "    for (const render_item of render_items) {\n",
       "      for (const root_id of render_item.root_ids) {\n",
       "\tconst id_el = document.getElementById(root_id)\n",
       "\tif (id_el.children.length && (id_el.children[0].className === 'bk-root')) {\n",
       "\t  const root_el = id_el.children[0]\n",
       "\t  root_el.id = root_el.id + '-rendered'\n",
       "\t}\n",
       "      }\n",
       "    }\n",
       "  }\n",
       "  if (root.Bokeh !== undefined && root.Bokeh.Panel !== undefined && ( root['Tabulator'] !== undefined) && ( root['Tabulator'] !== undefined) && ( root['Tabulator'] !== undefined) && ( root['Tabulator'] !== undefined) && ( root['Tabulator'] !== undefined)) {\n",
       "    embed_document(root);\n",
       "  } else {\n",
       "    var attempts = 0;\n",
       "    var timer = setInterval(function(root) {\n",
       "      if (root.Bokeh !== undefined && root.Bokeh.Panel !== undefined && (root['Tabulator'] !== undefined) && (root['Tabulator'] !== undefined) && (root['Tabulator'] !== undefined) && (root['Tabulator'] !== undefined) && (root['Tabulator'] !== undefined)) {\n",
       "        clearInterval(timer);\n",
       "        embed_document(root);\n",
       "      } else if (document.readyState == \"complete\") {\n",
       "        attempts++;\n",
       "        if (attempts > 200) {\n",
       "          clearInterval(timer);\n",
       "          console.log(\"Bokeh: ERROR: Unable to run BokehJS code because BokehJS library is missing\");\n",
       "        }\n",
       "      }\n",
       "    }, 25, root)\n",
       "  }\n",
       "})(window);</script>"
      ],
      "text/plain": [
       "<hvplot.interactive.Interactive at 0x224232dc5b0>"
      ]
     },
     "execution_count": 330,
     "metadata": {
      "application/vnd.holoviews_exec.v0+json": {
       "id": "38524"
      }
     },
     "output_type": "execute_result"
    }
   ],
   "source": [
    "#interactive -idf\n",
    "idf = copy_df.interactive()\n",
    "idf.columns"
   ]
  },
  {
   "cell_type": "code",
   "execution_count": 331,
   "id": "278bbe06",
   "metadata": {},
   "outputs": [
    {
     "data": {},
     "metadata": {},
     "output_type": "display_data"
    },
    {
     "data": {
      "application/vnd.holoviews_exec.v0+json": "",
      "text/html": [
       "<div id='38534'>\n",
       "  <div class=\"bk-root\" id=\"1632bce0-83ae-48a4-aadc-0ffbcf38d48d\" data-root-id=\"38534\"></div>\n",
       "</div>\n",
       "<script type=\"application/javascript\">(function(root) {\n",
       "  function embed_document(root) {\n",
       "    var docs_json = {\"34be7997-6d80-4c4e-8bbf-94ec6ea45c8b\":{\"defs\":[{\"extends\":null,\"module\":null,\"name\":\"ReactiveHTML1\",\"overrides\":[],\"properties\":[]},{\"extends\":null,\"module\":null,\"name\":\"FlexBox1\",\"overrides\":[],\"properties\":[{\"default\":\"flex-start\",\"kind\":null,\"name\":\"align_content\"},{\"default\":\"flex-start\",\"kind\":null,\"name\":\"align_items\"},{\"default\":\"row\",\"kind\":null,\"name\":\"flex_direction\"},{\"default\":\"wrap\",\"kind\":null,\"name\":\"flex_wrap\"},{\"default\":\"flex-start\",\"kind\":null,\"name\":\"justify_content\"}]},{\"extends\":null,\"module\":null,\"name\":\"GridStack1\",\"overrides\":[],\"properties\":[{\"default\":\"warn\",\"kind\":null,\"name\":\"mode\"},{\"default\":null,\"kind\":null,\"name\":\"ncols\"},{\"default\":null,\"kind\":null,\"name\":\"nrows\"},{\"default\":true,\"kind\":null,\"name\":\"allow_resize\"},{\"default\":true,\"kind\":null,\"name\":\"allow_drag\"},{\"default\":[],\"kind\":null,\"name\":\"state\"}]},{\"extends\":null,\"module\":null,\"name\":\"click1\",\"overrides\":[],\"properties\":[{\"default\":\"\",\"kind\":null,\"name\":\"terminal_output\"},{\"default\":\"\",\"kind\":null,\"name\":\"debug_name\"},{\"default\":0,\"kind\":null,\"name\":\"clears\"}]},{\"extends\":null,\"module\":null,\"name\":\"NotificationAreaBase1\",\"overrides\":[],\"properties\":[{\"default\":\"bottom-right\",\"kind\":null,\"name\":\"position\"},{\"default\":0,\"kind\":null,\"name\":\"_clear\"}]},{\"extends\":null,\"module\":null,\"name\":\"NotificationArea1\",\"overrides\":[],\"properties\":[{\"default\":[],\"kind\":null,\"name\":\"notifications\"},{\"default\":\"bottom-right\",\"kind\":null,\"name\":\"position\"},{\"default\":0,\"kind\":null,\"name\":\"_clear\"},{\"default\":[{\"background\":\"#ffc107\",\"icon\":{\"className\":\"fas fa-exclamation-triangle\",\"color\":\"white\",\"tagName\":\"i\"},\"type\":\"warning\"},{\"background\":\"#007bff\",\"icon\":{\"className\":\"fas fa-info-circle\",\"color\":\"white\",\"tagName\":\"i\"},\"type\":\"info\"}],\"kind\":null,\"name\":\"types\"}]},{\"extends\":null,\"module\":null,\"name\":\"Notification\",\"overrides\":[],\"properties\":[{\"default\":null,\"kind\":null,\"name\":\"background\"},{\"default\":3000,\"kind\":null,\"name\":\"duration\"},{\"default\":null,\"kind\":null,\"name\":\"icon\"},{\"default\":\"\",\"kind\":null,\"name\":\"message\"},{\"default\":null,\"kind\":null,\"name\":\"notification_type\"},{\"default\":false,\"kind\":null,\"name\":\"_destroyed\"}]},{\"extends\":null,\"module\":null,\"name\":\"TemplateActions1\",\"overrides\":[],\"properties\":[{\"default\":0,\"kind\":null,\"name\":\"open_modal\"},{\"default\":0,\"kind\":null,\"name\":\"close_modal\"}]},{\"extends\":null,\"module\":null,\"name\":\"MaterialTemplateActions1\",\"overrides\":[],\"properties\":[{\"default\":0,\"kind\":null,\"name\":\"open_modal\"},{\"default\":0,\"kind\":null,\"name\":\"close_modal\"}]}],\"roots\":{\"references\":[{\"attributes\":{\"end\":2023,\"margin\":[5,10,5,10],\"start\":2020,\"title\":\"Year slider\",\"value\":2020},\"id\":\"38534\",\"type\":\"Slider\"},{\"attributes\":{\"client_comm_id\":\"4d61fb6aa41643ef84fbb31ae06fa0fc\",\"comm_id\":\"bd8d0c82945e43c8843d7d2a772176fb\",\"plot_id\":\"38534\"},\"id\":\"38535\",\"type\":\"panel.models.comm_manager.CommManager\"}],\"root_ids\":[\"38534\",\"38535\"]},\"title\":\"Bokeh Application\",\"version\":\"2.4.3\"}};\n",
       "    var render_items = [{\"docid\":\"34be7997-6d80-4c4e-8bbf-94ec6ea45c8b\",\"root_ids\":[\"38534\"],\"roots\":{\"38534\":\"1632bce0-83ae-48a4-aadc-0ffbcf38d48d\"}}];\n",
       "    root.Bokeh.embed.embed_items_notebook(docs_json, render_items);\n",
       "    for (const render_item of render_items) {\n",
       "      for (const root_id of render_item.root_ids) {\n",
       "\tconst id_el = document.getElementById(root_id)\n",
       "\tif (id_el.children.length && (id_el.children[0].className === 'bk-root')) {\n",
       "\t  const root_el = id_el.children[0]\n",
       "\t  root_el.id = root_el.id + '-rendered'\n",
       "\t}\n",
       "      }\n",
       "    }\n",
       "  }\n",
       "  if (root.Bokeh !== undefined && root.Bokeh.Panel !== undefined && ( root['Tabulator'] !== undefined) && ( root['Tabulator'] !== undefined) && ( root['Tabulator'] !== undefined) && ( root['Tabulator'] !== undefined) && ( root['Tabulator'] !== undefined)) {\n",
       "    embed_document(root);\n",
       "  } else {\n",
       "    var attempts = 0;\n",
       "    var timer = setInterval(function(root) {\n",
       "      if (root.Bokeh !== undefined && root.Bokeh.Panel !== undefined && (root['Tabulator'] !== undefined) && (root['Tabulator'] !== undefined) && (root['Tabulator'] !== undefined) && (root['Tabulator'] !== undefined) && (root['Tabulator'] !== undefined)) {\n",
       "        clearInterval(timer);\n",
       "        embed_document(root);\n",
       "      } else if (document.readyState == \"complete\") {\n",
       "        attempts++;\n",
       "        if (attempts > 200) {\n",
       "          clearInterval(timer);\n",
       "          console.log(\"Bokeh: ERROR: Unable to run BokehJS code because BokehJS library is missing\");\n",
       "        }\n",
       "      }\n",
       "    }, 25, root)\n",
       "  }\n",
       "})(window);</script>"
      ],
      "text/plain": [
       "IntSlider(end=2023, name='Year slider', start=2020, value=2020)"
      ]
     },
     "execution_count": 331,
     "metadata": {
      "application/vnd.holoviews_exec.v0+json": {
       "id": "38534"
      }
     },
     "output_type": "execute_result"
    }
   ],
   "source": [
    "# Define Panel widgets\n",
    "year_slider = pn.widgets.IntSlider(name='Year slider', start=2020, end=2023, step=1)\n",
    "year_slider"
   ]
  },
  {
   "cell_type": "markdown",
   "id": "7af30d8e",
   "metadata": {},
   "source": [
    "## Graph 1 - Hospital patients over time (#4 in the dashboard)"
   ]
  },
  {
   "cell_type": "code",
   "execution_count": 332,
   "id": "27a838fa",
   "metadata": {},
   "outputs": [
    {
     "data": {},
     "metadata": {},
     "output_type": "display_data"
    },
    {
     "data": {
      "application/vnd.holoviews_exec.v0+json": "",
      "text/html": [
       "<div id='38536'>\n",
       "  <div class=\"bk-root\" id=\"c6fe8dca-b1d9-4d90-a5fe-245e337a7fcb\" data-root-id=\"38536\"></div>\n",
       "</div>\n",
       "<script type=\"application/javascript\">(function(root) {\n",
       "  function embed_document(root) {\n",
       "    var docs_json = {\"ad6a66b8-5a14-4ce7-8eb5-dcde6f90b263\":{\"defs\":[{\"extends\":null,\"module\":null,\"name\":\"ReactiveHTML1\",\"overrides\":[],\"properties\":[]},{\"extends\":null,\"module\":null,\"name\":\"FlexBox1\",\"overrides\":[],\"properties\":[{\"default\":\"flex-start\",\"kind\":null,\"name\":\"align_content\"},{\"default\":\"flex-start\",\"kind\":null,\"name\":\"align_items\"},{\"default\":\"row\",\"kind\":null,\"name\":\"flex_direction\"},{\"default\":\"wrap\",\"kind\":null,\"name\":\"flex_wrap\"},{\"default\":\"flex-start\",\"kind\":null,\"name\":\"justify_content\"}]},{\"extends\":null,\"module\":null,\"name\":\"GridStack1\",\"overrides\":[],\"properties\":[{\"default\":\"warn\",\"kind\":null,\"name\":\"mode\"},{\"default\":null,\"kind\":null,\"name\":\"ncols\"},{\"default\":null,\"kind\":null,\"name\":\"nrows\"},{\"default\":true,\"kind\":null,\"name\":\"allow_resize\"},{\"default\":true,\"kind\":null,\"name\":\"allow_drag\"},{\"default\":[],\"kind\":null,\"name\":\"state\"}]},{\"extends\":null,\"module\":null,\"name\":\"click1\",\"overrides\":[],\"properties\":[{\"default\":\"\",\"kind\":null,\"name\":\"terminal_output\"},{\"default\":\"\",\"kind\":null,\"name\":\"debug_name\"},{\"default\":0,\"kind\":null,\"name\":\"clears\"}]},{\"extends\":null,\"module\":null,\"name\":\"NotificationAreaBase1\",\"overrides\":[],\"properties\":[{\"default\":\"bottom-right\",\"kind\":null,\"name\":\"position\"},{\"default\":0,\"kind\":null,\"name\":\"_clear\"}]},{\"extends\":null,\"module\":null,\"name\":\"NotificationArea1\",\"overrides\":[],\"properties\":[{\"default\":[],\"kind\":null,\"name\":\"notifications\"},{\"default\":\"bottom-right\",\"kind\":null,\"name\":\"position\"},{\"default\":0,\"kind\":null,\"name\":\"_clear\"},{\"default\":[{\"background\":\"#ffc107\",\"icon\":{\"className\":\"fas fa-exclamation-triangle\",\"color\":\"white\",\"tagName\":\"i\"},\"type\":\"warning\"},{\"background\":\"#007bff\",\"icon\":{\"className\":\"fas fa-info-circle\",\"color\":\"white\",\"tagName\":\"i\"},\"type\":\"info\"}],\"kind\":null,\"name\":\"types\"}]},{\"extends\":null,\"module\":null,\"name\":\"Notification\",\"overrides\":[],\"properties\":[{\"default\":null,\"kind\":null,\"name\":\"background\"},{\"default\":3000,\"kind\":null,\"name\":\"duration\"},{\"default\":null,\"kind\":null,\"name\":\"icon\"},{\"default\":\"\",\"kind\":null,\"name\":\"message\"},{\"default\":null,\"kind\":null,\"name\":\"notification_type\"},{\"default\":false,\"kind\":null,\"name\":\"_destroyed\"}]},{\"extends\":null,\"module\":null,\"name\":\"TemplateActions1\",\"overrides\":[],\"properties\":[{\"default\":0,\"kind\":null,\"name\":\"open_modal\"},{\"default\":0,\"kind\":null,\"name\":\"close_modal\"}]},{\"extends\":null,\"module\":null,\"name\":\"MaterialTemplateActions1\",\"overrides\":[],\"properties\":[{\"default\":0,\"kind\":null,\"name\":\"open_modal\"},{\"default\":0,\"kind\":null,\"name\":\"close_modal\"}]}],\"roots\":{\"references\":[{\"attributes\":{\"client_comm_id\":\"352295dccb6c471880254eb3f356f3e7\",\"comm_id\":\"5640396f2f6a4cc0a008d4b20b554e34\",\"plot_id\":\"38536\"},\"id\":\"38537\",\"type\":\"panel.models.comm_manager.CommManager\"},{\"attributes\":{\"active\":0,\"button_type\":\"success\",\"labels\":[\"hosp_patients\",\"hosp_patients_per_million\"],\"margin\":[5,10,5,10]},\"id\":\"38536\",\"type\":\"RadioButtonGroup\"}],\"root_ids\":[\"38536\",\"38537\"]},\"title\":\"Bokeh Application\",\"version\":\"2.4.3\"}};\n",
       "    var render_items = [{\"docid\":\"ad6a66b8-5a14-4ce7-8eb5-dcde6f90b263\",\"root_ids\":[\"38536\"],\"roots\":{\"38536\":\"c6fe8dca-b1d9-4d90-a5fe-245e337a7fcb\"}}];\n",
       "    root.Bokeh.embed.embed_items_notebook(docs_json, render_items);\n",
       "    for (const render_item of render_items) {\n",
       "      for (const root_id of render_item.root_ids) {\n",
       "\tconst id_el = document.getElementById(root_id)\n",
       "\tif (id_el.children.length && (id_el.children[0].className === 'bk-root')) {\n",
       "\t  const root_el = id_el.children[0]\n",
       "\t  root_el.id = root_el.id + '-rendered'\n",
       "\t}\n",
       "      }\n",
       "    }\n",
       "  }\n",
       "  if (root.Bokeh !== undefined && root.Bokeh.Panel !== undefined && ( root['Tabulator'] !== undefined) && ( root['Tabulator'] !== undefined) && ( root['Tabulator'] !== undefined) && ( root['Tabulator'] !== undefined) && ( root['Tabulator'] !== undefined)) {\n",
       "    embed_document(root);\n",
       "  } else {\n",
       "    var attempts = 0;\n",
       "    var timer = setInterval(function(root) {\n",
       "      if (root.Bokeh !== undefined && root.Bokeh.Panel !== undefined && (root['Tabulator'] !== undefined) && (root['Tabulator'] !== undefined) && (root['Tabulator'] !== undefined) && (root['Tabulator'] !== undefined) && (root['Tabulator'] !== undefined)) {\n",
       "        clearInterval(timer);\n",
       "        embed_document(root);\n",
       "      } else if (document.readyState == \"complete\") {\n",
       "        attempts++;\n",
       "        if (attempts > 200) {\n",
       "          clearInterval(timer);\n",
       "          console.log(\"Bokeh: ERROR: Unable to run BokehJS code because BokehJS library is missing\");\n",
       "        }\n",
       "      }\n",
       "    }, 25, root)\n",
       "  }\n",
       "})(window);</script>"
      ],
      "text/plain": [
       "RadioButtonGroup(button_type='success', name='Y axis', options=['hosp_patients', ...], value='hosp_patients')"
      ]
     },
     "execution_count": 332,
     "metadata": {
      "application/vnd.holoviews_exec.v0+json": {
       "id": "38536"
      }
     },
     "output_type": "execute_result"
    }
   ],
   "source": [
    "# Radio buttons for hosp patients measures\n",
    "yaxis_hosp_p = pn.widgets.RadioButtonGroup(\n",
    "    name='Y axis', \n",
    "    options=['hosp_patients', 'hosp_patients_per_million',],\n",
    "    button_type='success'\n",
    ")\n",
    "yaxis_hosp_p"
   ]
  },
  {
   "cell_type": "code",
   "execution_count": 333,
   "id": "6b0963c8",
   "metadata": {},
   "outputs": [
    {
     "data": {
      "text/plain": [
       "(Timestamp('2020-01-01 00:00:00'), Timestamp('2023-01-16 00:00:00'))"
      ]
     },
     "execution_count": 333,
     "metadata": {},
     "output_type": "execute_result"
    }
   ],
   "source": [
    "#check:\n",
    "min_date= min(copy_df['date'])\n",
    "max_date = max(copy_df['date'])\n",
    "min_date, max_date"
   ]
  },
  {
   "cell_type": "code",
   "execution_count": 334,
   "id": "894ea154",
   "metadata": {},
   "outputs": [
    {
     "name": "stderr",
     "output_type": "stream",
     "text": [
      "C:\\Users\\adaro\\AppData\\Local\\Temp\\ipykernel_12392\\95982463.py:1: SettingWithCopyWarning: \n",
      "A value is trying to be set on a copy of a slice from a DataFrame.\n",
      "Try using .loc[row_indexer,col_indexer] = value instead\n",
      "\n",
      "See the caveats in the documentation: https://pandas.pydata.org/pandas-docs/stable/user_guide/indexing.html#returning-a-view-versus-a-copy\n",
      "  copy_df['date_only'] = copy_df['date'].dt.date\n"
     ]
    }
   ],
   "source": [
    "copy_df['date_only'] = copy_df['date'].dt.date"
   ]
  },
  {
   "cell_type": "code",
   "execution_count": 335,
   "id": "846ded0f",
   "metadata": {},
   "outputs": [],
   "source": [
    "idf = copy_df.interactive()"
   ]
  },
  {
   "cell_type": "code",
   "execution_count": 336,
   "id": "c16f4565",
   "metadata": {},
   "outputs": [],
   "source": [
    "#2020-01-01\n",
    "#2023-01-16\n",
    "import datetime as dt\n",
    "# Define Panel widgets - for graph 1\n",
    "year_slider = pn.widgets.IntSlider(name='Year slider', start=2020, end=2023, step=1, value=2022)"
   ]
  },
  {
   "cell_type": "code",
   "execution_count": 337,
   "id": "25c6ee81",
   "metadata": {},
   "outputs": [
    {
     "data": {},
     "metadata": {},
     "output_type": "display_data"
    },
    {
     "data": {
      "application/vnd.holoviews_exec.v0+json": "",
      "text/html": [
       "<div id='38538'>\n",
       "  <div class=\"bk-root\" id=\"4c2c4a39-64ef-4ffe-80fa-0575085fdc32\" data-root-id=\"38538\"></div>\n",
       "</div>\n",
       "<script type=\"application/javascript\">(function(root) {\n",
       "  function embed_document(root) {\n",
       "    var docs_json = {\"444dfcea-a58c-4f6e-acd2-23cddc4e1100\":{\"defs\":[{\"extends\":null,\"module\":null,\"name\":\"ReactiveHTML1\",\"overrides\":[],\"properties\":[]},{\"extends\":null,\"module\":null,\"name\":\"FlexBox1\",\"overrides\":[],\"properties\":[{\"default\":\"flex-start\",\"kind\":null,\"name\":\"align_content\"},{\"default\":\"flex-start\",\"kind\":null,\"name\":\"align_items\"},{\"default\":\"row\",\"kind\":null,\"name\":\"flex_direction\"},{\"default\":\"wrap\",\"kind\":null,\"name\":\"flex_wrap\"},{\"default\":\"flex-start\",\"kind\":null,\"name\":\"justify_content\"}]},{\"extends\":null,\"module\":null,\"name\":\"GridStack1\",\"overrides\":[],\"properties\":[{\"default\":\"warn\",\"kind\":null,\"name\":\"mode\"},{\"default\":null,\"kind\":null,\"name\":\"ncols\"},{\"default\":null,\"kind\":null,\"name\":\"nrows\"},{\"default\":true,\"kind\":null,\"name\":\"allow_resize\"},{\"default\":true,\"kind\":null,\"name\":\"allow_drag\"},{\"default\":[],\"kind\":null,\"name\":\"state\"}]},{\"extends\":null,\"module\":null,\"name\":\"click1\",\"overrides\":[],\"properties\":[{\"default\":\"\",\"kind\":null,\"name\":\"terminal_output\"},{\"default\":\"\",\"kind\":null,\"name\":\"debug_name\"},{\"default\":0,\"kind\":null,\"name\":\"clears\"}]},{\"extends\":null,\"module\":null,\"name\":\"NotificationAreaBase1\",\"overrides\":[],\"properties\":[{\"default\":\"bottom-right\",\"kind\":null,\"name\":\"position\"},{\"default\":0,\"kind\":null,\"name\":\"_clear\"}]},{\"extends\":null,\"module\":null,\"name\":\"NotificationArea1\",\"overrides\":[],\"properties\":[{\"default\":[],\"kind\":null,\"name\":\"notifications\"},{\"default\":\"bottom-right\",\"kind\":null,\"name\":\"position\"},{\"default\":0,\"kind\":null,\"name\":\"_clear\"},{\"default\":[{\"background\":\"#ffc107\",\"icon\":{\"className\":\"fas fa-exclamation-triangle\",\"color\":\"white\",\"tagName\":\"i\"},\"type\":\"warning\"},{\"background\":\"#007bff\",\"icon\":{\"className\":\"fas fa-info-circle\",\"color\":\"white\",\"tagName\":\"i\"},\"type\":\"info\"}],\"kind\":null,\"name\":\"types\"}]},{\"extends\":null,\"module\":null,\"name\":\"Notification\",\"overrides\":[],\"properties\":[{\"default\":null,\"kind\":null,\"name\":\"background\"},{\"default\":3000,\"kind\":null,\"name\":\"duration\"},{\"default\":null,\"kind\":null,\"name\":\"icon\"},{\"default\":\"\",\"kind\":null,\"name\":\"message\"},{\"default\":null,\"kind\":null,\"name\":\"notification_type\"},{\"default\":false,\"kind\":null,\"name\":\"_destroyed\"}]},{\"extends\":null,\"module\":null,\"name\":\"TemplateActions1\",\"overrides\":[],\"properties\":[{\"default\":0,\"kind\":null,\"name\":\"open_modal\"},{\"default\":0,\"kind\":null,\"name\":\"close_modal\"}]},{\"extends\":null,\"module\":null,\"name\":\"MaterialTemplateActions1\",\"overrides\":[],\"properties\":[{\"default\":0,\"kind\":null,\"name\":\"open_modal\"},{\"default\":0,\"kind\":null,\"name\":\"close_modal\"}]}],\"roots\":{\"references\":[{\"attributes\":{\"children\":[{\"id\":\"38541\"},{\"id\":\"38544\"}],\"margin\":[0,0,0,0],\"name\":\"Row187078\"},\"id\":\"38540\",\"type\":\"Row\"},{\"attributes\":{\"children\":[{\"id\":\"38546\"}],\"margin\":[0,0,0,0],\"name\":\"Row187041\"},\"id\":\"38545\",\"type\":\"Row\"},{\"attributes\":{\"children\":[{\"id\":\"38542\"},{\"id\":\"38543\"}],\"margin\":[0,0,0,0],\"name\":\"Column187036\"},\"id\":\"38541\",\"type\":\"Column\"},{\"attributes\":{\"end\":2023,\"margin\":[5,10,5,10],\"start\":2020,\"title\":\"Year slider\",\"value\":2022},\"id\":\"38542\",\"type\":\"Slider\"},{\"attributes\":{\"client_comm_id\":\"41581846a01d4026ba8bd6e340545638\",\"comm_id\":\"1fb0c7519def4f1d911a215a9dbd7a2b\",\"plot_id\":\"38538\"},\"id\":\"38547\",\"type\":\"panel.models.comm_manager.CommManager\"},{\"attributes\":{\"children\":[{\"id\":\"38540\"},{\"id\":\"38545\"}],\"margin\":[0,0,0,0],\"name\":\"Column187079\"},\"id\":\"38539\",\"type\":\"Column\"},{\"attributes\":{\"active\":0,\"button_type\":\"success\",\"labels\":[\"hosp_patients\",\"hosp_patients_per_million\"],\"margin\":[5,10,5,10]},\"id\":\"38543\",\"type\":\"RadioButtonGroup\"},{\"attributes\":{\"margin\":[5,5,5,5],\"name\":\"HSpacer187077\",\"sizing_mode\":\"stretch_width\"},\"id\":\"38544\",\"type\":\"Spacer\"},{\"attributes\":{\"children\":[{\"id\":\"38539\"}],\"margin\":[0,0,0,0],\"name\":\"Row187080\"},\"id\":\"38538\",\"type\":\"Row\"},{\"attributes\":{\"margin\":[5,5,5,5],\"name\":\"DataFrame187075\",\"text\":\"&lt;table class=&quot;dataframe panel-df&quot;&gt;\\n  &lt;thead&gt;\\n    &lt;tr style=&quot;text-align: right;&quot;&gt;\\n      &lt;th&gt;&lt;/th&gt;\\n      &lt;th&gt;continent&lt;/th&gt;\\n      &lt;th&gt;year&lt;/th&gt;\\n      &lt;th&gt;hosp_patients&lt;/th&gt;\\n    &lt;/tr&gt;\\n  &lt;/thead&gt;\\n  &lt;tbody&gt;\\n    &lt;tr&gt;\\n      &lt;th&gt;0&lt;/th&gt;\\n      &lt;td&gt;Africa&lt;/td&gt;\\n      &lt;td&gt;2020&lt;/td&gt;\\n      &lt;td&gt;5006.359073&lt;/td&gt;\\n    &lt;/tr&gt;\\n    &lt;tr&gt;\\n      &lt;th&gt;1&lt;/th&gt;\\n      &lt;td&gt;South America&lt;/td&gt;\\n      &lt;td&gt;2020&lt;/td&gt;\\n      &lt;td&gt;NaN&lt;/td&gt;\\n    &lt;/tr&gt;\\n    &lt;tr&gt;\\n      &lt;th&gt;2&lt;/th&gt;\\n      &lt;td&gt;Asia&lt;/td&gt;\\n      &lt;td&gt;2020&lt;/td&gt;\\n      &lt;td&gt;1051.625000&lt;/td&gt;\\n    &lt;/tr&gt;\\n    &lt;tr&gt;\\n      &lt;th&gt;3&lt;/th&gt;\\n      &lt;td&gt;Europe&lt;/td&gt;\\n      &lt;td&gt;2020&lt;/td&gt;\\n      &lt;td&gt;2483.508507&lt;/td&gt;\\n    &lt;/tr&gt;\\n    &lt;tr&gt;\\n      &lt;th&gt;4&lt;/th&gt;\\n      &lt;td&gt;North America&lt;/td&gt;\\n      &lt;td&gt;2020&lt;/td&gt;\\n      &lt;td&gt;22028.184270&lt;/td&gt;\\n    &lt;/tr&gt;\\n    &lt;tr&gt;\\n      &lt;th&gt;5&lt;/th&gt;\\n      &lt;td&gt;Oceania&lt;/td&gt;\\n      &lt;td&gt;2020&lt;/td&gt;\\n      &lt;td&gt;143.565217&lt;/td&gt;\\n    &lt;/tr&gt;\\n    &lt;tr&gt;\\n      &lt;th&gt;6&lt;/th&gt;\\n      &lt;td&gt;Africa&lt;/td&gt;\\n      &lt;td&gt;2021&lt;/td&gt;\\n      &lt;td&gt;8551.882192&lt;/td&gt;\\n    &lt;/tr&gt;\\n    &lt;tr&gt;\\n      &lt;th&gt;7&lt;/th&gt;\\n      &lt;td&gt;Asia&lt;/td&gt;\\n      &lt;td&gt;2021&lt;/td&gt;\\n      &lt;td&gt;3793.620205&lt;/td&gt;\\n    &lt;/tr&gt;\\n    &lt;tr&gt;\\n      &lt;th&gt;8&lt;/th&gt;\\n      &lt;td&gt;Europe&lt;/td&gt;\\n      &lt;td&gt;2021&lt;/td&gt;\\n      &lt;td&gt;2984.336396&lt;/td&gt;\\n    &lt;/tr&gt;\\n    &lt;tr&gt;\\n      &lt;th&gt;9&lt;/th&gt;\\n      &lt;td&gt;South America&lt;/td&gt;\\n      &lt;td&gt;2021&lt;/td&gt;\\n      &lt;td&gt;1052.747899&lt;/td&gt;\\n    &lt;/tr&gt;\\n    &lt;tr&gt;\\n      &lt;th&gt;10&lt;/th&gt;\\n      &lt;td&gt;North America&lt;/td&gt;\\n      &lt;td&gt;2021&lt;/td&gt;\\n      &lt;td&gt;28289.160274&lt;/td&gt;\\n    &lt;/tr&gt;\\n    &lt;tr&gt;\\n      &lt;th&gt;11&lt;/th&gt;\\n      &lt;td&gt;Oceania&lt;/td&gt;\\n      &lt;td&gt;2021&lt;/td&gt;\\n      &lt;td&gt;431.304110&lt;/td&gt;\\n    &lt;/tr&gt;\\n    &lt;tr&gt;\\n      &lt;th&gt;12&lt;/th&gt;\\n      &lt;td&gt;Oceania&lt;/td&gt;\\n      &lt;td&gt;2022&lt;/td&gt;\\n      &lt;td&gt;2950.701370&lt;/td&gt;\\n    &lt;/tr&gt;\\n    &lt;tr&gt;\\n      &lt;th&gt;13&lt;/th&gt;\\n      &lt;td&gt;Europe&lt;/td&gt;\\n      &lt;td&gt;2022&lt;/td&gt;\\n      &lt;td&gt;3059.520756&lt;/td&gt;\\n    &lt;/tr&gt;\\n    &lt;tr&gt;\\n      &lt;th&gt;14&lt;/th&gt;\\n      &lt;td&gt;Asia&lt;/td&gt;\\n      &lt;td&gt;2022&lt;/td&gt;\\n      &lt;td&gt;2545.430351&lt;/td&gt;\\n    &lt;/tr&gt;\\n    &lt;tr&gt;\\n      &lt;th&gt;15&lt;/th&gt;\\n      &lt;td&gt;Africa&lt;/td&gt;\\n      &lt;td&gt;2022&lt;/td&gt;\\n      &lt;td&gt;3328.792271&lt;/td&gt;\\n    &lt;/tr&gt;\\n    &lt;tr&gt;\\n      &lt;th&gt;16&lt;/th&gt;\\n      &lt;td&gt;North America&lt;/td&gt;\\n      &lt;td&gt;2022&lt;/td&gt;\\n      &lt;td&gt;22084.534247&lt;/td&gt;\\n    &lt;/tr&gt;\\n    &lt;tr&gt;\\n      &lt;th&gt;17&lt;/th&gt;\\n      &lt;td&gt;South America&lt;/td&gt;\\n      &lt;td&gt;2022&lt;/td&gt;\\n      &lt;td&gt;413.339161&lt;/td&gt;\\n    &lt;/tr&gt;\\n  &lt;/tbody&gt;\\n&lt;/table&gt;\"},\"id\":\"38546\",\"type\":\"panel.models.markup.HTML\"}],\"root_ids\":[\"38538\",\"38547\"]},\"title\":\"Bokeh Application\",\"version\":\"2.4.3\"}};\n",
       "    var render_items = [{\"docid\":\"444dfcea-a58c-4f6e-acd2-23cddc4e1100\",\"root_ids\":[\"38538\"],\"roots\":{\"38538\":\"4c2c4a39-64ef-4ffe-80fa-0575085fdc32\"}}];\n",
       "    root.Bokeh.embed.embed_items_notebook(docs_json, render_items);\n",
       "    for (const render_item of render_items) {\n",
       "      for (const root_id of render_item.root_ids) {\n",
       "\tconst id_el = document.getElementById(root_id)\n",
       "\tif (id_el.children.length && (id_el.children[0].className === 'bk-root')) {\n",
       "\t  const root_el = id_el.children[0]\n",
       "\t  root_el.id = root_el.id + '-rendered'\n",
       "\t}\n",
       "      }\n",
       "    }\n",
       "  }\n",
       "  if (root.Bokeh !== undefined && root.Bokeh.Panel !== undefined && ( root['Tabulator'] !== undefined) && ( root['Tabulator'] !== undefined) && ( root['Tabulator'] !== undefined) && ( root['Tabulator'] !== undefined) && ( root['Tabulator'] !== undefined)) {\n",
       "    embed_document(root);\n",
       "  } else {\n",
       "    var attempts = 0;\n",
       "    var timer = setInterval(function(root) {\n",
       "      if (root.Bokeh !== undefined && root.Bokeh.Panel !== undefined && (root['Tabulator'] !== undefined) && (root['Tabulator'] !== undefined) && (root['Tabulator'] !== undefined) && (root['Tabulator'] !== undefined) && (root['Tabulator'] !== undefined)) {\n",
       "        clearInterval(timer);\n",
       "        embed_document(root);\n",
       "      } else if (document.readyState == \"complete\") {\n",
       "        attempts++;\n",
       "        if (attempts > 200) {\n",
       "          clearInterval(timer);\n",
       "          console.log(\"Bokeh: ERROR: Unable to run BokehJS code because BokehJS library is missing\");\n",
       "        }\n",
       "      }\n",
       "    }, 25, root)\n",
       "  }\n",
       "})(window);</script>"
      ],
      "text/plain": [
       "<hvplot.interactive.Interactive at 0x224235178e0>"
      ]
     },
     "execution_count": 337,
     "metadata": {
      "application/vnd.holoviews_exec.v0+json": {
       "id": "38538"
      }
     },
     "output_type": "execute_result"
    }
   ],
   "source": [
    "# Hosp patients table- per year, continent\n",
    "hosp_patients_linearplot_pipeline = (\n",
    "    idf[\n",
    "        (idf.year <= year_slider)\n",
    "    ]\n",
    "    .groupby(['continent','year'])[yaxis_hosp_p].mean()\n",
    "    .to_frame()\n",
    "    .reset_index()\n",
    "    .sort_values(by='year')  \n",
    "    .reset_index(drop=True)\n",
    ")\n",
    "hosp_patients_linearplot_pipeline"
   ]
  },
  {
   "cell_type": "code",
   "execution_count": 338,
   "id": "bcf271c4",
   "metadata": {},
   "outputs": [
    {
     "data": {},
     "metadata": {},
     "output_type": "display_data"
    },
    {
     "data": {},
     "metadata": {},
     "output_type": "display_data"
    },
    {
     "data": {
      "application/vnd.holoviews_exec.v0+json": "",
      "text/html": [
       "<div id='38548'>\n",
       "  <div class=\"bk-root\" id=\"b18796ca-a099-499a-8053-82058c0d7c51\" data-root-id=\"38548\"></div>\n",
       "</div>\n",
       "<script type=\"application/javascript\">(function(root) {\n",
       "  function embed_document(root) {\n",
       "    var docs_json = {\"cbd45cd1-d53b-41e6-98b7-81a5a7ee1097\":{\"defs\":[{\"extends\":null,\"module\":null,\"name\":\"ReactiveHTML1\",\"overrides\":[],\"properties\":[]},{\"extends\":null,\"module\":null,\"name\":\"FlexBox1\",\"overrides\":[],\"properties\":[{\"default\":\"flex-start\",\"kind\":null,\"name\":\"align_content\"},{\"default\":\"flex-start\",\"kind\":null,\"name\":\"align_items\"},{\"default\":\"row\",\"kind\":null,\"name\":\"flex_direction\"},{\"default\":\"wrap\",\"kind\":null,\"name\":\"flex_wrap\"},{\"default\":\"flex-start\",\"kind\":null,\"name\":\"justify_content\"}]},{\"extends\":null,\"module\":null,\"name\":\"GridStack1\",\"overrides\":[],\"properties\":[{\"default\":\"warn\",\"kind\":null,\"name\":\"mode\"},{\"default\":null,\"kind\":null,\"name\":\"ncols\"},{\"default\":null,\"kind\":null,\"name\":\"nrows\"},{\"default\":true,\"kind\":null,\"name\":\"allow_resize\"},{\"default\":true,\"kind\":null,\"name\":\"allow_drag\"},{\"default\":[],\"kind\":null,\"name\":\"state\"}]},{\"extends\":null,\"module\":null,\"name\":\"click1\",\"overrides\":[],\"properties\":[{\"default\":\"\",\"kind\":null,\"name\":\"terminal_output\"},{\"default\":\"\",\"kind\":null,\"name\":\"debug_name\"},{\"default\":0,\"kind\":null,\"name\":\"clears\"}]},{\"extends\":null,\"module\":null,\"name\":\"NotificationAreaBase1\",\"overrides\":[],\"properties\":[{\"default\":\"bottom-right\",\"kind\":null,\"name\":\"position\"},{\"default\":0,\"kind\":null,\"name\":\"_clear\"}]},{\"extends\":null,\"module\":null,\"name\":\"NotificationArea1\",\"overrides\":[],\"properties\":[{\"default\":[],\"kind\":null,\"name\":\"notifications\"},{\"default\":\"bottom-right\",\"kind\":null,\"name\":\"position\"},{\"default\":0,\"kind\":null,\"name\":\"_clear\"},{\"default\":[{\"background\":\"#ffc107\",\"icon\":{\"className\":\"fas fa-exclamation-triangle\",\"color\":\"white\",\"tagName\":\"i\"},\"type\":\"warning\"},{\"background\":\"#007bff\",\"icon\":{\"className\":\"fas fa-info-circle\",\"color\":\"white\",\"tagName\":\"i\"},\"type\":\"info\"}],\"kind\":null,\"name\":\"types\"}]},{\"extends\":null,\"module\":null,\"name\":\"Notification\",\"overrides\":[],\"properties\":[{\"default\":null,\"kind\":null,\"name\":\"background\"},{\"default\":3000,\"kind\":null,\"name\":\"duration\"},{\"default\":null,\"kind\":null,\"name\":\"icon\"},{\"default\":\"\",\"kind\":null,\"name\":\"message\"},{\"default\":null,\"kind\":null,\"name\":\"notification_type\"},{\"default\":false,\"kind\":null,\"name\":\"_destroyed\"}]},{\"extends\":null,\"module\":null,\"name\":\"TemplateActions1\",\"overrides\":[],\"properties\":[{\"default\":0,\"kind\":null,\"name\":\"open_modal\"},{\"default\":0,\"kind\":null,\"name\":\"close_modal\"}]},{\"extends\":null,\"module\":null,\"name\":\"MaterialTemplateActions1\",\"overrides\":[],\"properties\":[{\"default\":0,\"kind\":null,\"name\":\"open_modal\"},{\"default\":0,\"kind\":null,\"name\":\"close_modal\"}]}],\"roots\":{\"references\":[{\"attributes\":{\"data\":{\"continent\":[\"Europe\",\"Europe\",\"Europe\"],\"hosp_patients\":{\"__ndarray__\":\"bqYXWwRno0DfCyc8rFCnQHbDd6AK56dA\",\"dtype\":\"float64\",\"order\":\"little\",\"shape\":[3]},\"year\":[2020,2021,2022]},\"selected\":{\"id\":\"38644\"},\"selection_policy\":{\"id\":\"38661\"}},\"id\":\"38643\",\"type\":\"ColumnDataSource\"},{\"attributes\":{},\"id\":\"38719\",\"type\":\"Selection\"},{\"attributes\":{},\"id\":\"38568\",\"type\":\"LinearScale\"},{\"attributes\":{},\"id\":\"38595\",\"type\":\"BasicTickFormatter\"},{\"attributes\":{},\"id\":\"38692\",\"type\":\"Selection\"},{\"attributes\":{\"axis_label\":\"year\",\"coordinates\":null,\"formatter\":{\"id\":\"38595\"},\"group\":null,\"major_label_policy\":{\"id\":\"38596\"},\"ticker\":{\"id\":\"38593\"}},\"id\":\"38572\",\"type\":\"LinearAxis\"},{\"attributes\":{\"line_alpha\":0.2,\"line_color\":\"#6d904f\",\"line_width\":2,\"x\":{\"field\":\"year\"},\"y\":{\"field\":\"hosp_patients\"}},\"id\":\"38671\",\"type\":\"Line\"},{\"attributes\":{},\"id\":\"38616\",\"type\":\"UnionRenderers\"},{\"attributes\":{},\"id\":\"38582\",\"type\":\"WheelZoomTool\"},{\"attributes\":{\"label\":{\"value\":\"Oceania\"},\"renderers\":[{\"id\":\"38697\"}]},\"id\":\"38716\",\"type\":\"LegendItem\"},{\"attributes\":{\"line_alpha\":0.1,\"line_color\":\"#17becf\",\"line_width\":2,\"x\":{\"field\":\"year\"},\"y\":{\"field\":\"hosp_patients\"}},\"id\":\"38722\",\"type\":\"Line\"},{\"attributes\":{\"data\":{\"continent\":[\"Africa\",\"Africa\",\"Africa\"],\"hosp_patients\":{\"__ndarray__\":\"Fk477FuOs0C3B6nr8LPAQOere6SVAapA\",\"dtype\":\"float64\",\"order\":\"little\",\"shape\":[3]},\"year\":[2020,2021,2022]},\"selected\":{\"id\":\"38603\"},\"selection_policy\":{\"id\":\"38616\"}},\"id\":\"38602\",\"type\":\"ColumnDataSource\"},{\"attributes\":{\"callback\":null,\"renderers\":[{\"id\":\"38608\"},{\"id\":\"38628\"},{\"id\":\"38649\"},{\"id\":\"38672\"},{\"id\":\"38697\"},{\"id\":\"38724\"}],\"tags\":[\"hv_created\"],\"tooltips\":[[\"continent\",\"@{continent}\"],[\"year\",\"@{year}\"],[\"hosp_patients\",\"@{hosp_patients}\"]]},\"id\":\"38557\",\"type\":\"HoverTool\"},{\"attributes\":{\"coordinates\":null,\"data_source\":{\"id\":\"38666\"},\"glyph\":{\"id\":\"38669\"},\"group\":null,\"hover_glyph\":null,\"muted_glyph\":{\"id\":\"38671\"},\"nonselection_glyph\":{\"id\":\"38670\"},\"selection_glyph\":{\"id\":\"38690\"},\"view\":{\"id\":\"38673\"}},\"id\":\"38672\",\"type\":\"GlyphRenderer\"},{\"attributes\":{\"data\":{\"continent\":[\"Oceania\",\"Oceania\",\"Oceania\"],\"hosp_patients\":{\"__ndarray__\":\"C1nIQhbyYUBONQSi3fR6QBZg8xlnDadA\",\"dtype\":\"float64\",\"order\":\"little\",\"shape\":[3]},\"year\":[2020,2021,2022]},\"selected\":{\"id\":\"38692\"},\"selection_policy\":{\"id\":\"38713\"}},\"id\":\"38691\",\"type\":\"ColumnDataSource\"},{\"attributes\":{\"axis\":{\"id\":\"38576\"},\"coordinates\":null,\"dimension\":1,\"grid_line_color\":null,\"group\":null,\"ticker\":null},\"id\":\"38579\",\"type\":\"Grid\"},{\"attributes\":{\"source\":{\"id\":\"38718\"}},\"id\":\"38725\",\"type\":\"CDSView\"},{\"attributes\":{\"line_alpha\":0.2,\"line_color\":\"#17becf\",\"line_width\":2,\"x\":{\"field\":\"year\"},\"y\":{\"field\":\"hosp_patients\"}},\"id\":\"38723\",\"type\":\"Line\"},{\"attributes\":{},\"id\":\"38577\",\"type\":\"BasicTicker\"},{\"attributes\":{\"label\":{\"value\":\"North America\"},\"renderers\":[{\"id\":\"38672\"}]},\"id\":\"38689\",\"type\":\"LegendItem\"},{\"attributes\":{\"children\":[{\"id\":\"38552\"},{\"id\":\"38553\"}],\"margin\":[0,0,0,0],\"name\":\"Column187328\"},\"id\":\"38551\",\"type\":\"Column\"},{\"attributes\":{\"children\":[{\"id\":\"38549\"}],\"margin\":[0,0,0,0],\"name\":\"Row187340\"},\"id\":\"38548\",\"type\":\"Row\"},{\"attributes\":{\"label\":{\"value\":\"South America\"},\"renderers\":[{\"id\":\"38724\"}]},\"id\":\"38745\",\"type\":\"LegendItem\"},{\"attributes\":{},\"id\":\"38570\",\"type\":\"LinearScale\"},{\"attributes\":{},\"id\":\"38742\",\"type\":\"UnionRenderers\"},{\"attributes\":{\"coordinates\":null,\"data_source\":{\"id\":\"38691\"},\"glyph\":{\"id\":\"38694\"},\"group\":null,\"hover_glyph\":null,\"muted_glyph\":{\"id\":\"38696\"},\"nonselection_glyph\":{\"id\":\"38695\"},\"selection_glyph\":{\"id\":\"38717\"},\"view\":{\"id\":\"38698\"}},\"id\":\"38697\",\"type\":\"GlyphRenderer\"},{\"attributes\":{\"line_color\":\"#fc4f30\",\"line_width\":2,\"x\":{\"field\":\"year\"},\"y\":{\"field\":\"hosp_patients\"}},\"id\":\"38625\",\"type\":\"Line\"},{\"attributes\":{\"line_color\":\"#6d904f\",\"line_width\":2,\"x\":{\"field\":\"year\"},\"y\":{\"field\":\"hosp_patients\"}},\"id\":\"38690\",\"type\":\"Line\"},{\"attributes\":{\"label\":{\"value\":\"Africa\"},\"renderers\":[{\"id\":\"38608\"}]},\"id\":\"38620\",\"type\":\"LegendItem\"},{\"attributes\":{\"label\":{\"value\":\"Europe\"},\"renderers\":[{\"id\":\"38649\"}]},\"id\":\"38664\",\"type\":\"LegendItem\"},{\"attributes\":{},\"id\":\"38686\",\"type\":\"UnionRenderers\"},{\"attributes\":{\"line_color\":\"#17becf\",\"line_width\":2,\"x\":{\"field\":\"year\"},\"y\":{\"field\":\"hosp_patients\"}},\"id\":\"38746\",\"type\":\"Line\"},{\"attributes\":{},\"id\":\"38661\",\"type\":\"UnionRenderers\"},{\"attributes\":{\"data\":{\"continent\":[\"South America\",\"South America\",\"South America\"],\"hosp_patients\":{\"__ndarray__\":\"AAAAAAAA+H/Z/UbZ/XKQQHqE6jNt1XlA\",\"dtype\":\"float64\",\"order\":\"little\",\"shape\":[3]},\"year\":[2020,2021,2022]},\"selected\":{\"id\":\"38719\"},\"selection_policy\":{\"id\":\"38742\"}},\"id\":\"38718\",\"type\":\"ColumnDataSource\"},{\"attributes\":{\"line_color\":\"#e5ae38\",\"line_width\":2,\"x\":{\"field\":\"year\"},\"y\":{\"field\":\"hosp_patients\"}},\"id\":\"38665\",\"type\":\"Line\"},{\"attributes\":{\"source\":{\"id\":\"38691\"}},\"id\":\"38698\",\"type\":\"CDSView\"},{\"attributes\":{\"bottom_units\":\"screen\",\"coordinates\":null,\"fill_alpha\":0.5,\"fill_color\":\"lightgrey\",\"group\":null,\"left_units\":\"screen\",\"level\":\"overlay\",\"line_alpha\":1.0,\"line_color\":\"black\",\"line_dash\":[4,4],\"line_width\":2,\"right_units\":\"screen\",\"syncable\":false,\"top_units\":\"screen\"},\"id\":\"38585\",\"type\":\"BoxAnnotation\"},{\"attributes\":{\"ticks\":[2020,2021,2022,2023]},\"id\":\"38593\",\"type\":\"FixedTicker\"},{\"attributes\":{\"source\":{\"id\":\"38643\"}},\"id\":\"38650\",\"type\":\"CDSView\"},{\"attributes\":{\"click_policy\":\"mute\",\"coordinates\":null,\"group\":null,\"items\":[{\"id\":\"38620\"},{\"id\":\"38641\"},{\"id\":\"38664\"},{\"id\":\"38689\"},{\"id\":\"38716\"},{\"id\":\"38745\"}],\"location\":[0,0],\"title\":\"continent\"},\"id\":\"38619\",\"type\":\"Legend\"},{\"attributes\":{\"source\":{\"id\":\"38666\"}},\"id\":\"38673\",\"type\":\"CDSView\"},{\"attributes\":{\"children\":[{\"id\":\"38551\"},{\"id\":\"38554\"}],\"margin\":[0,0,0,0],\"name\":\"Row187333\"},\"id\":\"38550\",\"type\":\"Row\"},{\"attributes\":{\"line_color\":\"#17becf\",\"line_width\":2,\"x\":{\"field\":\"year\"},\"y\":{\"field\":\"hosp_patients\"}},\"id\":\"38721\",\"type\":\"Line\"},{\"attributes\":{},\"id\":\"38581\",\"type\":\"PanTool\"},{\"attributes\":{\"axis\":{\"id\":\"38572\"},\"coordinates\":null,\"grid_line_color\":null,\"group\":null,\"ticker\":null},\"id\":\"38575\",\"type\":\"Grid\"},{\"attributes\":{\"data\":{\"continent\":[\"North America\",\"North America\",\"North America\"],\"hosp_patients\":{\"__ndarray__\":\"+fsSywuD1UCvw+1BSqDbQEaMGDEikdVA\",\"dtype\":\"float64\",\"order\":\"little\",\"shape\":[3]},\"year\":[2020,2021,2022]},\"selected\":{\"id\":\"38667\"},\"selection_policy\":{\"id\":\"38686\"}},\"id\":\"38666\",\"type\":\"ColumnDataSource\"},{\"attributes\":{},\"id\":\"38596\",\"type\":\"AllLabels\"},{\"attributes\":{\"line_color\":\"#8b8b8b\",\"line_width\":2,\"x\":{\"field\":\"year\"},\"y\":{\"field\":\"hosp_patients\"}},\"id\":\"38694\",\"type\":\"Line\"},{\"attributes\":{\"line_alpha\":0.2,\"line_color\":\"#fc4f30\",\"line_width\":2,\"x\":{\"field\":\"year\"},\"y\":{\"field\":\"hosp_patients\"}},\"id\":\"38627\",\"type\":\"Line\"},{\"attributes\":{},\"id\":\"38584\",\"type\":\"ResetTool\"},{\"attributes\":{},\"id\":\"38644\",\"type\":\"Selection\"},{\"attributes\":{},\"id\":\"38580\",\"type\":\"SaveTool\"},{\"attributes\":{\"line_color\":\"#30a2da\",\"line_width\":2,\"x\":{\"field\":\"year\"},\"y\":{\"field\":\"hosp_patients\"}},\"id\":\"38621\",\"type\":\"Line\"},{\"attributes\":{\"active\":0,\"button_type\":\"success\",\"labels\":[\"hosp_patients\",\"hosp_patients_per_million\"],\"margin\":[5,10,5,10]},\"id\":\"38553\",\"type\":\"RadioButtonGroup\"},{\"attributes\":{},\"id\":\"38600\",\"type\":\"BasicTickFormatter\"},{\"attributes\":{\"line_alpha\":0.2,\"line_color\":\"#30a2da\",\"line_width\":2,\"x\":{\"field\":\"year\"},\"y\":{\"field\":\"hosp_patients\"}},\"id\":\"38607\",\"type\":\"Line\"},{\"attributes\":{\"line_color\":\"#fc4f30\",\"line_width\":2,\"x\":{\"field\":\"year\"},\"y\":{\"field\":\"hosp_patients\"}},\"id\":\"38642\",\"type\":\"Line\"},{\"attributes\":{\"axis_label\":\"hosp_patients\",\"coordinates\":null,\"formatter\":{\"id\":\"38600\"},\"group\":null,\"major_label_policy\":{\"id\":\"38601\"},\"ticker\":{\"id\":\"38577\"}},\"id\":\"38576\",\"type\":\"LinearAxis\"},{\"attributes\":{},\"id\":\"38667\",\"type\":\"Selection\"},{\"attributes\":{\"coordinates\":null,\"data_source\":{\"id\":\"38718\"},\"glyph\":{\"id\":\"38721\"},\"group\":null,\"hover_glyph\":null,\"muted_glyph\":{\"id\":\"38723\"},\"nonselection_glyph\":{\"id\":\"38722\"},\"selection_glyph\":{\"id\":\"38746\"},\"view\":{\"id\":\"38725\"}},\"id\":\"38724\",\"type\":\"GlyphRenderer\"},{\"attributes\":{\"children\":[{\"id\":\"38550\"},{\"id\":\"38563\"}],\"margin\":[0,0,0,0],\"name\":\"Column187339\"},\"id\":\"38549\",\"type\":\"Column\"},{\"attributes\":{\"line_color\":\"#8b8b8b\",\"line_width\":2,\"x\":{\"field\":\"year\"},\"y\":{\"field\":\"hosp_patients\"}},\"id\":\"38717\",\"type\":\"Line\"},{\"attributes\":{\"tools\":[{\"id\":\"38557\"},{\"id\":\"38580\"},{\"id\":\"38581\"},{\"id\":\"38582\"},{\"id\":\"38583\"},{\"id\":\"38584\"}]},\"id\":\"38586\",\"type\":\"Toolbar\"},{\"attributes\":{\"end\":2023,\"margin\":[5,10,5,10],\"start\":2020,\"title\":\"Year slider\",\"value\":2022},\"id\":\"38552\",\"type\":\"Slider\"},{\"attributes\":{\"line_color\":\"#e5ae38\",\"line_width\":2,\"x\":{\"field\":\"year\"},\"y\":{\"field\":\"hosp_patients\"}},\"id\":\"38646\",\"type\":\"Line\"},{\"attributes\":{\"line_alpha\":0.2,\"line_color\":\"#8b8b8b\",\"line_width\":2,\"x\":{\"field\":\"year\"},\"y\":{\"field\":\"hosp_patients\"}},\"id\":\"38696\",\"type\":\"Line\"},{\"attributes\":{\"source\":{\"id\":\"38602\"}},\"id\":\"38609\",\"type\":\"CDSView\"},{\"attributes\":{\"source\":{\"id\":\"38622\"}},\"id\":\"38629\",\"type\":\"CDSView\"},{\"attributes\":{\"line_color\":\"#6d904f\",\"line_width\":2,\"x\":{\"field\":\"year\"},\"y\":{\"field\":\"hosp_patients\"}},\"id\":\"38669\",\"type\":\"Line\"},{\"attributes\":{\"below\":[{\"id\":\"38572\"}],\"center\":[{\"id\":\"38575\"},{\"id\":\"38579\"}],\"height\":300,\"left\":[{\"id\":\"38576\"}],\"margin\":[5,5,5,5],\"min_border_bottom\":10,\"min_border_left\":10,\"min_border_right\":10,\"min_border_top\":10,\"renderers\":[{\"id\":\"38608\"},{\"id\":\"38628\"},{\"id\":\"38649\"},{\"id\":\"38672\"},{\"id\":\"38697\"},{\"id\":\"38724\"}],\"right\":[{\"id\":\"38619\"}],\"sizing_mode\":\"fixed\",\"title\":{\"id\":\"38564\"},\"toolbar\":{\"id\":\"38586\"},\"x_range\":{\"id\":\"38555\"},\"x_scale\":{\"id\":\"38568\"},\"y_range\":{\"id\":\"38556\"},\"y_scale\":{\"id\":\"38570\"}},\"id\":\"38563\",\"subtype\":\"Figure\",\"type\":\"Plot\"},{\"attributes\":{\"client_comm_id\":\"2f63b2929a804156a74bbcf6e28bd6ba\",\"comm_id\":\"2e08be6960d24e83b05d5f393153ffc5\",\"plot_id\":\"38548\"},\"id\":\"38823\",\"type\":\"panel.models.comm_manager.CommManager\"},{\"attributes\":{\"coordinates\":null,\"data_source\":{\"id\":\"38643\"},\"glyph\":{\"id\":\"38646\"},\"group\":null,\"hover_glyph\":null,\"muted_glyph\":{\"id\":\"38648\"},\"nonselection_glyph\":{\"id\":\"38647\"},\"selection_glyph\":{\"id\":\"38665\"},\"view\":{\"id\":\"38650\"}},\"id\":\"38649\",\"type\":\"GlyphRenderer\"},{\"attributes\":{\"line_alpha\":0.1,\"line_color\":\"#fc4f30\",\"line_width\":2,\"x\":{\"field\":\"year\"},\"y\":{\"field\":\"hosp_patients\"}},\"id\":\"38626\",\"type\":\"Line\"},{\"attributes\":{\"line_alpha\":0.1,\"line_color\":\"#8b8b8b\",\"line_width\":2,\"x\":{\"field\":\"year\"},\"y\":{\"field\":\"hosp_patients\"}},\"id\":\"38695\",\"type\":\"Line\"},{\"attributes\":{\"coordinates\":null,\"data_source\":{\"id\":\"38622\"},\"glyph\":{\"id\":\"38625\"},\"group\":null,\"hover_glyph\":null,\"muted_glyph\":{\"id\":\"38627\"},\"nonselection_glyph\":{\"id\":\"38626\"},\"selection_glyph\":{\"id\":\"38642\"},\"view\":{\"id\":\"38629\"}},\"id\":\"38628\",\"type\":\"GlyphRenderer\"},{\"attributes\":{},\"id\":\"38638\",\"type\":\"UnionRenderers\"},{\"attributes\":{\"coordinates\":null,\"data_source\":{\"id\":\"38602\"},\"glyph\":{\"id\":\"38605\"},\"group\":null,\"hover_glyph\":null,\"muted_glyph\":{\"id\":\"38607\"},\"nonselection_glyph\":{\"id\":\"38606\"},\"selection_glyph\":{\"id\":\"38621\"},\"view\":{\"id\":\"38609\"}},\"id\":\"38608\",\"type\":\"GlyphRenderer\"},{\"attributes\":{\"end\":2022.0,\"reset_end\":2022.0,\"reset_start\":2020.0,\"start\":2020.0,\"tags\":[[[\"year\",\"year\",null]]]},\"id\":\"38555\",\"type\":\"Range1d\"},{\"attributes\":{},\"id\":\"38713\",\"type\":\"UnionRenderers\"},{\"attributes\":{\"line_alpha\":0.1,\"line_color\":\"#30a2da\",\"line_width\":2,\"x\":{\"field\":\"year\"},\"y\":{\"field\":\"hosp_patients\"}},\"id\":\"38606\",\"type\":\"Line\"},{\"attributes\":{\"line_alpha\":0.1,\"line_color\":\"#e5ae38\",\"line_width\":2,\"x\":{\"field\":\"year\"},\"y\":{\"field\":\"hosp_patients\"}},\"id\":\"38647\",\"type\":\"Line\"},{\"attributes\":{},\"id\":\"38603\",\"type\":\"Selection\"},{\"attributes\":{\"end\":31103.719779630734,\"reset_end\":31103.719779630734,\"reset_start\":-2670.9942882668256,\"start\":-2670.9942882668256,\"tags\":[[[\"hosp_patients\",\"hosp_patients\",null]]]},\"id\":\"38556\",\"type\":\"Range1d\"},{\"attributes\":{\"line_alpha\":0.2,\"line_color\":\"#e5ae38\",\"line_width\":2,\"x\":{\"field\":\"year\"},\"y\":{\"field\":\"hosp_patients\"}},\"id\":\"38648\",\"type\":\"Line\"},{\"attributes\":{\"margin\":[5,5,5,5],\"name\":\"HSpacer187332\",\"sizing_mode\":\"stretch_width\"},\"id\":\"38554\",\"type\":\"Spacer\"},{\"attributes\":{\"line_color\":\"#30a2da\",\"line_width\":2,\"x\":{\"field\":\"year\"},\"y\":{\"field\":\"hosp_patients\"}},\"id\":\"38605\",\"type\":\"Line\"},{\"attributes\":{},\"id\":\"38623\",\"type\":\"Selection\"},{\"attributes\":{\"line_alpha\":0.1,\"line_color\":\"#6d904f\",\"line_width\":2,\"x\":{\"field\":\"year\"},\"y\":{\"field\":\"hosp_patients\"}},\"id\":\"38670\",\"type\":\"Line\"},{\"attributes\":{\"label\":{\"value\":\"Asia\"},\"renderers\":[{\"id\":\"38628\"}]},\"id\":\"38641\",\"type\":\"LegendItem\"},{\"attributes\":{\"overlay\":{\"id\":\"38585\"}},\"id\":\"38583\",\"type\":\"BoxZoomTool\"},{\"attributes\":{},\"id\":\"38601\",\"type\":\"AllLabels\"},{\"attributes\":{\"coordinates\":null,\"group\":null,\"text\":\"Hospital patients over time\",\"text_color\":\"black\",\"text_font_size\":\"12pt\"},\"id\":\"38564\",\"type\":\"Title\"},{\"attributes\":{\"data\":{\"continent\":[\"Asia\",\"Asia\",\"Asia\"],\"hosp_patients\":{\"__ndarray__\":\"AAAAAIBukEBqMnWLPaOtQGPp+Vbc4qNA\",\"dtype\":\"float64\",\"order\":\"little\",\"shape\":[3]},\"year\":[2020,2021,2022]},\"selected\":{\"id\":\"38623\"},\"selection_policy\":{\"id\":\"38638\"}},\"id\":\"38622\",\"type\":\"ColumnDataSource\"}],\"root_ids\":[\"38548\",\"38823\"]},\"title\":\"Bokeh Application\",\"version\":\"2.4.3\"}};\n",
       "    var render_items = [{\"docid\":\"cbd45cd1-d53b-41e6-98b7-81a5a7ee1097\",\"root_ids\":[\"38548\"],\"roots\":{\"38548\":\"b18796ca-a099-499a-8053-82058c0d7c51\"}}];\n",
       "    root.Bokeh.embed.embed_items_notebook(docs_json, render_items);\n",
       "    for (const render_item of render_items) {\n",
       "      for (const root_id of render_item.root_ids) {\n",
       "\tconst id_el = document.getElementById(root_id)\n",
       "\tif (id_el.children.length && (id_el.children[0].className === 'bk-root')) {\n",
       "\t  const root_el = id_el.children[0]\n",
       "\t  root_el.id = root_el.id + '-rendered'\n",
       "\t}\n",
       "      }\n",
       "    }\n",
       "  }\n",
       "  if (root.Bokeh !== undefined && root.Bokeh.Panel !== undefined && ( root['Tabulator'] !== undefined) && ( root['Tabulator'] !== undefined) && ( root['Tabulator'] !== undefined) && ( root['Tabulator'] !== undefined) && ( root['Tabulator'] !== undefined)) {\n",
       "    embed_document(root);\n",
       "  } else {\n",
       "    var attempts = 0;\n",
       "    var timer = setInterval(function(root) {\n",
       "      if (root.Bokeh !== undefined && root.Bokeh.Panel !== undefined && (root['Tabulator'] !== undefined) && (root['Tabulator'] !== undefined) && (root['Tabulator'] !== undefined) && (root['Tabulator'] !== undefined) && (root['Tabulator'] !== undefined)) {\n",
       "        clearInterval(timer);\n",
       "        embed_document(root);\n",
       "      } else if (document.readyState == \"complete\") {\n",
       "        attempts++;\n",
       "        if (attempts > 200) {\n",
       "          clearInterval(timer);\n",
       "          console.log(\"Bokeh: ERROR: Unable to run BokehJS code because BokehJS library is missing\");\n",
       "        }\n",
       "      }\n",
       "    }, 25, root)\n",
       "  }\n",
       "})(window);</script>"
      ],
      "text/plain": [
       "<hvplot.interactive.Interactive at 0x224239b7b20>"
      ]
     },
     "execution_count": 338,
     "metadata": {
      "application/vnd.holoviews_exec.v0+json": {
       "id": "38548"
      }
     },
     "output_type": "execute_result"
    }
   ],
   "source": [
    "#creating hvplot- Graph #1\n",
    "hosp_patients_linearplot = hosp_patients_linearplot_pipeline.hvplot(x='year',\n",
    "                                                                    xticks=[2020, 2021, 2022,2023],\n",
    "                                                                    by='continent',\n",
    "                                                                    y= yaxis_hosp_p,\n",
    "                                                                    width=600,\n",
    "                                                                    title='Hospital patients over time')\n",
    "hosp_patients_linearplot\n"
   ]
  },
  {
   "cell_type": "code",
   "execution_count": 339,
   "id": "6f5c8d04",
   "metadata": {
    "tags": []
   },
   "outputs": [],
   "source": [
    "##graph 2 Death cases per million (#3 in dashboard)"
   ]
  },
  {
   "cell_type": "code",
   "execution_count": 340,
   "id": "71df04ee",
   "metadata": {},
   "outputs": [],
   "source": [
    "# selecting countries out of a list of countries (column)\n",
    "countries = ['United State', 'Israel', 'Italy','Spain', 'United Kingdom', 'China', 'Argentina', 'Germany', 'India']"
   ]
  },
  {
   "cell_type": "code",
   "execution_count": 341,
   "id": "c01b1a27",
   "metadata": {},
   "outputs": [
    {
     "name": "stderr",
     "output_type": "stream",
     "text": [
      "C:\\Users\\adaro\\AppData\\Local\\Temp\\ipykernel_12392\\1275610262.py:2: SettingWithCopyWarning: \n",
      "A value is trying to be set on a copy of a slice from a DataFrame.\n",
      "Try using .loc[row_indexer,col_indexer] = value instead\n",
      "\n",
      "See the caveats in the documentation: https://pandas.pydata.org/pandas-docs/stable/user_guide/indexing.html#returning-a-view-versus-a-copy\n",
      "  copy_df['death_precentage']=(copy_df['total_deaths']/copy_df['total_cases'])*100\n",
      "C:\\Users\\adaro\\AppData\\Local\\Temp\\ipykernel_12392\\1275610262.py:3: SettingWithCopyWarning: \n",
      "A value is trying to be set on a copy of a slice from a DataFrame.\n",
      "Try using .loc[row_indexer,col_indexer] = value instead\n",
      "\n",
      "See the caveats in the documentation: https://pandas.pydata.org/pandas-docs/stable/user_guide/indexing.html#returning-a-view-versus-a-copy\n",
      "  copy_df['Death cases per million'] = copy_df['death_precentage']*10000\n"
     ]
    },
    {
     "data": {
      "text/plain": [
       "0                 NaN\n",
       "1                 NaN\n",
       "2                 NaN\n",
       "3                 NaN\n",
       "4                 NaN\n",
       "             ...     \n",
       "250611    21682.35371\n",
       "250612    21682.35371\n",
       "250613    21682.35371\n",
       "250614    21682.35371\n",
       "250615    21682.35371\n",
       "Name: Death cases per million, Length: 250616, dtype: float64"
      ]
     },
     "execution_count": 341,
     "metadata": {},
     "output_type": "execute_result"
    }
   ],
   "source": [
    "#creating new column - death cases per million\n",
    "copy_df['death_precentage']=(copy_df['total_deaths']/copy_df['total_cases'])*100\n",
    "copy_df['Death cases per million'] = copy_df['death_precentage']*10000\n",
    "copy_df['Death cases per million']"
   ]
  },
  {
   "cell_type": "code",
   "execution_count": 342,
   "id": "f1f867a9-33be-4fc6-90af-9e38a42b63ce",
   "metadata": {},
   "outputs": [],
   "source": [
    "# Define Panel widgets for graph 2\n",
    "year_slider2 = pn.widgets.IntSlider(name='Year slider', start=2020, end=2022, step=1, value=2022)\n",
    "month_slider2 = pn.widgets.IntSlider(name='Month slider', start=1, end=12, step=1, value=6)"
   ]
  },
  {
   "cell_type": "code",
   "execution_count": 343,
   "id": "bb2ef7a5",
   "metadata": {},
   "outputs": [
    {
     "data": {},
     "metadata": {},
     "output_type": "display_data"
    },
    {
     "data": {
      "application/vnd.holoviews_exec.v0+json": "",
      "text/html": [
       "<div id='38919'>\n",
       "  <div class=\"bk-root\" id=\"67b5fcff-4cfb-40f7-bd56-18dae5c22b71\" data-root-id=\"38919\"></div>\n",
       "</div>\n",
       "<script type=\"application/javascript\">(function(root) {\n",
       "  function embed_document(root) {\n",
       "    var docs_json = {\"dbbc033e-7b19-452f-bb6f-6a907827fba0\":{\"defs\":[{\"extends\":null,\"module\":null,\"name\":\"ReactiveHTML1\",\"overrides\":[],\"properties\":[]},{\"extends\":null,\"module\":null,\"name\":\"FlexBox1\",\"overrides\":[],\"properties\":[{\"default\":\"flex-start\",\"kind\":null,\"name\":\"align_content\"},{\"default\":\"flex-start\",\"kind\":null,\"name\":\"align_items\"},{\"default\":\"row\",\"kind\":null,\"name\":\"flex_direction\"},{\"default\":\"wrap\",\"kind\":null,\"name\":\"flex_wrap\"},{\"default\":\"flex-start\",\"kind\":null,\"name\":\"justify_content\"}]},{\"extends\":null,\"module\":null,\"name\":\"GridStack1\",\"overrides\":[],\"properties\":[{\"default\":\"warn\",\"kind\":null,\"name\":\"mode\"},{\"default\":null,\"kind\":null,\"name\":\"ncols\"},{\"default\":null,\"kind\":null,\"name\":\"nrows\"},{\"default\":true,\"kind\":null,\"name\":\"allow_resize\"},{\"default\":true,\"kind\":null,\"name\":\"allow_drag\"},{\"default\":[],\"kind\":null,\"name\":\"state\"}]},{\"extends\":null,\"module\":null,\"name\":\"click1\",\"overrides\":[],\"properties\":[{\"default\":\"\",\"kind\":null,\"name\":\"terminal_output\"},{\"default\":\"\",\"kind\":null,\"name\":\"debug_name\"},{\"default\":0,\"kind\":null,\"name\":\"clears\"}]},{\"extends\":null,\"module\":null,\"name\":\"NotificationAreaBase1\",\"overrides\":[],\"properties\":[{\"default\":\"bottom-right\",\"kind\":null,\"name\":\"position\"},{\"default\":0,\"kind\":null,\"name\":\"_clear\"}]},{\"extends\":null,\"module\":null,\"name\":\"NotificationArea1\",\"overrides\":[],\"properties\":[{\"default\":[],\"kind\":null,\"name\":\"notifications\"},{\"default\":\"bottom-right\",\"kind\":null,\"name\":\"position\"},{\"default\":0,\"kind\":null,\"name\":\"_clear\"},{\"default\":[{\"background\":\"#ffc107\",\"icon\":{\"className\":\"fas fa-exclamation-triangle\",\"color\":\"white\",\"tagName\":\"i\"},\"type\":\"warning\"},{\"background\":\"#007bff\",\"icon\":{\"className\":\"fas fa-info-circle\",\"color\":\"white\",\"tagName\":\"i\"},\"type\":\"info\"}],\"kind\":null,\"name\":\"types\"}]},{\"extends\":null,\"module\":null,\"name\":\"Notification\",\"overrides\":[],\"properties\":[{\"default\":null,\"kind\":null,\"name\":\"background\"},{\"default\":3000,\"kind\":null,\"name\":\"duration\"},{\"default\":null,\"kind\":null,\"name\":\"icon\"},{\"default\":\"\",\"kind\":null,\"name\":\"message\"},{\"default\":null,\"kind\":null,\"name\":\"notification_type\"},{\"default\":false,\"kind\":null,\"name\":\"_destroyed\"}]},{\"extends\":null,\"module\":null,\"name\":\"TemplateActions1\",\"overrides\":[],\"properties\":[{\"default\":0,\"kind\":null,\"name\":\"open_modal\"},{\"default\":0,\"kind\":null,\"name\":\"close_modal\"}]},{\"extends\":null,\"module\":null,\"name\":\"MaterialTemplateActions1\",\"overrides\":[],\"properties\":[{\"default\":0,\"kind\":null,\"name\":\"open_modal\"},{\"default\":0,\"kind\":null,\"name\":\"close_modal\"}]}],\"roots\":{\"references\":[{\"attributes\":{\"children\":[{\"id\":\"38922\"},{\"id\":\"38925\"}],\"margin\":[0,0,0,0],\"name\":\"Row188949\"},\"id\":\"38921\",\"type\":\"Row\"},{\"attributes\":{\"children\":[{\"id\":\"38923\"},{\"id\":\"38924\"}],\"margin\":[0,0,0,0],\"name\":\"Column188899\"},\"id\":\"38922\",\"type\":\"Column\"},{\"attributes\":{\"margin\":[5,5,5,5],\"name\":\"HSpacer188948\",\"sizing_mode\":\"stretch_width\"},\"id\":\"38925\",\"type\":\"Spacer\"},{\"attributes\":{\"end\":2022,\"margin\":[5,10,5,10],\"start\":2020,\"title\":\"Year slider\",\"value\":2022},\"id\":\"38923\",\"type\":\"Slider\"},{\"attributes\":{\"margin\":[5,5,5,5],\"name\":\"DataFrame188946\",\"text\":\"&lt;table class=&quot;dataframe panel-df&quot;&gt;\\n  &lt;thead&gt;\\n    &lt;tr style=&quot;text-align: right;&quot;&gt;\\n      &lt;th&gt;&lt;/th&gt;\\n      &lt;th&gt;location&lt;/th&gt;\\n      &lt;th&gt;Death cases per million&lt;/th&gt;\\n    &lt;/tr&gt;\\n  &lt;/thead&gt;\\n  &lt;tbody&gt;\\n    &lt;tr&gt;\\n      &lt;th&gt;0&lt;/th&gt;\\n      &lt;td&gt;Israel&lt;/td&gt;\\n      &lt;td&gt;2580.753474&lt;/td&gt;\\n    &lt;/tr&gt;\\n    &lt;tr&gt;\\n      &lt;th&gt;1&lt;/th&gt;\\n      &lt;td&gt;Germany&lt;/td&gt;\\n      &lt;td&gt;5173.144386&lt;/td&gt;\\n    &lt;/tr&gt;\\n    &lt;tr&gt;\\n      &lt;th&gt;2&lt;/th&gt;\\n      &lt;td&gt;China&lt;/td&gt;\\n      &lt;td&gt;6229.322996&lt;/td&gt;\\n    &lt;/tr&gt;\\n    &lt;tr&gt;\\n      &lt;th&gt;3&lt;/th&gt;\\n      &lt;td&gt;Spain&lt;/td&gt;\\n      &lt;td&gt;8557.917452&lt;/td&gt;\\n    &lt;/tr&gt;\\n    &lt;tr&gt;\\n      &lt;th&gt;4&lt;/th&gt;\\n      &lt;td&gt;United Kingdom&lt;/td&gt;\\n      &lt;td&gt;8913.172357&lt;/td&gt;\\n    &lt;/tr&gt;\\n    &lt;tr&gt;\\n      &lt;th&gt;5&lt;/th&gt;\\n      &lt;td&gt;Italy&lt;/td&gt;\\n      &lt;td&gt;9399.383569&lt;/td&gt;\\n    &lt;/tr&gt;\\n    &lt;tr&gt;\\n      &lt;th&gt;6&lt;/th&gt;\\n      &lt;td&gt;India&lt;/td&gt;\\n      &lt;td&gt;12125.717617&lt;/td&gt;\\n    &lt;/tr&gt;\\n    &lt;tr&gt;\\n      &lt;th&gt;7&lt;/th&gt;\\n      &lt;td&gt;Argentina&lt;/td&gt;\\n      &lt;td&gt;13860.134940&lt;/td&gt;\\n    &lt;/tr&gt;\\n  &lt;/tbody&gt;\\n&lt;/table&gt;\"},\"id\":\"38927\",\"type\":\"panel.models.markup.HTML\"},{\"attributes\":{\"end\":12,\"margin\":[5,10,5,10],\"start\":1,\"title\":\"Month slider\",\"value\":6},\"id\":\"38924\",\"type\":\"Slider\"},{\"attributes\":{\"children\":[{\"id\":\"38927\"}],\"margin\":[0,0,0,0],\"name\":\"Row188904\"},\"id\":\"38926\",\"type\":\"Row\"},{\"attributes\":{\"client_comm_id\":\"816762b293924122ac9aef0b6c62941b\",\"comm_id\":\"00952074143849469dcc51fd155f9de2\",\"plot_id\":\"38919\"},\"id\":\"38928\",\"type\":\"panel.models.comm_manager.CommManager\"},{\"attributes\":{\"children\":[{\"id\":\"38921\"},{\"id\":\"38926\"}],\"margin\":[0,0,0,0],\"name\":\"Column188950\"},\"id\":\"38920\",\"type\":\"Column\"},{\"attributes\":{\"children\":[{\"id\":\"38920\"}],\"margin\":[0,0,0,0],\"name\":\"Row188951\"},\"id\":\"38919\",\"type\":\"Row\"}],\"root_ids\":[\"38919\",\"38928\"]},\"title\":\"Bokeh Application\",\"version\":\"2.4.3\"}};\n",
       "    var render_items = [{\"docid\":\"dbbc033e-7b19-452f-bb6f-6a907827fba0\",\"root_ids\":[\"38919\"],\"roots\":{\"38919\":\"67b5fcff-4cfb-40f7-bd56-18dae5c22b71\"}}];\n",
       "    root.Bokeh.embed.embed_items_notebook(docs_json, render_items);\n",
       "    for (const render_item of render_items) {\n",
       "      for (const root_id of render_item.root_ids) {\n",
       "\tconst id_el = document.getElementById(root_id)\n",
       "\tif (id_el.children.length && (id_el.children[0].className === 'bk-root')) {\n",
       "\t  const root_el = id_el.children[0]\n",
       "\t  root_el.id = root_el.id + '-rendered'\n",
       "\t}\n",
       "      }\n",
       "    }\n",
       "  }\n",
       "  if (root.Bokeh !== undefined && root.Bokeh.Panel !== undefined && ( root['Tabulator'] !== undefined) && ( root['Tabulator'] !== undefined) && ( root['Tabulator'] !== undefined) && ( root['Tabulator'] !== undefined) && ( root['Tabulator'] !== undefined)) {\n",
       "    embed_document(root);\n",
       "  } else {\n",
       "    var attempts = 0;\n",
       "    var timer = setInterval(function(root) {\n",
       "      if (root.Bokeh !== undefined && root.Bokeh.Panel !== undefined && (root['Tabulator'] !== undefined) && (root['Tabulator'] !== undefined) && (root['Tabulator'] !== undefined) && (root['Tabulator'] !== undefined) && (root['Tabulator'] !== undefined)) {\n",
       "        clearInterval(timer);\n",
       "        embed_document(root);\n",
       "      } else if (document.readyState == \"complete\") {\n",
       "        attempts++;\n",
       "        if (attempts > 200) {\n",
       "          clearInterval(timer);\n",
       "          console.log(\"Bokeh: ERROR: Unable to run BokehJS code because BokehJS library is missing\");\n",
       "        }\n",
       "      }\n",
       "    }, 25, root)\n",
       "  }\n",
       "})(window);</script>"
      ],
      "text/plain": [
       "<hvplot.interactive.Interactive at 0x22422e10760>"
      ]
     },
     "execution_count": 343,
     "metadata": {
      "application/vnd.holoviews_exec.v0+json": {
       "id": "38919"
      }
     },
     "output_type": "execute_result"
    }
   ],
   "source": [
    "#Table 2 - death cases per million + sliders\n",
    "idf = copy_df.interactive()\n",
    "deaths_barplot_pipeline = (\n",
    "    idf[\n",
    "        (idf.year == year_slider2)&\n",
    "        (idf.month == month_slider2)&\n",
    "        (idf.location.isin(countries))\n",
    "    ]\n",
    "    .groupby(['location'])['Death cases per million'].mean()\n",
    "    .to_frame()\n",
    "    .reset_index()\n",
    "    .sort_values(by='Death cases per million')  \n",
    "    .reset_index(drop=True)\n",
    ")\n",
    "deaths_barplot_pipeline"
   ]
  },
  {
   "cell_type": "code",
   "execution_count": 344,
   "id": "c7009409",
   "metadata": {},
   "outputs": [
    {
     "data": {},
     "metadata": {},
     "output_type": "display_data"
    },
    {
     "data": {},
     "metadata": {},
     "output_type": "display_data"
    },
    {
     "data": {
      "application/vnd.holoviews_exec.v0+json": "",
      "text/html": [
       "<div id='38929'>\n",
       "  <div class=\"bk-root\" id=\"d71af752-8b34-483e-ab59-8632d559c508\" data-root-id=\"38929\"></div>\n",
       "</div>\n",
       "<script type=\"application/javascript\">(function(root) {\n",
       "  function embed_document(root) {\n",
       "    var docs_json = {\"34ba70b4-cc73-41ec-99bb-86c7775a46f1\":{\"defs\":[{\"extends\":null,\"module\":null,\"name\":\"ReactiveHTML1\",\"overrides\":[],\"properties\":[]},{\"extends\":null,\"module\":null,\"name\":\"FlexBox1\",\"overrides\":[],\"properties\":[{\"default\":\"flex-start\",\"kind\":null,\"name\":\"align_content\"},{\"default\":\"flex-start\",\"kind\":null,\"name\":\"align_items\"},{\"default\":\"row\",\"kind\":null,\"name\":\"flex_direction\"},{\"default\":\"wrap\",\"kind\":null,\"name\":\"flex_wrap\"},{\"default\":\"flex-start\",\"kind\":null,\"name\":\"justify_content\"}]},{\"extends\":null,\"module\":null,\"name\":\"GridStack1\",\"overrides\":[],\"properties\":[{\"default\":\"warn\",\"kind\":null,\"name\":\"mode\"},{\"default\":null,\"kind\":null,\"name\":\"ncols\"},{\"default\":null,\"kind\":null,\"name\":\"nrows\"},{\"default\":true,\"kind\":null,\"name\":\"allow_resize\"},{\"default\":true,\"kind\":null,\"name\":\"allow_drag\"},{\"default\":[],\"kind\":null,\"name\":\"state\"}]},{\"extends\":null,\"module\":null,\"name\":\"click1\",\"overrides\":[],\"properties\":[{\"default\":\"\",\"kind\":null,\"name\":\"terminal_output\"},{\"default\":\"\",\"kind\":null,\"name\":\"debug_name\"},{\"default\":0,\"kind\":null,\"name\":\"clears\"}]},{\"extends\":null,\"module\":null,\"name\":\"NotificationAreaBase1\",\"overrides\":[],\"properties\":[{\"default\":\"bottom-right\",\"kind\":null,\"name\":\"position\"},{\"default\":0,\"kind\":null,\"name\":\"_clear\"}]},{\"extends\":null,\"module\":null,\"name\":\"NotificationArea1\",\"overrides\":[],\"properties\":[{\"default\":[],\"kind\":null,\"name\":\"notifications\"},{\"default\":\"bottom-right\",\"kind\":null,\"name\":\"position\"},{\"default\":0,\"kind\":null,\"name\":\"_clear\"},{\"default\":[{\"background\":\"#ffc107\",\"icon\":{\"className\":\"fas fa-exclamation-triangle\",\"color\":\"white\",\"tagName\":\"i\"},\"type\":\"warning\"},{\"background\":\"#007bff\",\"icon\":{\"className\":\"fas fa-info-circle\",\"color\":\"white\",\"tagName\":\"i\"},\"type\":\"info\"}],\"kind\":null,\"name\":\"types\"}]},{\"extends\":null,\"module\":null,\"name\":\"Notification\",\"overrides\":[],\"properties\":[{\"default\":null,\"kind\":null,\"name\":\"background\"},{\"default\":3000,\"kind\":null,\"name\":\"duration\"},{\"default\":null,\"kind\":null,\"name\":\"icon\"},{\"default\":\"\",\"kind\":null,\"name\":\"message\"},{\"default\":null,\"kind\":null,\"name\":\"notification_type\"},{\"default\":false,\"kind\":null,\"name\":\"_destroyed\"}]},{\"extends\":null,\"module\":null,\"name\":\"TemplateActions1\",\"overrides\":[],\"properties\":[{\"default\":0,\"kind\":null,\"name\":\"open_modal\"},{\"default\":0,\"kind\":null,\"name\":\"close_modal\"}]},{\"extends\":null,\"module\":null,\"name\":\"MaterialTemplateActions1\",\"overrides\":[],\"properties\":[{\"default\":0,\"kind\":null,\"name\":\"open_modal\"},{\"default\":0,\"kind\":null,\"name\":\"close_modal\"}]}],\"roots\":{\"references\":[{\"attributes\":{\"factors\":[\"Israel\",\"Germany\",\"China\",\"Spain\",\"United Kingdom\",\"Italy\",\"India\",\"Argentina\"],\"tags\":[[[\"location\",\"location\",null]]]},\"id\":\"38936\",\"type\":\"FactorRange\"},{\"attributes\":{\"children\":[{\"id\":\"38933\"},{\"id\":\"38934\"}],\"margin\":[0,0,0,0],\"name\":\"Column189104\"},\"id\":\"38932\",\"type\":\"Column\"},{\"attributes\":{},\"id\":\"38982\",\"type\":\"AllLabels\"},{\"attributes\":{\"children\":[{\"id\":\"38931\"},{\"id\":\"38939\"}],\"margin\":[0,0,0,0],\"name\":\"Column189115\"},\"id\":\"38930\",\"type\":\"Column\"},{\"attributes\":{\"margin\":[5,5,5,5],\"name\":\"HSpacer189108\",\"sizing_mode\":\"stretch_width\"},\"id\":\"38935\",\"type\":\"Spacer\"},{\"attributes\":{},\"id\":\"38969\",\"type\":\"Selection\"},{\"attributes\":{},\"id\":\"38944\",\"type\":\"CategoricalScale\"},{\"attributes\":{},\"id\":\"38956\",\"type\":\"PanTool\"},{\"attributes\":{\"below\":[{\"id\":\"38948\"}],\"center\":[{\"id\":\"38950\"},{\"id\":\"38954\"}],\"height\":300,\"left\":[{\"id\":\"38951\"}],\"margin\":[5,5,5,5],\"min_border_bottom\":10,\"min_border_left\":10,\"min_border_right\":10,\"min_border_top\":10,\"renderers\":[{\"id\":\"38974\"}],\"sizing_mode\":\"fixed\",\"title\":{\"id\":\"38940\"},\"toolbar\":{\"id\":\"38961\"},\"width\":590,\"x_range\":{\"id\":\"38936\"},\"x_scale\":{\"id\":\"38944\"},\"y_range\":{\"id\":\"38937\"},\"y_scale\":{\"id\":\"38946\"}},\"id\":\"38939\",\"subtype\":\"Figure\",\"type\":\"Plot\"},{\"attributes\":{\"client_comm_id\":\"f40f31cf94e64b8ca67e3e32cbfaae40\",\"comm_id\":\"5e8002cb20014c46913c6797faefafa8\",\"plot_id\":\"38929\"},\"id\":\"39023\",\"type\":\"panel.models.comm_manager.CommManager\"},{\"attributes\":{\"children\":[{\"id\":\"38930\"}],\"margin\":[0,0,0,0],\"name\":\"Row189116\"},\"id\":\"38929\",\"type\":\"Row\"},{\"attributes\":{},\"id\":\"38955\",\"type\":\"SaveTool\"},{\"attributes\":{\"axis_label\":\"location\",\"coordinates\":null,\"formatter\":{\"id\":\"38978\"},\"group\":null,\"major_label_policy\":{\"id\":\"38979\"},\"ticker\":{\"id\":\"38949\"}},\"id\":\"38948\",\"type\":\"CategoricalAxis\"},{\"attributes\":{\"source\":{\"id\":\"38968\"}},\"id\":\"38975\",\"type\":\"CDSView\"},{\"attributes\":{\"data\":{\"Death_cases_per_million\":{\"__ndarray__\":\"Uj1Mx4EppED0u3n2JDW0QPRg2q9SVbhALhkOb/W2wED7DMwPlmjBQM2QyxixW8JAhFLe2tuux0BzjrpFERLLQA==\",\"dtype\":\"float64\",\"order\":\"little\",\"shape\":[8]},\"location\":[\"Israel\",\"Germany\",\"China\",\"Spain\",\"United Kingdom\",\"Italy\",\"India\",\"Argentina\"]},\"selected\":{\"id\":\"38969\"},\"selection_policy\":{\"id\":\"38990\"}},\"id\":\"38968\",\"type\":\"ColumnDataSource\"},{\"attributes\":{},\"id\":\"38952\",\"type\":\"BasicTicker\"},{\"attributes\":{\"bottom\":{\"value\":0},\"fill_alpha\":{\"value\":1.0},\"fill_color\":{\"value\":\"Purple\"},\"hatch_alpha\":{\"value\":1.0},\"hatch_color\":{\"value\":\"Purple\"},\"hatch_scale\":{\"value\":12.0},\"hatch_weight\":{\"value\":1.0},\"line_alpha\":{\"value\":1.0},\"line_cap\":{\"value\":\"butt\"},\"line_color\":{\"value\":\"black\"},\"line_dash\":{\"value\":[]},\"line_dash_offset\":{\"value\":0},\"line_join\":{\"value\":\"bevel\"},\"line_width\":{\"value\":1},\"top\":{\"field\":\"Death_cases_per_million\"},\"width\":{\"value\":0.8},\"x\":{\"field\":\"location\"}},\"id\":\"38976\",\"type\":\"VBar\"},{\"attributes\":{},\"id\":\"38990\",\"type\":\"UnionRenderers\"},{\"attributes\":{},\"id\":\"38957\",\"type\":\"WheelZoomTool\"},{\"attributes\":{\"axis\":{\"id\":\"38951\"},\"coordinates\":null,\"dimension\":1,\"grid_line_color\":null,\"group\":null,\"ticker\":null},\"id\":\"38954\",\"type\":\"Grid\"},{\"attributes\":{\"end\":2022,\"margin\":[5,10,5,10],\"start\":2020,\"title\":\"Year slider\",\"value\":2022},\"id\":\"38933\",\"type\":\"Slider\"},{\"attributes\":{},\"id\":\"38959\",\"type\":\"ResetTool\"},{\"attributes\":{\"coordinates\":null,\"data_source\":{\"id\":\"38968\"},\"glyph\":{\"id\":\"38971\"},\"group\":null,\"hover_glyph\":null,\"muted_glyph\":{\"id\":\"38973\"},\"nonselection_glyph\":{\"id\":\"38972\"},\"selection_glyph\":{\"id\":\"38976\"},\"view\":{\"id\":\"38975\"}},\"id\":\"38974\",\"type\":\"GlyphRenderer\"},{\"attributes\":{\"bottom_units\":\"screen\",\"coordinates\":null,\"fill_alpha\":0.5,\"fill_color\":\"lightgrey\",\"group\":null,\"left_units\":\"screen\",\"level\":\"overlay\",\"line_alpha\":1.0,\"line_color\":\"black\",\"line_dash\":[4,4],\"line_width\":2,\"right_units\":\"screen\",\"syncable\":false,\"top_units\":\"screen\"},\"id\":\"38960\",\"type\":\"BoxAnnotation\"},{\"attributes\":{\"fill_alpha\":{\"value\":0.1},\"fill_color\":{\"value\":\"Purple\"},\"hatch_alpha\":{\"value\":0.1},\"hatch_color\":{\"value\":\"Purple\"},\"line_alpha\":{\"value\":0.1},\"top\":{\"field\":\"Death_cases_per_million\"},\"width\":{\"value\":0.8},\"x\":{\"field\":\"location\"}},\"id\":\"38972\",\"type\":\"VBar\"},{\"attributes\":{},\"id\":\"38979\",\"type\":\"AllLabels\"},{\"attributes\":{},\"id\":\"38946\",\"type\":\"LinearScale\"},{\"attributes\":{\"end\":14988.073087132703,\"reset_end\":14988.073087132703,\"reset_start\":0.0,\"tags\":[[[\"Death cases per million\",\"Death cases per million\",null]]]},\"id\":\"38937\",\"type\":\"Range1d\"},{\"attributes\":{},\"id\":\"38978\",\"type\":\"CategoricalTickFormatter\"},{\"attributes\":{\"end\":12,\"margin\":[5,10,5,10],\"start\":1,\"title\":\"Month slider\",\"value\":6},\"id\":\"38934\",\"type\":\"Slider\"},{\"attributes\":{\"children\":[{\"id\":\"38932\"},{\"id\":\"38935\"}],\"margin\":[0,0,0,0],\"name\":\"Row189109\"},\"id\":\"38931\",\"type\":\"Row\"},{\"attributes\":{\"tools\":[{\"id\":\"38938\"},{\"id\":\"38955\"},{\"id\":\"38956\"},{\"id\":\"38957\"},{\"id\":\"38958\"},{\"id\":\"38959\"}]},\"id\":\"38961\",\"type\":\"Toolbar\"},{\"attributes\":{\"axis_label\":\"Death cases per million\",\"coordinates\":null,\"formatter\":{\"id\":\"38981\"},\"group\":null,\"major_label_policy\":{\"id\":\"38982\"},\"ticker\":{\"id\":\"38952\"}},\"id\":\"38951\",\"type\":\"LinearAxis\"},{\"attributes\":{},\"id\":\"38981\",\"type\":\"BasicTickFormatter\"},{\"attributes\":{\"fill_alpha\":{\"value\":0.2},\"fill_color\":{\"value\":\"Purple\"},\"hatch_alpha\":{\"value\":0.2},\"hatch_color\":{\"value\":\"Purple\"},\"line_alpha\":{\"value\":0.2},\"top\":{\"field\":\"Death_cases_per_million\"},\"width\":{\"value\":0.8},\"x\":{\"field\":\"location\"}},\"id\":\"38973\",\"type\":\"VBar\"},{\"attributes\":{\"coordinates\":null,\"group\":null,\"text\":\"Death cases per million\",\"text_color\":\"black\",\"text_font_size\":\"12pt\"},\"id\":\"38940\",\"type\":\"Title\"},{\"attributes\":{\"overlay\":{\"id\":\"38960\"}},\"id\":\"38958\",\"type\":\"BoxZoomTool\"},{\"attributes\":{\"callback\":null,\"renderers\":[{\"id\":\"38974\"}],\"tags\":[\"hv_created\"],\"tooltips\":[[\"location\",\"@{location}\"],[\"Death cases per million\",\"@{Death_cases_per_million}\"]]},\"id\":\"38938\",\"type\":\"HoverTool\"},{\"attributes\":{\"fill_color\":{\"value\":\"Purple\"},\"hatch_color\":{\"value\":\"Purple\"},\"top\":{\"field\":\"Death_cases_per_million\"},\"width\":{\"value\":0.8},\"x\":{\"field\":\"location\"}},\"id\":\"38971\",\"type\":\"VBar\"},{\"attributes\":{\"axis\":{\"id\":\"38948\"},\"coordinates\":null,\"grid_line_color\":null,\"group\":null,\"ticker\":null},\"id\":\"38950\",\"type\":\"Grid\"},{\"attributes\":{},\"id\":\"38949\",\"type\":\"CategoricalTicker\"}],\"root_ids\":[\"38929\",\"39023\"]},\"title\":\"Bokeh Application\",\"version\":\"2.4.3\"}};\n",
       "    var render_items = [{\"docid\":\"34ba70b4-cc73-41ec-99bb-86c7775a46f1\",\"root_ids\":[\"38929\"],\"roots\":{\"38929\":\"d71af752-8b34-483e-ab59-8632d559c508\"}}];\n",
       "    root.Bokeh.embed.embed_items_notebook(docs_json, render_items);\n",
       "    for (const render_item of render_items) {\n",
       "      for (const root_id of render_item.root_ids) {\n",
       "\tconst id_el = document.getElementById(root_id)\n",
       "\tif (id_el.children.length && (id_el.children[0].className === 'bk-root')) {\n",
       "\t  const root_el = id_el.children[0]\n",
       "\t  root_el.id = root_el.id + '-rendered'\n",
       "\t}\n",
       "      }\n",
       "    }\n",
       "  }\n",
       "  if (root.Bokeh !== undefined && root.Bokeh.Panel !== undefined && ( root['Tabulator'] !== undefined) && ( root['Tabulator'] !== undefined) && ( root['Tabulator'] !== undefined) && ( root['Tabulator'] !== undefined) && ( root['Tabulator'] !== undefined)) {\n",
       "    embed_document(root);\n",
       "  } else {\n",
       "    var attempts = 0;\n",
       "    var timer = setInterval(function(root) {\n",
       "      if (root.Bokeh !== undefined && root.Bokeh.Panel !== undefined && (root['Tabulator'] !== undefined) && (root['Tabulator'] !== undefined) && (root['Tabulator'] !== undefined) && (root['Tabulator'] !== undefined) && (root['Tabulator'] !== undefined)) {\n",
       "        clearInterval(timer);\n",
       "        embed_document(root);\n",
       "      } else if (document.readyState == \"complete\") {\n",
       "        attempts++;\n",
       "        if (attempts > 200) {\n",
       "          clearInterval(timer);\n",
       "          console.log(\"Bokeh: ERROR: Unable to run BokehJS code because BokehJS library is missing\");\n",
       "        }\n",
       "      }\n",
       "    }, 25, root)\n",
       "  }\n",
       "})(window);</script>"
      ],
      "text/plain": [
       "<hvplot.interactive.Interactive at 0x22423536400>"
      ]
     },
     "execution_count": 344,
     "metadata": {
      "application/vnd.holoviews_exec.v0+json": {
       "id": "38929"
      }
     },
     "output_type": "execute_result"
    }
   ],
   "source": [
    "#Graph 2 hvplot - death caes per million - barplot\n",
    "deaths_barplot = deaths_barplot_pipeline.hvplot(kind='bar',\n",
    "                                                        x='location',\n",
    "                                                        y='Death cases per million',\n",
    "                                                        stacked=True,\n",
    "                                                        color = 'Purple',\n",
    "                                                        size=100,\n",
    "                                                        width=590,\n",
    "                                                        legend='top_left',\n",
    "                                                        title='Death cases per million')\n",
    "deaths_barplot"
   ]
  },
  {
   "cell_type": "markdown",
   "id": "3e8d8dfa",
   "metadata": {},
   "source": [
    "## Graph 3 - Weekly ICU admissions by location (#2 in dashboard)"
   ]
  },
  {
   "cell_type": "code",
   "execution_count": 345,
   "id": "73582f8a",
   "metadata": {},
   "outputs": [
    {
     "data": {},
     "metadata": {},
     "output_type": "display_data"
    },
    {
     "data": {
      "application/vnd.holoviews_exec.v0+json": "",
      "text/html": [
       "<div id='39074'>\n",
       "  <div class=\"bk-root\" id=\"1f13b5aa-e9b4-49c9-8dec-56fc4fc7c808\" data-root-id=\"39074\"></div>\n",
       "</div>\n",
       "<script type=\"application/javascript\">(function(root) {\n",
       "  function embed_document(root) {\n",
       "    var docs_json = {\"0336e1ce-d818-4395-a6ee-41b54ca1c0d8\":{\"defs\":[{\"extends\":null,\"module\":null,\"name\":\"ReactiveHTML1\",\"overrides\":[],\"properties\":[]},{\"extends\":null,\"module\":null,\"name\":\"FlexBox1\",\"overrides\":[],\"properties\":[{\"default\":\"flex-start\",\"kind\":null,\"name\":\"align_content\"},{\"default\":\"flex-start\",\"kind\":null,\"name\":\"align_items\"},{\"default\":\"row\",\"kind\":null,\"name\":\"flex_direction\"},{\"default\":\"wrap\",\"kind\":null,\"name\":\"flex_wrap\"},{\"default\":\"flex-start\",\"kind\":null,\"name\":\"justify_content\"}]},{\"extends\":null,\"module\":null,\"name\":\"GridStack1\",\"overrides\":[],\"properties\":[{\"default\":\"warn\",\"kind\":null,\"name\":\"mode\"},{\"default\":null,\"kind\":null,\"name\":\"ncols\"},{\"default\":null,\"kind\":null,\"name\":\"nrows\"},{\"default\":true,\"kind\":null,\"name\":\"allow_resize\"},{\"default\":true,\"kind\":null,\"name\":\"allow_drag\"},{\"default\":[],\"kind\":null,\"name\":\"state\"}]},{\"extends\":null,\"module\":null,\"name\":\"click1\",\"overrides\":[],\"properties\":[{\"default\":\"\",\"kind\":null,\"name\":\"terminal_output\"},{\"default\":\"\",\"kind\":null,\"name\":\"debug_name\"},{\"default\":0,\"kind\":null,\"name\":\"clears\"}]},{\"extends\":null,\"module\":null,\"name\":\"NotificationAreaBase1\",\"overrides\":[],\"properties\":[{\"default\":\"bottom-right\",\"kind\":null,\"name\":\"position\"},{\"default\":0,\"kind\":null,\"name\":\"_clear\"}]},{\"extends\":null,\"module\":null,\"name\":\"NotificationArea1\",\"overrides\":[],\"properties\":[{\"default\":[],\"kind\":null,\"name\":\"notifications\"},{\"default\":\"bottom-right\",\"kind\":null,\"name\":\"position\"},{\"default\":0,\"kind\":null,\"name\":\"_clear\"},{\"default\":[{\"background\":\"#ffc107\",\"icon\":{\"className\":\"fas fa-exclamation-triangle\",\"color\":\"white\",\"tagName\":\"i\"},\"type\":\"warning\"},{\"background\":\"#007bff\",\"icon\":{\"className\":\"fas fa-info-circle\",\"color\":\"white\",\"tagName\":\"i\"},\"type\":\"info\"}],\"kind\":null,\"name\":\"types\"}]},{\"extends\":null,\"module\":null,\"name\":\"Notification\",\"overrides\":[],\"properties\":[{\"default\":null,\"kind\":null,\"name\":\"background\"},{\"default\":3000,\"kind\":null,\"name\":\"duration\"},{\"default\":null,\"kind\":null,\"name\":\"icon\"},{\"default\":\"\",\"kind\":null,\"name\":\"message\"},{\"default\":null,\"kind\":null,\"name\":\"notification_type\"},{\"default\":false,\"kind\":null,\"name\":\"_destroyed\"}]},{\"extends\":null,\"module\":null,\"name\":\"TemplateActions1\",\"overrides\":[],\"properties\":[{\"default\":0,\"kind\":null,\"name\":\"open_modal\"},{\"default\":0,\"kind\":null,\"name\":\"close_modal\"}]},{\"extends\":null,\"module\":null,\"name\":\"MaterialTemplateActions1\",\"overrides\":[],\"properties\":[{\"default\":0,\"kind\":null,\"name\":\"open_modal\"},{\"default\":0,\"kind\":null,\"name\":\"close_modal\"}]}],\"roots\":{\"references\":[{\"attributes\":{\"client_comm_id\":\"3b2d7ba9f2064b1da11237ae71abae67\",\"comm_id\":\"d28bb7384f734eb5ac36250219ec99aa\",\"plot_id\":\"39074\"},\"id\":\"39075\",\"type\":\"panel.models.comm_manager.CommManager\"},{\"attributes\":{\"active\":0,\"button_type\":\"success\",\"labels\":[\"weekly_icu_admissions\",\"weekly_icu_admissions_per_million\"],\"margin\":[5,10,5,10],\"orientation\":\"vertical\"},\"id\":\"39074\",\"type\":\"RadioButtonGroup\"}],\"root_ids\":[\"39074\",\"39075\"]},\"title\":\"Bokeh Application\",\"version\":\"2.4.3\"}};\n",
       "    var render_items = [{\"docid\":\"0336e1ce-d818-4395-a6ee-41b54ca1c0d8\",\"root_ids\":[\"39074\"],\"roots\":{\"39074\":\"1f13b5aa-e9b4-49c9-8dec-56fc4fc7c808\"}}];\n",
       "    root.Bokeh.embed.embed_items_notebook(docs_json, render_items);\n",
       "    for (const render_item of render_items) {\n",
       "      for (const root_id of render_item.root_ids) {\n",
       "\tconst id_el = document.getElementById(root_id)\n",
       "\tif (id_el.children.length && (id_el.children[0].className === 'bk-root')) {\n",
       "\t  const root_el = id_el.children[0]\n",
       "\t  root_el.id = root_el.id + '-rendered'\n",
       "\t}\n",
       "      }\n",
       "    }\n",
       "  }\n",
       "  if (root.Bokeh !== undefined && root.Bokeh.Panel !== undefined && ( root['Tabulator'] !== undefined) && ( root['Tabulator'] !== undefined) && ( root['Tabulator'] !== undefined) && ( root['Tabulator'] !== undefined) && ( root['Tabulator'] !== undefined)) {\n",
       "    embed_document(root);\n",
       "  } else {\n",
       "    var attempts = 0;\n",
       "    var timer = setInterval(function(root) {\n",
       "      if (root.Bokeh !== undefined && root.Bokeh.Panel !== undefined && (root['Tabulator'] !== undefined) && (root['Tabulator'] !== undefined) && (root['Tabulator'] !== undefined) && (root['Tabulator'] !== undefined) && (root['Tabulator'] !== undefined)) {\n",
       "        clearInterval(timer);\n",
       "        embed_document(root);\n",
       "      } else if (document.readyState == \"complete\") {\n",
       "        attempts++;\n",
       "        if (attempts > 200) {\n",
       "          clearInterval(timer);\n",
       "          console.log(\"Bokeh: ERROR: Unable to run BokehJS code because BokehJS library is missing\");\n",
       "        }\n",
       "      }\n",
       "    }, 25, root)\n",
       "  }\n",
       "})(window);</script>"
      ],
      "text/plain": [
       "RadioButtonGroup(button_type='success', name='Y axis', options=['weekly_icu_admissions', ...], orientation='vertical', value='weekly_icu_admissions')"
      ]
     },
     "execution_count": 345,
     "metadata": {
      "application/vnd.holoviews_exec.v0+json": {
       "id": "39074"
      }
     },
     "output_type": "execute_result"
    }
   ],
   "source": [
    "# Radio button of weekly icu admissions by years per location\n",
    "yaxis_w_icu_admi = pn.widgets.RadioButtonGroup(\n",
    "    name='Y axis', \n",
    "    options=['weekly_icu_admissions', 'weekly_icu_admissions_per_million',],\n",
    "    button_type='success',\n",
    "    orientation = 'vertical'\n",
    ")\n",
    "\n",
    "yaxis_w_icu_admi"
   ]
  },
  {
   "cell_type": "code",
   "execution_count": 346,
   "id": "67fe20e3",
   "metadata": {},
   "outputs": [
    {
     "data": {},
     "metadata": {},
     "output_type": "display_data"
    },
    {
     "data": {
      "application/vnd.holoviews_exec.v0+json": "",
      "text/html": [
       "<div id='39076'>\n",
       "  <div class=\"bk-root\" id=\"1df0df6e-94e5-40c3-a10f-7f5b45009bdd\" data-root-id=\"39076\"></div>\n",
       "</div>\n",
       "<script type=\"application/javascript\">(function(root) {\n",
       "  function embed_document(root) {\n",
       "    var docs_json = {\"7eed1111-28ea-4372-a3fa-2ab843250047\":{\"defs\":[{\"extends\":null,\"module\":null,\"name\":\"ReactiveHTML1\",\"overrides\":[],\"properties\":[]},{\"extends\":null,\"module\":null,\"name\":\"FlexBox1\",\"overrides\":[],\"properties\":[{\"default\":\"flex-start\",\"kind\":null,\"name\":\"align_content\"},{\"default\":\"flex-start\",\"kind\":null,\"name\":\"align_items\"},{\"default\":\"row\",\"kind\":null,\"name\":\"flex_direction\"},{\"default\":\"wrap\",\"kind\":null,\"name\":\"flex_wrap\"},{\"default\":\"flex-start\",\"kind\":null,\"name\":\"justify_content\"}]},{\"extends\":null,\"module\":null,\"name\":\"GridStack1\",\"overrides\":[],\"properties\":[{\"default\":\"warn\",\"kind\":null,\"name\":\"mode\"},{\"default\":null,\"kind\":null,\"name\":\"ncols\"},{\"default\":null,\"kind\":null,\"name\":\"nrows\"},{\"default\":true,\"kind\":null,\"name\":\"allow_resize\"},{\"default\":true,\"kind\":null,\"name\":\"allow_drag\"},{\"default\":[],\"kind\":null,\"name\":\"state\"}]},{\"extends\":null,\"module\":null,\"name\":\"click1\",\"overrides\":[],\"properties\":[{\"default\":\"\",\"kind\":null,\"name\":\"terminal_output\"},{\"default\":\"\",\"kind\":null,\"name\":\"debug_name\"},{\"default\":0,\"kind\":null,\"name\":\"clears\"}]},{\"extends\":null,\"module\":null,\"name\":\"NotificationAreaBase1\",\"overrides\":[],\"properties\":[{\"default\":\"bottom-right\",\"kind\":null,\"name\":\"position\"},{\"default\":0,\"kind\":null,\"name\":\"_clear\"}]},{\"extends\":null,\"module\":null,\"name\":\"NotificationArea1\",\"overrides\":[],\"properties\":[{\"default\":[],\"kind\":null,\"name\":\"notifications\"},{\"default\":\"bottom-right\",\"kind\":null,\"name\":\"position\"},{\"default\":0,\"kind\":null,\"name\":\"_clear\"},{\"default\":[{\"background\":\"#ffc107\",\"icon\":{\"className\":\"fas fa-exclamation-triangle\",\"color\":\"white\",\"tagName\":\"i\"},\"type\":\"warning\"},{\"background\":\"#007bff\",\"icon\":{\"className\":\"fas fa-info-circle\",\"color\":\"white\",\"tagName\":\"i\"},\"type\":\"info\"}],\"kind\":null,\"name\":\"types\"}]},{\"extends\":null,\"module\":null,\"name\":\"Notification\",\"overrides\":[],\"properties\":[{\"default\":null,\"kind\":null,\"name\":\"background\"},{\"default\":3000,\"kind\":null,\"name\":\"duration\"},{\"default\":null,\"kind\":null,\"name\":\"icon\"},{\"default\":\"\",\"kind\":null,\"name\":\"message\"},{\"default\":null,\"kind\":null,\"name\":\"notification_type\"},{\"default\":false,\"kind\":null,\"name\":\"_destroyed\"}]},{\"extends\":null,\"module\":null,\"name\":\"TemplateActions1\",\"overrides\":[],\"properties\":[{\"default\":0,\"kind\":null,\"name\":\"open_modal\"},{\"default\":0,\"kind\":null,\"name\":\"close_modal\"}]},{\"extends\":null,\"module\":null,\"name\":\"MaterialTemplateActions1\",\"overrides\":[],\"properties\":[{\"default\":0,\"kind\":null,\"name\":\"open_modal\"},{\"default\":0,\"kind\":null,\"name\":\"close_modal\"}]}],\"roots\":{\"references\":[{\"attributes\":{\"client_comm_id\":\"203ceec7224a4e678d370ee251054681\",\"comm_id\":\"7ea41003489b4528b3782ca9b40889ad\",\"plot_id\":\"39076\"},\"id\":\"39077\",\"type\":\"panel.models.comm_manager.CommManager\"},{\"attributes\":{\"end\":2023,\"margin\":[5,10,5,10],\"start\":2020,\"title\":\"Year slider\",\"value\":2020},\"id\":\"39076\",\"type\":\"Slider\"}],\"root_ids\":[\"39076\",\"39077\"]},\"title\":\"Bokeh Application\",\"version\":\"2.4.3\"}};\n",
       "    var render_items = [{\"docid\":\"7eed1111-28ea-4372-a3fa-2ab843250047\",\"root_ids\":[\"39076\"],\"roots\":{\"39076\":\"1df0df6e-94e5-40c3-a10f-7f5b45009bdd\"}}];\n",
       "    root.Bokeh.embed.embed_items_notebook(docs_json, render_items);\n",
       "    for (const render_item of render_items) {\n",
       "      for (const root_id of render_item.root_ids) {\n",
       "\tconst id_el = document.getElementById(root_id)\n",
       "\tif (id_el.children.length && (id_el.children[0].className === 'bk-root')) {\n",
       "\t  const root_el = id_el.children[0]\n",
       "\t  root_el.id = root_el.id + '-rendered'\n",
       "\t}\n",
       "      }\n",
       "    }\n",
       "  }\n",
       "  if (root.Bokeh !== undefined && root.Bokeh.Panel !== undefined && ( root['Tabulator'] !== undefined) && ( root['Tabulator'] !== undefined) && ( root['Tabulator'] !== undefined) && ( root['Tabulator'] !== undefined) && ( root['Tabulator'] !== undefined)) {\n",
       "    embed_document(root);\n",
       "  } else {\n",
       "    var attempts = 0;\n",
       "    var timer = setInterval(function(root) {\n",
       "      if (root.Bokeh !== undefined && root.Bokeh.Panel !== undefined && (root['Tabulator'] !== undefined) && (root['Tabulator'] !== undefined) && (root['Tabulator'] !== undefined) && (root['Tabulator'] !== undefined) && (root['Tabulator'] !== undefined)) {\n",
       "        clearInterval(timer);\n",
       "        embed_document(root);\n",
       "      } else if (document.readyState == \"complete\") {\n",
       "        attempts++;\n",
       "        if (attempts > 200) {\n",
       "          clearInterval(timer);\n",
       "          console.log(\"Bokeh: ERROR: Unable to run BokehJS code because BokehJS library is missing\");\n",
       "        }\n",
       "      }\n",
       "    }, 25, root)\n",
       "  }\n",
       "})(window);</script>"
      ],
      "text/plain": [
       "IntSlider(end=2023, name='Year slider', start=2020, value=2020)"
      ]
     },
     "execution_count": 346,
     "metadata": {
      "application/vnd.holoviews_exec.v0+json": {
       "id": "39076"
      }
     },
     "output_type": "execute_result"
    }
   ],
   "source": [
    "# Define Panel widgets - year slider\n",
    "years_slider = pn.widgets.IntSlider(name='Year slider', start=2020, end=2023, step=1)\n",
    "years_slider"
   ]
  },
  {
   "cell_type": "code",
   "execution_count": 347,
   "id": "581dc888",
   "metadata": {},
   "outputs": [
    {
     "name": "stdout",
     "output_type": "stream",
     "text": [
      "['Chile' 'Cyprus' 'Czechia' 'Estonia' 'France' 'Germany' 'Greece'\n",
      " 'Ireland' 'Israel' 'Italy' 'Latvia' 'Lithuania' 'Luxembourg' 'Malta'\n",
      " 'Netherlands' 'Norway' 'Singapore' 'Slovakia' 'Slovenia' 'South Korea'\n",
      " 'Spain']\n"
     ]
    }
   ],
   "source": [
    "list_of_loc = []\n",
    "for num in range(len((copy_df['weekly_icu_admissions']))):\n",
    "    if copy_df['weekly_icu_admissions'][num]>0:\n",
    "       list_of_loc.append(copy_df['location'][num])\n",
    "\n",
    "print(np.unique(list_of_loc))\n",
    "\n"
   ]
  },
  {
   "cell_type": "code",
   "execution_count": 348,
   "id": "99161318",
   "metadata": {},
   "outputs": [],
   "source": [
    "locations = ['Chile','Cyprus', 'Czechia','Estonia','France','Germany', 'Greece',\n",
    "             'Ireland', 'Israel', 'Italy', 'Latvia', 'Lithuania', 'Luxembourg', 'Malta',\n",
    "             'Netherlands', 'Norway', 'Singapore', 'Slovakia', 'Slovenia', 'South Korea','Spain']\n",
    "\n",
    "selected = ['Chile', 'Czechia','France','Germany', 'Greece', 'Israel', 'Italy',\n",
    "             'Netherlands', 'Singapore', 'South Korea','Spain']"
   ]
  },
  {
   "cell_type": "code",
   "execution_count": 349,
   "id": "bdc77944",
   "metadata": {},
   "outputs": [
    {
     "data": {},
     "metadata": {},
     "output_type": "display_data"
    },
    {
     "data": {
      "application/vnd.holoviews_exec.v0+json": "",
      "text/html": [
       "<div id='39078'>\n",
       "  <div class=\"bk-root\" id=\"f4447ab2-425c-4a34-ac9c-2e1d11eff416\" data-root-id=\"39078\"></div>\n",
       "</div>\n",
       "<script type=\"application/javascript\">(function(root) {\n",
       "  function embed_document(root) {\n",
       "    var docs_json = {\"c9af86a7-d891-4351-abff-02a69c6ea1bc\":{\"defs\":[{\"extends\":null,\"module\":null,\"name\":\"ReactiveHTML1\",\"overrides\":[],\"properties\":[]},{\"extends\":null,\"module\":null,\"name\":\"FlexBox1\",\"overrides\":[],\"properties\":[{\"default\":\"flex-start\",\"kind\":null,\"name\":\"align_content\"},{\"default\":\"flex-start\",\"kind\":null,\"name\":\"align_items\"},{\"default\":\"row\",\"kind\":null,\"name\":\"flex_direction\"},{\"default\":\"wrap\",\"kind\":null,\"name\":\"flex_wrap\"},{\"default\":\"flex-start\",\"kind\":null,\"name\":\"justify_content\"}]},{\"extends\":null,\"module\":null,\"name\":\"GridStack1\",\"overrides\":[],\"properties\":[{\"default\":\"warn\",\"kind\":null,\"name\":\"mode\"},{\"default\":null,\"kind\":null,\"name\":\"ncols\"},{\"default\":null,\"kind\":null,\"name\":\"nrows\"},{\"default\":true,\"kind\":null,\"name\":\"allow_resize\"},{\"default\":true,\"kind\":null,\"name\":\"allow_drag\"},{\"default\":[],\"kind\":null,\"name\":\"state\"}]},{\"extends\":null,\"module\":null,\"name\":\"click1\",\"overrides\":[],\"properties\":[{\"default\":\"\",\"kind\":null,\"name\":\"terminal_output\"},{\"default\":\"\",\"kind\":null,\"name\":\"debug_name\"},{\"default\":0,\"kind\":null,\"name\":\"clears\"}]},{\"extends\":null,\"module\":null,\"name\":\"NotificationAreaBase1\",\"overrides\":[],\"properties\":[{\"default\":\"bottom-right\",\"kind\":null,\"name\":\"position\"},{\"default\":0,\"kind\":null,\"name\":\"_clear\"}]},{\"extends\":null,\"module\":null,\"name\":\"NotificationArea1\",\"overrides\":[],\"properties\":[{\"default\":[],\"kind\":null,\"name\":\"notifications\"},{\"default\":\"bottom-right\",\"kind\":null,\"name\":\"position\"},{\"default\":0,\"kind\":null,\"name\":\"_clear\"},{\"default\":[{\"background\":\"#ffc107\",\"icon\":{\"className\":\"fas fa-exclamation-triangle\",\"color\":\"white\",\"tagName\":\"i\"},\"type\":\"warning\"},{\"background\":\"#007bff\",\"icon\":{\"className\":\"fas fa-info-circle\",\"color\":\"white\",\"tagName\":\"i\"},\"type\":\"info\"}],\"kind\":null,\"name\":\"types\"}]},{\"extends\":null,\"module\":null,\"name\":\"Notification\",\"overrides\":[],\"properties\":[{\"default\":null,\"kind\":null,\"name\":\"background\"},{\"default\":3000,\"kind\":null,\"name\":\"duration\"},{\"default\":null,\"kind\":null,\"name\":\"icon\"},{\"default\":\"\",\"kind\":null,\"name\":\"message\"},{\"default\":null,\"kind\":null,\"name\":\"notification_type\"},{\"default\":false,\"kind\":null,\"name\":\"_destroyed\"}]},{\"extends\":null,\"module\":null,\"name\":\"TemplateActions1\",\"overrides\":[],\"properties\":[{\"default\":0,\"kind\":null,\"name\":\"open_modal\"},{\"default\":0,\"kind\":null,\"name\":\"close_modal\"}]},{\"extends\":null,\"module\":null,\"name\":\"MaterialTemplateActions1\",\"overrides\":[],\"properties\":[{\"default\":0,\"kind\":null,\"name\":\"open_modal\"},{\"default\":0,\"kind\":null,\"name\":\"close_modal\"}]}],\"roots\":{\"references\":[{\"attributes\":{\"children\":[{\"id\":\"39079\"}],\"margin\":[0,0,0,0],\"name\":\"Row190173\"},\"id\":\"39078\",\"type\":\"Row\"},{\"attributes\":{\"children\":[{\"id\":\"39085\"}],\"margin\":[0,0,0,0],\"name\":\"Row190132\"},\"id\":\"39084\",\"type\":\"Row\"},{\"attributes\":{\"margin\":[5,5,5,5],\"name\":\"HSpacer190170\",\"sizing_mode\":\"stretch_width\"},\"id\":\"39083\",\"type\":\"Spacer\"},{\"attributes\":{\"children\":[{\"id\":\"39082\"}],\"margin\":[0,0,0,0],\"name\":\"Column190127\"},\"id\":\"39081\",\"type\":\"Column\"},{\"attributes\":{\"active\":0,\"button_type\":\"success\",\"labels\":[\"weekly_icu_admissions\",\"weekly_icu_admissions_per_million\"],\"margin\":[5,10,5,10],\"orientation\":\"vertical\"},\"id\":\"39082\",\"type\":\"RadioButtonGroup\"},{\"attributes\":{\"client_comm_id\":\"1934d4f665cf4ac5aa49339c6488ca7f\",\"comm_id\":\"eaa4037b55e442e48e5df2e54907294b\",\"plot_id\":\"39078\"},\"id\":\"39086\",\"type\":\"panel.models.comm_manager.CommManager\"},{\"attributes\":{\"children\":[{\"id\":\"39080\"},{\"id\":\"39084\"}],\"margin\":[0,0,0,0],\"name\":\"Column190172\"},\"id\":\"39079\",\"type\":\"Column\"},{\"attributes\":{\"children\":[{\"id\":\"39081\"},{\"id\":\"39083\"}],\"margin\":[0,0,0,0],\"name\":\"Row190171\"},\"id\":\"39080\",\"type\":\"Row\"},{\"attributes\":{\"margin\":[5,5,5,5],\"name\":\"DataFrame190168\",\"text\":\"&lt;table class=&quot;dataframe panel-df&quot;&gt;\\n  &lt;thead&gt;\\n    &lt;tr style=&quot;text-align: right;&quot;&gt;\\n      &lt;th&gt;&lt;/th&gt;\\n      &lt;th&gt;location&lt;/th&gt;\\n      &lt;th&gt;year&lt;/th&gt;\\n      &lt;th&gt;weekly_icu_admissions&lt;/th&gt;\\n    &lt;/tr&gt;\\n  &lt;/thead&gt;\\n  &lt;tbody&gt;\\n    &lt;tr&gt;\\n      &lt;th&gt;0&lt;/th&gt;\\n      &lt;td&gt;Chile&lt;/td&gt;\\n      &lt;td&gt;2020&lt;/td&gt;\\n      &lt;td&gt;420.164751&lt;/td&gt;\\n    &lt;/tr&gt;\\n    &lt;tr&gt;\\n      &lt;th&gt;1&lt;/th&gt;\\n      &lt;td&gt;Chile&lt;/td&gt;\\n      &lt;td&gt;2021&lt;/td&gt;\\n      &lt;td&gt;663.271233&lt;/td&gt;\\n    &lt;/tr&gt;\\n    &lt;tr&gt;\\n      &lt;th&gt;2&lt;/th&gt;\\n      &lt;td&gt;Chile&lt;/td&gt;\\n      &lt;td&gt;2022&lt;/td&gt;\\n      &lt;td&gt;120.734807&lt;/td&gt;\\n    &lt;/tr&gt;\\n    &lt;tr&gt;\\n      &lt;th&gt;3&lt;/th&gt;\\n      &lt;td&gt;Chile&lt;/td&gt;\\n      &lt;td&gt;2023&lt;/td&gt;\\n      &lt;td&gt;NaN&lt;/td&gt;\\n    &lt;/tr&gt;\\n    &lt;tr&gt;\\n      &lt;th&gt;4&lt;/th&gt;\\n      &lt;td&gt;Czechia&lt;/td&gt;\\n      &lt;td&gt;2020&lt;/td&gt;\\n      &lt;td&gt;136.350000&lt;/td&gt;\\n    &lt;/tr&gt;\\n    &lt;tr&gt;\\n      &lt;th&gt;5&lt;/th&gt;\\n      &lt;td&gt;Czechia&lt;/td&gt;\\n      &lt;td&gt;2021&lt;/td&gt;\\n      &lt;td&gt;244.367123&lt;/td&gt;\\n    &lt;/tr&gt;\\n    &lt;tr&gt;\\n      &lt;th&gt;6&lt;/th&gt;\\n      &lt;td&gt;Czechia&lt;/td&gt;\\n      &lt;td&gt;2022&lt;/td&gt;\\n      &lt;td&gt;92.780822&lt;/td&gt;\\n    &lt;/tr&gt;\\n    &lt;tr&gt;\\n      &lt;th&gt;7&lt;/th&gt;\\n      &lt;td&gt;Czechia&lt;/td&gt;\\n      &lt;td&gt;2023&lt;/td&gt;\\n      &lt;td&gt;50.857143&lt;/td&gt;\\n    &lt;/tr&gt;\\n    &lt;tr&gt;\\n      &lt;th&gt;8&lt;/th&gt;\\n      &lt;td&gt;France&lt;/td&gt;\\n      &lt;td&gt;2023&lt;/td&gt;\\n      &lt;td&gt;600.687500&lt;/td&gt;\\n    &lt;/tr&gt;\\n    &lt;tr&gt;\\n      &lt;th&gt;9&lt;/th&gt;\\n      &lt;td&gt;France&lt;/td&gt;\\n      &lt;td&gt;2022&lt;/td&gt;\\n      &lt;td&gt;819.227397&lt;/td&gt;\\n    &lt;/tr&gt;\\n    &lt;tr&gt;\\n      &lt;th&gt;10&lt;/th&gt;\\n      &lt;td&gt;France&lt;/td&gt;\\n      &lt;td&gt;2020&lt;/td&gt;\\n      &lt;td&gt;1038.578014&lt;/td&gt;\\n    &lt;/tr&gt;\\n    &lt;tr&gt;\\n      &lt;th&gt;11&lt;/th&gt;\\n      &lt;td&gt;France&lt;/td&gt;\\n      &lt;td&gt;2021&lt;/td&gt;\\n      &lt;td&gt;1310.449315&lt;/td&gt;\\n    &lt;/tr&gt;\\n    &lt;tr&gt;\\n      &lt;th&gt;12&lt;/th&gt;\\n      &lt;td&gt;Germany&lt;/td&gt;\\n      &lt;td&gt;2020&lt;/td&gt;\\n      &lt;td&gt;NaN&lt;/td&gt;\\n    &lt;/tr&gt;\\n    &lt;tr&gt;\\n      &lt;th&gt;13&lt;/th&gt;\\n      &lt;td&gt;Germany&lt;/td&gt;\\n      &lt;td&gt;2021&lt;/td&gt;\\n      &lt;td&gt;1116.873333&lt;/td&gt;\\n    &lt;/tr&gt;\\n    &lt;tr&gt;\\n      &lt;th&gt;14&lt;/th&gt;\\n      &lt;td&gt;Germany&lt;/td&gt;\\n      &lt;td&gt;2022&lt;/td&gt;\\n      &lt;td&gt;1133.227397&lt;/td&gt;\\n    &lt;/tr&gt;\\n    &lt;tr&gt;\\n      &lt;th&gt;15&lt;/th&gt;\\n      &lt;td&gt;Germany&lt;/td&gt;\\n      &lt;td&gt;2023&lt;/td&gt;\\n      &lt;td&gt;921.600000&lt;/td&gt;\\n    &lt;/tr&gt;\\n    &lt;tr&gt;\\n      &lt;th&gt;16&lt;/th&gt;\\n      &lt;td&gt;Greece&lt;/td&gt;\\n      &lt;td&gt;2020&lt;/td&gt;\\n      &lt;td&gt;62.116279&lt;/td&gt;\\n    &lt;/tr&gt;\\n    &lt;tr&gt;\\n      &lt;th&gt;17&lt;/th&gt;\\n      &lt;td&gt;Greece&lt;/td&gt;\\n      &lt;td&gt;2021&lt;/td&gt;\\n      &lt;td&gt;179.480769&lt;/td&gt;\\n    &lt;/tr&gt;\\n    &lt;tr&gt;\\n      &lt;th&gt;18&lt;/th&gt;\\n      &lt;td&gt;Greece&lt;/td&gt;\\n      &lt;td&gt;2022&lt;/td&gt;\\n      &lt;td&gt;77.269231&lt;/td&gt;\\n    &lt;/tr&gt;\\n    &lt;tr&gt;\\n      &lt;th&gt;19&lt;/th&gt;\\n      &lt;td&gt;Greece&lt;/td&gt;\\n      &lt;td&gt;2023&lt;/td&gt;\\n      &lt;td&gt;52.500000&lt;/td&gt;\\n    &lt;/tr&gt;\\n    &lt;tr&gt;\\n      &lt;th&gt;20&lt;/th&gt;\\n      &lt;td&gt;Israel&lt;/td&gt;\\n      &lt;td&gt;2023&lt;/td&gt;\\n      &lt;td&gt;18.000000&lt;/td&gt;\\n    &lt;/tr&gt;\\n    &lt;tr&gt;\\n      &lt;th&gt;21&lt;/th&gt;\\n      &lt;td&gt;Israel&lt;/td&gt;\\n      &lt;td&gt;2022&lt;/td&gt;\\n      &lt;td&gt;38.082192&lt;/td&gt;\\n    &lt;/tr&gt;\\n    &lt;tr&gt;\\n      &lt;th&gt;22&lt;/th&gt;\\n      &lt;td&gt;Israel&lt;/td&gt;\\n      &lt;td&gt;2021&lt;/td&gt;\\n      &lt;td&gt;51.490411&lt;/td&gt;\\n    &lt;/tr&gt;\\n    &lt;tr&gt;\\n      &lt;th&gt;23&lt;/th&gt;\\n      &lt;td&gt;Israel&lt;/td&gt;\\n      &lt;td&gt;2020&lt;/td&gt;\\n      &lt;td&gt;48.661074&lt;/td&gt;\\n    &lt;/tr&gt;\\n    &lt;tr&gt;\\n      &lt;th&gt;24&lt;/th&gt;\\n      &lt;td&gt;Italy&lt;/td&gt;\\n      &lt;td&gt;2020&lt;/td&gt;\\n      &lt;td&gt;1235.217391&lt;/td&gt;\\n    &lt;/tr&gt;\\n    &lt;tr&gt;\\n      &lt;th&gt;25&lt;/th&gt;\\n      &lt;td&gt;Italy&lt;/td&gt;\\n      &lt;td&gt;2021&lt;/td&gt;\\n      &lt;td&gt;619.046575&lt;/td&gt;\\n    &lt;/tr&gt;\\n    &lt;tr&gt;\\n      &lt;th&gt;26&lt;/th&gt;\\n      &lt;td&gt;Italy&lt;/td&gt;\\n      &lt;td&gt;2022&lt;/td&gt;\\n      &lt;td&gt;311.150685&lt;/td&gt;\\n    &lt;/tr&gt;\\n    &lt;tr&gt;\\n      &lt;th&gt;27&lt;/th&gt;\\n      &lt;td&gt;Italy&lt;/td&gt;\\n      &lt;td&gt;2023&lt;/td&gt;\\n      &lt;td&gt;226.166667&lt;/td&gt;\\n    &lt;/tr&gt;\\n    &lt;tr&gt;\\n      &lt;th&gt;28&lt;/th&gt;\\n      &lt;td&gt;Netherlands&lt;/td&gt;\\n      &lt;td&gt;2020&lt;/td&gt;\\n      &lt;td&gt;261.228571&lt;/td&gt;\\n    &lt;/tr&gt;\\n    &lt;tr&gt;\\n      &lt;th&gt;29&lt;/th&gt;\\n      &lt;td&gt;Netherlands&lt;/td&gt;\\n      &lt;td&gt;2021&lt;/td&gt;\\n      &lt;td&gt;182.207283&lt;/td&gt;\\n    &lt;/tr&gt;\\n    &lt;tr&gt;\\n      &lt;th&gt;30&lt;/th&gt;\\n      &lt;td&gt;Netherlands&lt;/td&gt;\\n      &lt;td&gt;2022&lt;/td&gt;\\n      &lt;td&gt;58.440141&lt;/td&gt;\\n    &lt;/tr&gt;\\n    &lt;tr&gt;\\n      &lt;th&gt;31&lt;/th&gt;\\n      &lt;td&gt;Netherlands&lt;/td&gt;\\n      &lt;td&gt;2023&lt;/td&gt;\\n      &lt;td&gt;47.818182&lt;/td&gt;\\n    &lt;/tr&gt;\\n    &lt;tr&gt;\\n      &lt;th&gt;32&lt;/th&gt;\\n      &lt;td&gt;Singapore&lt;/td&gt;\\n      &lt;td&gt;2023&lt;/td&gt;\\n      &lt;td&gt;2.250000&lt;/td&gt;\\n    &lt;/tr&gt;\\n    &lt;tr&gt;\\n      &lt;th&gt;33&lt;/th&gt;\\n      &lt;td&gt;Singapore&lt;/td&gt;\\n      &lt;td&gt;2022&lt;/td&gt;\\n      &lt;td&gt;5.319149&lt;/td&gt;\\n    &lt;/tr&gt;\\n    &lt;tr&gt;\\n      &lt;th&gt;34&lt;/th&gt;\\n      &lt;td&gt;Singapore&lt;/td&gt;\\n      &lt;td&gt;2021&lt;/td&gt;\\n      &lt;td&gt;NaN&lt;/td&gt;\\n    &lt;/tr&gt;\\n    &lt;tr&gt;\\n      &lt;th&gt;35&lt;/th&gt;\\n      &lt;td&gt;Singapore&lt;/td&gt;\\n      &lt;td&gt;2020&lt;/td&gt;\\n      &lt;td&gt;NaN&lt;/td&gt;\\n    &lt;/tr&gt;\\n    &lt;tr&gt;\\n      &lt;th&gt;36&lt;/th&gt;\\n      &lt;td&gt;South Korea&lt;/td&gt;\\n      &lt;td&gt;2020&lt;/td&gt;\\n      &lt;td&gt;NaN&lt;/td&gt;\\n    &lt;/tr&gt;\\n    &lt;tr&gt;\\n      &lt;th&gt;37&lt;/th&gt;\\n      &lt;td&gt;South Korea&lt;/td&gt;\\n      &lt;td&gt;2021&lt;/td&gt;\\n      &lt;td&gt;450.222222&lt;/td&gt;\\n    &lt;/tr&gt;\\n    &lt;tr&gt;\\n      &lt;th&gt;38&lt;/th&gt;\\n      &lt;td&gt;South Korea&lt;/td&gt;\\n      &lt;td&gt;2022&lt;/td&gt;\\n      &lt;td&gt;387.576923&lt;/td&gt;\\n    &lt;/tr&gt;\\n    &lt;tr&gt;\\n      &lt;th&gt;39&lt;/th&gt;\\n      &lt;td&gt;South Korea&lt;/td&gt;\\n      &lt;td&gt;2023&lt;/td&gt;\\n      &lt;td&gt;496.500000&lt;/td&gt;\\n    &lt;/tr&gt;\\n    &lt;tr&gt;\\n      &lt;th&gt;40&lt;/th&gt;\\n      &lt;td&gt;Spain&lt;/td&gt;\\n      &lt;td&gt;2020&lt;/td&gt;\\n      &lt;td&gt;826.421769&lt;/td&gt;\\n    &lt;/tr&gt;\\n    &lt;tr&gt;\\n      &lt;th&gt;41&lt;/th&gt;\\n      &lt;td&gt;Spain&lt;/td&gt;\\n      &lt;td&gt;2021&lt;/td&gt;\\n      &lt;td&gt;709.523288&lt;/td&gt;\\n    &lt;/tr&gt;\\n    &lt;tr&gt;\\n      &lt;th&gt;42&lt;/th&gt;\\n      &lt;td&gt;Spain&lt;/td&gt;\\n      &lt;td&gt;2022&lt;/td&gt;\\n      &lt;td&gt;344.797260&lt;/td&gt;\\n    &lt;/tr&gt;\\n    &lt;tr&gt;\\n      &lt;th&gt;43&lt;/th&gt;\\n      &lt;td&gt;Spain&lt;/td&gt;\\n      &lt;td&gt;2023&lt;/td&gt;\\n      &lt;td&gt;163.866667&lt;/td&gt;\\n    &lt;/tr&gt;\\n  &lt;/tbody&gt;\\n&lt;/table&gt;\"},\"id\":\"39085\",\"type\":\"panel.models.markup.HTML\"}],\"root_ids\":[\"39078\",\"39086\"]},\"title\":\"Bokeh Application\",\"version\":\"2.4.3\"}};\n",
       "    var render_items = [{\"docid\":\"c9af86a7-d891-4351-abff-02a69c6ea1bc\",\"root_ids\":[\"39078\"],\"roots\":{\"39078\":\"f4447ab2-425c-4a34-ac9c-2e1d11eff416\"}}];\n",
       "    root.Bokeh.embed.embed_items_notebook(docs_json, render_items);\n",
       "    for (const render_item of render_items) {\n",
       "      for (const root_id of render_item.root_ids) {\n",
       "\tconst id_el = document.getElementById(root_id)\n",
       "\tif (id_el.children.length && (id_el.children[0].className === 'bk-root')) {\n",
       "\t  const root_el = id_el.children[0]\n",
       "\t  root_el.id = root_el.id + '-rendered'\n",
       "\t}\n",
       "      }\n",
       "    }\n",
       "  }\n",
       "  if (root.Bokeh !== undefined && root.Bokeh.Panel !== undefined && ( root['Tabulator'] !== undefined) && ( root['Tabulator'] !== undefined) && ( root['Tabulator'] !== undefined) && ( root['Tabulator'] !== undefined) && ( root['Tabulator'] !== undefined)) {\n",
       "    embed_document(root);\n",
       "  } else {\n",
       "    var attempts = 0;\n",
       "    var timer = setInterval(function(root) {\n",
       "      if (root.Bokeh !== undefined && root.Bokeh.Panel !== undefined && (root['Tabulator'] !== undefined) && (root['Tabulator'] !== undefined) && (root['Tabulator'] !== undefined) && (root['Tabulator'] !== undefined) && (root['Tabulator'] !== undefined)) {\n",
       "        clearInterval(timer);\n",
       "        embed_document(root);\n",
       "      } else if (document.readyState == \"complete\") {\n",
       "        attempts++;\n",
       "        if (attempts > 200) {\n",
       "          clearInterval(timer);\n",
       "          console.log(\"Bokeh: ERROR: Unable to run BokehJS code because BokehJS library is missing\");\n",
       "        }\n",
       "      }\n",
       "    }, 25, root)\n",
       "  }\n",
       "})(window);</script>"
      ],
      "text/plain": [
       "<hvplot.interactive.Interactive at 0x2242326c550>"
      ]
     },
     "execution_count": 349,
     "metadata": {
      "application/vnd.holoviews_exec.v0+json": {
       "id": "39078"
      }
     },
     "output_type": "execute_result"
    }
   ],
   "source": [
    "Graph3_scatterplot_pipeline = (\n",
    "    idf[\n",
    "        (idf.location.isin(selected))\n",
    "    ]\n",
    "    .groupby(['location', 'year'])[yaxis_w_icu_admi].mean()\n",
    "    .to_frame()\n",
    "    .reset_index()\n",
    "    .sort_values(by='location')  \n",
    "    .reset_index(drop=True)\n",
    ")\n",
    "Graph3_scatterplot_pipeline"
   ]
  },
  {
   "cell_type": "code",
   "execution_count": 350,
   "id": "df8c39bb",
   "metadata": {},
   "outputs": [
    {
     "data": {},
     "metadata": {},
     "output_type": "display_data"
    },
    {
     "data": {},
     "metadata": {},
     "output_type": "display_data"
    },
    {
     "data": {
      "application/vnd.holoviews_exec.v0+json": "",
      "text/html": [
       "<div id='39087'>\n",
       "  <div class=\"bk-root\" id=\"0aaf3e05-ae26-4030-8a24-828275af11ab\" data-root-id=\"39087\"></div>\n",
       "</div>\n",
       "<script type=\"application/javascript\">(function(root) {\n",
       "  function embed_document(root) {\n",
       "    var docs_json = {\"05a46415-cbec-4d57-92e3-708cf9d15edc\":{\"defs\":[{\"extends\":null,\"module\":null,\"name\":\"ReactiveHTML1\",\"overrides\":[],\"properties\":[]},{\"extends\":null,\"module\":null,\"name\":\"FlexBox1\",\"overrides\":[],\"properties\":[{\"default\":\"flex-start\",\"kind\":null,\"name\":\"align_content\"},{\"default\":\"flex-start\",\"kind\":null,\"name\":\"align_items\"},{\"default\":\"row\",\"kind\":null,\"name\":\"flex_direction\"},{\"default\":\"wrap\",\"kind\":null,\"name\":\"flex_wrap\"},{\"default\":\"flex-start\",\"kind\":null,\"name\":\"justify_content\"}]},{\"extends\":null,\"module\":null,\"name\":\"GridStack1\",\"overrides\":[],\"properties\":[{\"default\":\"warn\",\"kind\":null,\"name\":\"mode\"},{\"default\":null,\"kind\":null,\"name\":\"ncols\"},{\"default\":null,\"kind\":null,\"name\":\"nrows\"},{\"default\":true,\"kind\":null,\"name\":\"allow_resize\"},{\"default\":true,\"kind\":null,\"name\":\"allow_drag\"},{\"default\":[],\"kind\":null,\"name\":\"state\"}]},{\"extends\":null,\"module\":null,\"name\":\"click1\",\"overrides\":[],\"properties\":[{\"default\":\"\",\"kind\":null,\"name\":\"terminal_output\"},{\"default\":\"\",\"kind\":null,\"name\":\"debug_name\"},{\"default\":0,\"kind\":null,\"name\":\"clears\"}]},{\"extends\":null,\"module\":null,\"name\":\"NotificationAreaBase1\",\"overrides\":[],\"properties\":[{\"default\":\"bottom-right\",\"kind\":null,\"name\":\"position\"},{\"default\":0,\"kind\":null,\"name\":\"_clear\"}]},{\"extends\":null,\"module\":null,\"name\":\"NotificationArea1\",\"overrides\":[],\"properties\":[{\"default\":[],\"kind\":null,\"name\":\"notifications\"},{\"default\":\"bottom-right\",\"kind\":null,\"name\":\"position\"},{\"default\":0,\"kind\":null,\"name\":\"_clear\"},{\"default\":[{\"background\":\"#ffc107\",\"icon\":{\"className\":\"fas fa-exclamation-triangle\",\"color\":\"white\",\"tagName\":\"i\"},\"type\":\"warning\"},{\"background\":\"#007bff\",\"icon\":{\"className\":\"fas fa-info-circle\",\"color\":\"white\",\"tagName\":\"i\"},\"type\":\"info\"}],\"kind\":null,\"name\":\"types\"}]},{\"extends\":null,\"module\":null,\"name\":\"Notification\",\"overrides\":[],\"properties\":[{\"default\":null,\"kind\":null,\"name\":\"background\"},{\"default\":3000,\"kind\":null,\"name\":\"duration\"},{\"default\":null,\"kind\":null,\"name\":\"icon\"},{\"default\":\"\",\"kind\":null,\"name\":\"message\"},{\"default\":null,\"kind\":null,\"name\":\"notification_type\"},{\"default\":false,\"kind\":null,\"name\":\"_destroyed\"}]},{\"extends\":null,\"module\":null,\"name\":\"TemplateActions1\",\"overrides\":[],\"properties\":[{\"default\":0,\"kind\":null,\"name\":\"open_modal\"},{\"default\":0,\"kind\":null,\"name\":\"close_modal\"}]},{\"extends\":null,\"module\":null,\"name\":\"MaterialTemplateActions1\",\"overrides\":[],\"properties\":[{\"default\":0,\"kind\":null,\"name\":\"open_modal\"},{\"default\":0,\"kind\":null,\"name\":\"close_modal\"}]}],\"roots\":{\"references\":[{\"attributes\":{\"label\":{\"value\":\"Chile\"},\"renderers\":[{\"id\":\"39157\"}]},\"id\":\"39167\",\"type\":\"LegendItem\"},{\"attributes\":{\"angle\":{\"value\":0.0},\"fill_alpha\":{\"value\":0.7},\"fill_color\":{\"value\":\"#fc4f30\"},\"hatch_alpha\":{\"value\":0.7},\"hatch_color\":{\"value\":\"#fc4f30\"},\"hatch_scale\":{\"value\":12.0},\"hatch_weight\":{\"value\":1.0},\"line_alpha\":{\"value\":0.7},\"line_cap\":{\"value\":\"butt\"},\"line_color\":{\"value\":\"#fc4f30\"},\"line_dash\":{\"value\":[]},\"line_dash_offset\":{\"value\":0},\"line_join\":{\"value\":\"bevel\"},\"line_width\":{\"value\":1},\"marker\":{\"value\":\"circle\"},\"size\":{\"value\":10.0},\"x\":{\"field\":\"year\"},\"y\":{\"field\":\"weekly_icu_admissions\"}},\"id\":\"39187\",\"type\":\"Scatter\"},{\"attributes\":{\"fill_alpha\":{\"value\":0.7},\"fill_color\":{\"value\":\"#8c564b\"},\"hatch_alpha\":{\"value\":0.1},\"hatch_color\":{\"value\":\"#8c564b\"},\"line_alpha\":{\"value\":0.7},\"line_color\":{\"value\":\"#8c564b\"},\"size\":{\"value\":10.0},\"x\":{\"field\":\"year\"},\"y\":{\"field\":\"weekly_icu_admissions\"}},\"id\":\"39416\",\"type\":\"Scatter\"},{\"attributes\":{\"angle\":{\"value\":0.0},\"fill_alpha\":{\"value\":0.7},\"fill_color\":{\"value\":\"#9467bd\"},\"hatch_alpha\":{\"value\":0.7},\"hatch_color\":{\"value\":\"#9467bd\"},\"hatch_scale\":{\"value\":12.0},\"hatch_weight\":{\"value\":1.0},\"line_alpha\":{\"value\":0.7},\"line_cap\":{\"value\":\"butt\"},\"line_color\":{\"value\":\"#9467bd\"},\"line_dash\":{\"value\":[]},\"line_dash_offset\":{\"value\":0},\"line_join\":{\"value\":\"bevel\"},\"line_width\":{\"value\":1},\"marker\":{\"value\":\"circle\"},\"size\":{\"value\":10.0},\"x\":{\"field\":\"year\"},\"y\":{\"field\":\"weekly_icu_admissions\"}},\"id\":\"39312\",\"type\":\"Scatter\"},{\"attributes\":{\"data\":{\"location\":[\"Chile\",\"Chile\",\"Chile\",\"Chile\"],\"weekly_icu_admissions\":{\"__ndarray__\":\"gn/m0aJCekCjeCR8K7qEQGoBYxIHL15AAAAAAAAA+H8=\",\"dtype\":\"float64\",\"order\":\"little\",\"shape\":[4]},\"year\":[2020,2021,2022,2023]},\"selected\":{\"id\":\"39152\"},\"selection_policy\":{\"id\":\"39163\"}},\"id\":\"39151\",\"type\":\"ColumnDataSource\"},{\"attributes\":{},\"id\":\"39204\",\"type\":\"UnionRenderers\"},{\"attributes\":{},\"id\":\"39189\",\"type\":\"Selection\"},{\"attributes\":{\"source\":{\"id\":\"39232\"}},\"id\":\"39239\",\"type\":\"CDSView\"},{\"attributes\":{\"fill_alpha\":{\"value\":0.7},\"fill_color\":{\"value\":\"#e5ae38\"},\"hatch_alpha\":{\"value\":0.7},\"hatch_color\":{\"value\":\"#e5ae38\"},\"line_alpha\":{\"value\":0.7},\"line_color\":{\"value\":\"#e5ae38\"},\"size\":{\"value\":10.0},\"x\":{\"field\":\"year\"},\"y\":{\"field\":\"weekly_icu_admissions\"}},\"id\":\"39191\",\"type\":\"Scatter\"},{\"attributes\":{\"fill_alpha\":{\"value\":0.7},\"fill_color\":{\"value\":\"#8b8b8b\"},\"hatch_alpha\":{\"value\":0.7},\"hatch_color\":{\"value\":\"#8b8b8b\"},\"line_alpha\":{\"value\":0.7},\"line_color\":{\"value\":\"#8b8b8b\"},\"size\":{\"value\":10.0},\"x\":{\"field\":\"year\"},\"y\":{\"field\":\"weekly_icu_admissions\"}},\"id\":\"39235\",\"type\":\"Scatter\"},{\"attributes\":{\"fill_alpha\":{\"value\":0.2},\"fill_color\":{\"value\":\"#1f77b4\"},\"hatch_alpha\":{\"value\":0.2},\"hatch_color\":{\"value\":\"#1f77b4\"},\"line_alpha\":{\"value\":0.2},\"line_color\":{\"value\":\"#1f77b4\"},\"size\":{\"value\":10.0},\"x\":{\"field\":\"year\"},\"y\":{\"field\":\"weekly_icu_admissions\"}},\"id\":\"39349\",\"type\":\"Scatter\"},{\"attributes\":{\"fill_alpha\":{\"value\":0.2},\"fill_color\":{\"value\":\"#8b8b8b\"},\"hatch_alpha\":{\"value\":0.2},\"hatch_color\":{\"value\":\"#8b8b8b\"},\"line_alpha\":{\"value\":0.2},\"line_color\":{\"value\":\"#8b8b8b\"},\"size\":{\"value\":10.0},\"x\":{\"field\":\"year\"},\"y\":{\"field\":\"weekly_icu_admissions\"}},\"id\":\"39237\",\"type\":\"Scatter\"},{\"attributes\":{\"fill_alpha\":{\"value\":0.7},\"fill_color\":{\"value\":\"#1f77b4\"},\"hatch_alpha\":{\"value\":0.1},\"hatch_color\":{\"value\":\"#1f77b4\"},\"line_alpha\":{\"value\":0.7},\"line_color\":{\"value\":\"#1f77b4\"},\"size\":{\"value\":10.0},\"x\":{\"field\":\"year\"},\"y\":{\"field\":\"weekly_icu_admissions\"}},\"id\":\"39348\",\"type\":\"Scatter\"},{\"attributes\":{\"data\":{\"location\":[\"South Korea\",\"South Korea\",\"South Korea\",\"South Korea\"],\"weekly_icu_admissions\":{\"__ndarray__\":\"AAAAAAAA+H85juM4jiN8QBQ7sRM7OXhAAAAAAAAIf0A=\",\"dtype\":\"float64\",\"order\":\"little\",\"shape\":[4]},\"year\":[2020,2021,2022,2023]},\"selected\":{\"id\":\"39378\"},\"selection_policy\":{\"id\":\"39407\"}},\"id\":\"39377\",\"type\":\"ColumnDataSource\"},{\"attributes\":{\"coordinates\":null,\"data_source\":{\"id\":\"39232\"},\"glyph\":{\"id\":\"39235\"},\"group\":null,\"hover_glyph\":null,\"muted_glyph\":{\"id\":\"39237\"},\"nonselection_glyph\":{\"id\":\"39236\"},\"selection_glyph\":{\"id\":\"39256\"},\"view\":{\"id\":\"39239\"}},\"id\":\"39238\",\"type\":\"GlyphRenderer\"},{\"attributes\":{\"fill_alpha\":{\"value\":0.7},\"fill_color\":{\"value\":\"#8c564b\"},\"hatch_alpha\":{\"value\":0.7},\"hatch_color\":{\"value\":\"#8c564b\"},\"line_alpha\":{\"value\":0.7},\"line_color\":{\"value\":\"#8c564b\"},\"size\":{\"value\":10.0},\"x\":{\"field\":\"year\"},\"y\":{\"field\":\"weekly_icu_admissions\"}},\"id\":\"39415\",\"type\":\"Scatter\"},{\"attributes\":{\"source\":{\"id\":\"39344\"}},\"id\":\"39351\",\"type\":\"CDSView\"},{\"attributes\":{\"coordinates\":null,\"data_source\":{\"id\":\"39313\"},\"glyph\":{\"id\":\"39316\"},\"group\":null,\"hover_glyph\":null,\"muted_glyph\":{\"id\":\"39318\"},\"nonselection_glyph\":{\"id\":\"39317\"},\"selection_glyph\":{\"id\":\"39343\"},\"view\":{\"id\":\"39320\"}},\"id\":\"39319\",\"type\":\"GlyphRenderer\"},{\"attributes\":{},\"id\":\"39372\",\"type\":\"UnionRenderers\"},{\"attributes\":{\"angle\":{\"value\":0.0},\"fill_alpha\":{\"value\":0.7},\"fill_color\":{\"value\":\"#e377c2\"},\"hatch_alpha\":{\"value\":0.7},\"hatch_color\":{\"value\":\"#e377c2\"},\"hatch_scale\":{\"value\":12.0},\"hatch_weight\":{\"value\":1.0},\"line_alpha\":{\"value\":0.7},\"line_cap\":{\"value\":\"butt\"},\"line_color\":{\"value\":\"#e377c2\"},\"line_dash\":{\"value\":[]},\"line_dash_offset\":{\"value\":0},\"line_join\":{\"value\":\"bevel\"},\"line_width\":{\"value\":1},\"marker\":{\"value\":\"circle\"},\"size\":{\"value\":10.0},\"x\":{\"field\":\"year\"},\"y\":{\"field\":\"weekly_icu_admissions\"}},\"id\":\"39411\",\"type\":\"Scatter\"},{\"attributes\":{\"label\":{\"value\":\"Czechia\"},\"renderers\":[{\"id\":\"39175\"}]},\"id\":\"39186\",\"type\":\"LegendItem\"},{\"attributes\":{\"data\":{\"location\":[\"Spain\",\"Spain\",\"Spain\",\"Spain\"],\"weekly_icu_admissions\":{\"__ndarray__\":\"7ahFyF/TiUDDUnKxLyyGQMwx/ZPBjHVAvLu7u7t7ZEA=\",\"dtype\":\"float64\",\"order\":\"little\",\"shape\":[4]},\"year\":[2020,2021,2022,2023]},\"selected\":{\"id\":\"39413\"},\"selection_policy\":{\"id\":\"39444\"}},\"id\":\"39412\",\"type\":\"ColumnDataSource\"},{\"attributes\":{\"client_comm_id\":\"702062f53b004529aa7644b2f97ed4c2\",\"comm_id\":\"e849ec5c9752411c9dd266a811c23e63\",\"plot_id\":\"39087\"},\"id\":\"39557\",\"type\":\"panel.models.comm_manager.CommManager\"},{\"attributes\":{\"angle\":{\"value\":0.0},\"fill_alpha\":{\"value\":0.7},\"fill_color\":{\"value\":\"#d62728\"},\"hatch_alpha\":{\"value\":0.7},\"hatch_color\":{\"value\":\"#d62728\"},\"hatch_scale\":{\"value\":12.0},\"hatch_weight\":{\"value\":1.0},\"line_alpha\":{\"value\":0.7},\"line_cap\":{\"value\":\"butt\"},\"line_color\":{\"value\":\"#d62728\"},\"line_dash\":{\"value\":[]},\"line_dash_offset\":{\"value\":0},\"line_join\":{\"value\":\"bevel\"},\"line_width\":{\"value\":1},\"marker\":{\"value\":\"circle\"},\"size\":{\"value\":10.0},\"x\":{\"field\":\"year\"},\"y\":{\"field\":\"weekly_icu_admissions\"}},\"id\":\"39343\",\"type\":\"Scatter\"},{\"attributes\":{},\"id\":\"39233\",\"type\":\"Selection\"},{\"attributes\":{},\"id\":\"39339\",\"type\":\"UnionRenderers\"},{\"attributes\":{},\"id\":\"39345\",\"type\":\"Selection\"},{\"attributes\":{\"coordinates\":null,\"data_source\":{\"id\":\"39344\"},\"glyph\":{\"id\":\"39347\"},\"group\":null,\"hover_glyph\":null,\"muted_glyph\":{\"id\":\"39349\"},\"nonselection_glyph\":{\"id\":\"39348\"},\"selection_glyph\":{\"id\":\"39376\"},\"view\":{\"id\":\"39351\"}},\"id\":\"39350\",\"type\":\"GlyphRenderer\"},{\"attributes\":{\"fill_alpha\":{\"value\":0.7},\"fill_color\":{\"value\":\"#6d904f\"},\"hatch_alpha\":{\"value\":0.1},\"hatch_color\":{\"value\":\"#6d904f\"},\"line_alpha\":{\"value\":0.7},\"line_color\":{\"value\":\"#6d904f\"},\"size\":{\"value\":10.0},\"x\":{\"field\":\"year\"},\"y\":{\"field\":\"weekly_icu_admissions\"}},\"id\":\"39213\",\"type\":\"Scatter\"},{\"attributes\":{\"data\":{\"location\":[\"Netherlands\",\"Netherlands\",\"Netherlands\",\"Netherlands\"],\"weekly_icu_admissions\":{\"__ndarray__\":\"O6iDOqhTcEAQosYPosZmQAubA4lWOE1A6aKLLrroR0A=\",\"dtype\":\"float64\",\"order\":\"little\",\"shape\":[4]},\"year\":[2020,2021,2022,2023]},\"selected\":{\"id\":\"39314\"},\"selection_policy\":{\"id\":\"39339\"}},\"id\":\"39313\",\"type\":\"ColumnDataSource\"},{\"attributes\":{\"data\":{\"location\":[\"Greece\",\"Greece\",\"Greece\",\"Greece\"],\"weekly_icu_admissions\":{\"__ndarray__\":\"JO6IO+IOT0B2Yid2Ym9mQBQ7sRM7UVNAAAAAAABASkA=\",\"dtype\":\"float64\",\"order\":\"little\",\"shape\":[4]},\"year\":[2020,2021,2022,2023]},\"selected\":{\"id\":\"39233\"},\"selection_policy\":{\"id\":\"39252\"}},\"id\":\"39232\",\"type\":\"ColumnDataSource\"},{\"attributes\":{\"coordinates\":null,\"data_source\":{\"id\":\"39169\"},\"glyph\":{\"id\":\"39172\"},\"group\":null,\"hover_glyph\":null,\"muted_glyph\":{\"id\":\"39174\"},\"nonselection_glyph\":{\"id\":\"39173\"},\"selection_glyph\":{\"id\":\"39187\"},\"view\":{\"id\":\"39176\"}},\"id\":\"39175\",\"type\":\"GlyphRenderer\"},{\"attributes\":{\"source\":{\"id\":\"39313\"}},\"id\":\"39320\",\"type\":\"CDSView\"},{\"attributes\":{\"fill_alpha\":{\"value\":0.2},\"fill_color\":{\"value\":\"#6d904f\"},\"hatch_alpha\":{\"value\":0.2},\"hatch_color\":{\"value\":\"#6d904f\"},\"line_alpha\":{\"value\":0.2},\"line_color\":{\"value\":\"#6d904f\"},\"size\":{\"value\":10.0},\"x\":{\"field\":\"year\"},\"y\":{\"field\":\"weekly_icu_admissions\"}},\"id\":\"39214\",\"type\":\"Scatter\"},{\"attributes\":{},\"id\":\"39378\",\"type\":\"Selection\"},{\"attributes\":{\"coordinates\":null,\"data_source\":{\"id\":\"39284\"},\"glyph\":{\"id\":\"39287\"},\"group\":null,\"hover_glyph\":null,\"muted_glyph\":{\"id\":\"39289\"},\"nonselection_glyph\":{\"id\":\"39288\"},\"selection_glyph\":{\"id\":\"39312\"},\"view\":{\"id\":\"39291\"}},\"id\":\"39290\",\"type\":\"GlyphRenderer\"},{\"attributes\":{\"source\":{\"id\":\"39209\"}},\"id\":\"39216\",\"type\":\"CDSView\"},{\"attributes\":{\"fill_alpha\":{\"value\":0.7},\"fill_color\":{\"value\":\"#8b8b8b\"},\"hatch_alpha\":{\"value\":0.1},\"hatch_color\":{\"value\":\"#8b8b8b\"},\"line_alpha\":{\"value\":0.7},\"line_color\":{\"value\":\"#8b8b8b\"},\"size\":{\"value\":10.0},\"x\":{\"field\":\"year\"},\"y\":{\"field\":\"weekly_icu_admissions\"}},\"id\":\"39236\",\"type\":\"Scatter\"},{\"attributes\":{\"angle\":{\"value\":0.0},\"fill_alpha\":{\"value\":0.7},\"fill_color\":{\"value\":\"#1f77b4\"},\"hatch_alpha\":{\"value\":0.7},\"hatch_color\":{\"value\":\"#1f77b4\"},\"hatch_scale\":{\"value\":12.0},\"hatch_weight\":{\"value\":1.0},\"line_alpha\":{\"value\":0.7},\"line_cap\":{\"value\":\"butt\"},\"line_color\":{\"value\":\"#1f77b4\"},\"line_dash\":{\"value\":[]},\"line_dash_offset\":{\"value\":0},\"line_join\":{\"value\":\"bevel\"},\"line_width\":{\"value\":1},\"marker\":{\"value\":\"circle\"},\"size\":{\"value\":10.0},\"x\":{\"field\":\"year\"},\"y\":{\"field\":\"weekly_icu_admissions\"}},\"id\":\"39376\",\"type\":\"Scatter\"},{\"attributes\":{},\"id\":\"39227\",\"type\":\"UnionRenderers\"},{\"attributes\":{},\"id\":\"39314\",\"type\":\"Selection\"},{\"attributes\":{\"data\":{\"location\":[\"Israel\",\"Israel\",\"Israel\",\"Israel\"],\"weekly_icu_admissions\":{\"__ndarray__\":\"AAAAAAAAMkCoUKFChQpDQOwLS8nFvklAp2MuEZ5USEA=\",\"dtype\":\"float64\",\"order\":\"little\",\"shape\":[4]},\"year\":[2023,2022,2021,2020]},\"selected\":{\"id\":\"39258\"},\"selection_policy\":{\"id\":\"39279\"}},\"id\":\"39257\",\"type\":\"ColumnDataSource\"},{\"attributes\":{\"angle\":{\"value\":0.0},\"fill_alpha\":{\"value\":0.7},\"fill_color\":{\"value\":\"#30a2da\"},\"hatch_alpha\":{\"value\":0.7},\"hatch_color\":{\"value\":\"#30a2da\"},\"hatch_scale\":{\"value\":12.0},\"hatch_weight\":{\"value\":1.0},\"line_alpha\":{\"value\":0.7},\"line_cap\":{\"value\":\"butt\"},\"line_color\":{\"value\":\"#30a2da\"},\"line_dash\":{\"value\":[]},\"line_dash_offset\":{\"value\":0},\"line_join\":{\"value\":\"bevel\"},\"line_width\":{\"value\":1},\"marker\":{\"value\":\"circle\"},\"size\":{\"value\":10.0},\"x\":{\"field\":\"year\"},\"y\":{\"field\":\"weekly_icu_admissions\"}},\"id\":\"39168\",\"type\":\"Scatter\"},{\"attributes\":{\"label\":{\"value\":\"Singapore\"},\"renderers\":[{\"id\":\"39350\"}]},\"id\":\"39375\",\"type\":\"LegendItem\"},{\"attributes\":{},\"id\":\"39308\",\"type\":\"UnionRenderers\"},{\"attributes\":{\"fill_alpha\":{\"value\":0.7},\"fill_color\":{\"value\":\"#1f77b4\"},\"hatch_alpha\":{\"value\":0.7},\"hatch_color\":{\"value\":\"#1f77b4\"},\"line_alpha\":{\"value\":0.7},\"line_color\":{\"value\":\"#1f77b4\"},\"size\":{\"value\":10.0},\"x\":{\"field\":\"year\"},\"y\":{\"field\":\"weekly_icu_admissions\"}},\"id\":\"39347\",\"type\":\"Scatter\"},{\"attributes\":{\"angle\":{\"value\":0.0},\"fill_alpha\":{\"value\":0.7},\"fill_color\":{\"value\":\"#6d904f\"},\"hatch_alpha\":{\"value\":0.7},\"hatch_color\":{\"value\":\"#6d904f\"},\"hatch_scale\":{\"value\":12.0},\"hatch_weight\":{\"value\":1.0},\"line_alpha\":{\"value\":0.7},\"line_cap\":{\"value\":\"butt\"},\"line_color\":{\"value\":\"#6d904f\"},\"line_dash\":{\"value\":[]},\"line_dash_offset\":{\"value\":0},\"line_join\":{\"value\":\"bevel\"},\"line_width\":{\"value\":1},\"marker\":{\"value\":\"circle\"},\"size\":{\"value\":10.0},\"x\":{\"field\":\"year\"},\"y\":{\"field\":\"weekly_icu_admissions\"}},\"id\":\"39231\",\"type\":\"Scatter\"},{\"attributes\":{},\"id\":\"39444\",\"type\":\"UnionRenderers\"},{\"attributes\":{\"label\":{\"value\":\"Netherlands\"},\"renderers\":[{\"id\":\"39319\"}]},\"id\":\"39342\",\"type\":\"LegendItem\"},{\"attributes\":{\"fill_alpha\":{\"value\":0.2},\"fill_color\":{\"value\":\"#e377c2\"},\"hatch_alpha\":{\"value\":0.2},\"hatch_color\":{\"value\":\"#e377c2\"},\"line_alpha\":{\"value\":0.2},\"line_color\":{\"value\":\"#e377c2\"},\"size\":{\"value\":10.0},\"x\":{\"field\":\"year\"},\"y\":{\"field\":\"weekly_icu_admissions\"}},\"id\":\"39382\",\"type\":\"Scatter\"},{\"attributes\":{\"coordinates\":null,\"data_source\":{\"id\":\"39377\"},\"glyph\":{\"id\":\"39380\"},\"group\":null,\"hover_glyph\":null,\"muted_glyph\":{\"id\":\"39382\"},\"nonselection_glyph\":{\"id\":\"39381\"},\"selection_glyph\":{\"id\":\"39411\"},\"view\":{\"id\":\"39384\"}},\"id\":\"39383\",\"type\":\"GlyphRenderer\"},{\"attributes\":{},\"id\":\"39413\",\"type\":\"Selection\"},{\"attributes\":{\"data\":{\"location\":[\"Singapore\",\"Singapore\",\"Singapore\",\"Singapore\"],\"weekly_icu_admissions\":{\"__ndarray__\":\"AAAAAAAAAkD1nY36zkYVQAAAAAAAAPh/AAAAAAAA+H8=\",\"dtype\":\"float64\",\"order\":\"little\",\"shape\":[4]},\"year\":[2023,2022,2021,2020]},\"selected\":{\"id\":\"39345\"},\"selection_policy\":{\"id\":\"39372\"}},\"id\":\"39344\",\"type\":\"ColumnDataSource\"},{\"attributes\":{\"fill_alpha\":{\"value\":0.7},\"fill_color\":{\"value\":\"#e377c2\"},\"hatch_alpha\":{\"value\":0.7},\"hatch_color\":{\"value\":\"#e377c2\"},\"line_alpha\":{\"value\":0.7},\"line_color\":{\"value\":\"#e377c2\"},\"size\":{\"value\":10.0},\"x\":{\"field\":\"year\"},\"y\":{\"field\":\"weekly_icu_admissions\"}},\"id\":\"39380\",\"type\":\"Scatter\"},{\"attributes\":{\"label\":{\"value\":\"Germany\"},\"renderers\":[{\"id\":\"39215\"}]},\"id\":\"39230\",\"type\":\"LegendItem\"},{\"attributes\":{},\"id\":\"39183\",\"type\":\"UnionRenderers\"},{\"attributes\":{\"fill_alpha\":{\"value\":0.7},\"fill_color\":{\"value\":\"#6d904f\"},\"hatch_alpha\":{\"value\":0.7},\"hatch_color\":{\"value\":\"#6d904f\"},\"line_alpha\":{\"value\":0.7},\"line_color\":{\"value\":\"#6d904f\"},\"size\":{\"value\":10.0},\"x\":{\"field\":\"year\"},\"y\":{\"field\":\"weekly_icu_admissions\"}},\"id\":\"39212\",\"type\":\"Scatter\"},{\"attributes\":{\"fill_alpha\":{\"value\":0.7},\"fill_color\":{\"value\":\"#e377c2\"},\"hatch_alpha\":{\"value\":0.1},\"hatch_color\":{\"value\":\"#e377c2\"},\"line_alpha\":{\"value\":0.7},\"line_color\":{\"value\":\"#e377c2\"},\"size\":{\"value\":10.0},\"x\":{\"field\":\"year\"},\"y\":{\"field\":\"weekly_icu_admissions\"}},\"id\":\"39381\",\"type\":\"Scatter\"},{\"attributes\":{\"angle\":{\"value\":0.0},\"fill_alpha\":{\"value\":0.7},\"fill_color\":{\"value\":\"#e5ae38\"},\"hatch_alpha\":{\"value\":0.7},\"hatch_color\":{\"value\":\"#e5ae38\"},\"hatch_scale\":{\"value\":12.0},\"hatch_weight\":{\"value\":1.0},\"line_alpha\":{\"value\":0.7},\"line_cap\":{\"value\":\"butt\"},\"line_color\":{\"value\":\"#e5ae38\"},\"line_dash\":{\"value\":[]},\"line_dash_offset\":{\"value\":0},\"line_join\":{\"value\":\"bevel\"},\"line_width\":{\"value\":1},\"marker\":{\"value\":\"circle\"},\"size\":{\"value\":10.0},\"x\":{\"field\":\"year\"},\"y\":{\"field\":\"weekly_icu_admissions\"}},\"id\":\"39208\",\"type\":\"Scatter\"},{\"attributes\":{\"fill_alpha\":{\"value\":0.7},\"fill_color\":{\"value\":\"#d62728\"},\"hatch_alpha\":{\"value\":0.7},\"hatch_color\":{\"value\":\"#d62728\"},\"line_alpha\":{\"value\":0.7},\"line_color\":{\"value\":\"#d62728\"},\"size\":{\"value\":10.0},\"x\":{\"field\":\"year\"},\"y\":{\"field\":\"weekly_icu_admissions\"}},\"id\":\"39316\",\"type\":\"Scatter\"},{\"attributes\":{\"data\":{\"location\":[\"Italy\",\"Italy\",\"Italy\",\"Italy\"],\"weekly_icu_admissions\":{\"__ndarray__\":\"b3rTm95Mk0CGpeRiX1iDQCdNmjRpcnNAVVVVVVVFbEA=\",\"dtype\":\"float64\",\"order\":\"little\",\"shape\":[4]},\"year\":[2020,2021,2022,2023]},\"selected\":{\"id\":\"39285\"},\"selection_policy\":{\"id\":\"39308\"}},\"id\":\"39284\",\"type\":\"ColumnDataSource\"},{\"attributes\":{\"coordinates\":null,\"data_source\":{\"id\":\"39209\"},\"glyph\":{\"id\":\"39212\"},\"group\":null,\"hover_glyph\":null,\"muted_glyph\":{\"id\":\"39214\"},\"nonselection_glyph\":{\"id\":\"39213\"},\"selection_glyph\":{\"id\":\"39231\"},\"view\":{\"id\":\"39216\"}},\"id\":\"39215\",\"type\":\"GlyphRenderer\"},{\"attributes\":{\"source\":{\"id\":\"39284\"}},\"id\":\"39291\",\"type\":\"CDSView\"},{\"attributes\":{},\"id\":\"39210\",\"type\":\"Selection\"},{\"attributes\":{},\"id\":\"39170\",\"type\":\"Selection\"},{\"attributes\":{\"label\":{\"value\":\"Italy\"},\"renderers\":[{\"id\":\"39290\"}]},\"id\":\"39311\",\"type\":\"LegendItem\"},{\"attributes\":{\"fill_alpha\":{\"value\":0.2},\"fill_color\":{\"value\":\"#9467bd\"},\"hatch_alpha\":{\"value\":0.2},\"hatch_color\":{\"value\":\"#9467bd\"},\"line_alpha\":{\"value\":0.2},\"line_color\":{\"value\":\"#9467bd\"},\"size\":{\"value\":10.0},\"x\":{\"field\":\"year\"},\"y\":{\"field\":\"weekly_icu_admissions\"}},\"id\":\"39289\",\"type\":\"Scatter\"},{\"attributes\":{\"children\":[{\"id\":\"39091\"}],\"margin\":[0,0,0,0],\"name\":\"Column190520\"},\"id\":\"39090\",\"type\":\"Column\"},{\"attributes\":{\"coordinates\":null,\"data_source\":{\"id\":\"39188\"},\"glyph\":{\"id\":\"39191\"},\"group\":null,\"hover_glyph\":null,\"muted_glyph\":{\"id\":\"39193\"},\"nonselection_glyph\":{\"id\":\"39192\"},\"selection_glyph\":{\"id\":\"39208\"},\"view\":{\"id\":\"39195\"}},\"id\":\"39194\",\"type\":\"GlyphRenderer\"},{\"attributes\":{\"tools\":[{\"id\":\"39095\"},{\"id\":\"39123\"},{\"id\":\"39124\"},{\"id\":\"39125\"},{\"id\":\"39126\"},{\"id\":\"39127\"}]},\"id\":\"39129\",\"type\":\"Toolbar\"},{\"attributes\":{\"children\":[{\"id\":\"39088\"}],\"margin\":[0,0,0,0],\"name\":\"Row190532\"},\"id\":\"39087\",\"type\":\"Row\"},{\"attributes\":{\"fill_alpha\":{\"value\":0.7},\"fill_color\":{\"value\":\"#fc4f30\"},\"hatch_alpha\":{\"value\":0.7},\"hatch_color\":{\"value\":\"#fc4f30\"},\"line_alpha\":{\"value\":0.7},\"line_color\":{\"value\":\"#fc4f30\"},\"size\":{\"value\":10.0},\"x\":{\"field\":\"year\"},\"y\":{\"field\":\"weekly_icu_admissions\"}},\"id\":\"39172\",\"type\":\"Scatter\"},{\"attributes\":{\"format\":\"%.0f\"},\"id\":\"39138\",\"type\":\"PrintfTickFormatter\"},{\"attributes\":{},\"id\":\"39146\",\"type\":\"AllLabels\"},{\"attributes\":{\"children\":[{\"id\":\"39090\"},{\"id\":\"39092\"}],\"margin\":[0,0,0,0],\"name\":\"Row190525\"},\"id\":\"39089\",\"type\":\"Row\"},{\"attributes\":{\"end\":1441.2692465753425,\"reset_end\":1441.2692465753425,\"reset_start\":-128.56993150684931,\"start\":-128.56993150684931,\"tags\":[[[\"weekly_icu_admissions\",\"weekly_icu_admissions\",null]]]},\"id\":\"39094\",\"type\":\"Range1d\"},{\"attributes\":{\"click_policy\":\"mute\",\"coordinates\":null,\"group\":null,\"items\":[{\"id\":\"39167\"},{\"id\":\"39186\"},{\"id\":\"39207\"},{\"id\":\"39230\"},{\"id\":\"39255\"},{\"id\":\"39282\"},{\"id\":\"39311\"},{\"id\":\"39342\"},{\"id\":\"39375\"},{\"id\":\"39410\"},{\"id\":\"39447\"}],\"location\":[0,0],\"title\":\"location\"},\"id\":\"39166\",\"type\":\"Legend\"},{\"attributes\":{\"fill_alpha\":{\"value\":0.7},\"fill_color\":{\"value\":\"#9467bd\"},\"hatch_alpha\":{\"value\":0.7},\"hatch_color\":{\"value\":\"#9467bd\"},\"line_alpha\":{\"value\":0.7},\"line_color\":{\"value\":\"#9467bd\"},\"size\":{\"value\":10.0},\"x\":{\"field\":\"year\"},\"y\":{\"field\":\"weekly_icu_admissions\"}},\"id\":\"39287\",\"type\":\"Scatter\"},{\"attributes\":{\"angle\":{\"value\":0.0},\"fill_alpha\":{\"value\":0.7},\"fill_color\":{\"value\":\"#8c564b\"},\"hatch_alpha\":{\"value\":0.7},\"hatch_color\":{\"value\":\"#8c564b\"},\"hatch_scale\":{\"value\":12.0},\"hatch_weight\":{\"value\":1.0},\"line_alpha\":{\"value\":0.7},\"line_cap\":{\"value\":\"butt\"},\"line_color\":{\"value\":\"#8c564b\"},\"line_dash\":{\"value\":[]},\"line_dash_offset\":{\"value\":0},\"line_join\":{\"value\":\"bevel\"},\"line_width\":{\"value\":1},\"marker\":{\"value\":\"circle\"},\"size\":{\"value\":10.0},\"x\":{\"field\":\"year\"},\"y\":{\"field\":\"weekly_icu_admissions\"}},\"id\":\"39448\",\"type\":\"Scatter\"},{\"attributes\":{\"label\":{\"value\":\"Spain\"},\"renderers\":[{\"id\":\"39418\"}]},\"id\":\"39447\",\"type\":\"LegendItem\"},{\"attributes\":{\"data\":{\"location\":[\"France\",\"France\",\"France\",\"France\"],\"weekly_icu_admissions\":{\"__ndarray__\":\"AAAAAIDFgkCdoKe10ZmJQHFK8+JPOpBAHdM/Gcx5lEA=\",\"dtype\":\"float64\",\"order\":\"little\",\"shape\":[4]},\"year\":[2023,2022,2020,2021]},\"selected\":{\"id\":\"39189\"},\"selection_policy\":{\"id\":\"39204\"}},\"id\":\"39188\",\"type\":\"ColumnDataSource\"},{\"attributes\":{\"source\":{\"id\":\"39412\"}},\"id\":\"39419\",\"type\":\"CDSView\"},{\"attributes\":{\"ticks\":[0,100,200,300,400,500,600,700,800,900,1000,1100,1200,1300]},\"id\":\"39137\",\"type\":\"FixedTicker\"},{\"attributes\":{},\"id\":\"39152\",\"type\":\"Selection\"},{\"attributes\":{\"children\":[{\"id\":\"39089\"},{\"id\":\"39106\"}],\"margin\":[0,0,0,0],\"name\":\"Column190531\"},\"id\":\"39088\",\"type\":\"Column\"},{\"attributes\":{\"ticks\":[2020,2021,2022,2023]},\"id\":\"39136\",\"type\":\"FixedTicker\"},{\"attributes\":{},\"id\":\"39163\",\"type\":\"UnionRenderers\"},{\"attributes\":{\"end\":2023.3,\"reset_end\":2023.3,\"reset_start\":2019.7,\"start\":2019.7,\"tags\":[[[\"year\",\"year\",null]]]},\"id\":\"39093\",\"type\":\"Range1d\"},{\"attributes\":{\"bottom_units\":\"screen\",\"coordinates\":null,\"fill_alpha\":0.5,\"fill_color\":\"lightgrey\",\"group\":null,\"left_units\":\"screen\",\"level\":\"overlay\",\"line_alpha\":1.0,\"line_color\":\"black\",\"line_dash\":[4,4],\"line_width\":2,\"right_units\":\"screen\",\"syncable\":false,\"top_units\":\"screen\"},\"id\":\"39128\",\"type\":\"BoxAnnotation\"},{\"attributes\":{\"axis\":{\"id\":\"39119\"},\"coordinates\":null,\"dimension\":1,\"grid_line_color\":null,\"group\":null,\"ticker\":null},\"id\":\"39122\",\"type\":\"Grid\"},{\"attributes\":{\"coordinates\":null,\"data_source\":{\"id\":\"39412\"},\"glyph\":{\"id\":\"39415\"},\"group\":null,\"hover_glyph\":null,\"muted_glyph\":{\"id\":\"39417\"},\"nonselection_glyph\":{\"id\":\"39416\"},\"selection_glyph\":{\"id\":\"39448\"},\"view\":{\"id\":\"39419\"}},\"id\":\"39418\",\"type\":\"GlyphRenderer\"},{\"attributes\":{\"label\":{\"value\":\"South Korea\"},\"renderers\":[{\"id\":\"39383\"}]},\"id\":\"39410\",\"type\":\"LegendItem\"},{\"attributes\":{\"fill_alpha\":{\"value\":0.7},\"fill_color\":{\"value\":\"#30a2da\"},\"hatch_alpha\":{\"value\":0.7},\"hatch_color\":{\"value\":\"#30a2da\"},\"line_alpha\":{\"value\":0.7},\"line_color\":{\"value\":\"#30a2da\"},\"size\":{\"value\":10.0},\"x\":{\"field\":\"year\"},\"y\":{\"field\":\"weekly_icu_admissions\"}},\"id\":\"39154\",\"type\":\"Scatter\"},{\"attributes\":{\"margin\":[5,5,5,5],\"name\":\"HSpacer190524\",\"sizing_mode\":\"stretch_width\"},\"id\":\"39092\",\"type\":\"Spacer\"},{\"attributes\":{\"below\":[{\"id\":\"39115\"}],\"center\":[{\"id\":\"39118\"},{\"id\":\"39122\"}],\"height\":500,\"left\":[{\"id\":\"39119\"}],\"margin\":[5,5,5,5],\"min_border_bottom\":10,\"min_border_left\":10,\"min_border_right\":10,\"min_border_top\":10,\"renderers\":[{\"id\":\"39157\"},{\"id\":\"39175\"},{\"id\":\"39194\"},{\"id\":\"39215\"},{\"id\":\"39238\"},{\"id\":\"39263\"},{\"id\":\"39290\"},{\"id\":\"39319\"},{\"id\":\"39350\"},{\"id\":\"39383\"},{\"id\":\"39418\"}],\"right\":[{\"id\":\"39166\"}],\"sizing_mode\":\"fixed\",\"title\":{\"id\":\"39107\"},\"toolbar\":{\"id\":\"39129\"},\"width\":500,\"x_range\":{\"id\":\"39093\"},\"x_scale\":{\"id\":\"39111\"},\"y_range\":{\"id\":\"39094\"},\"y_scale\":{\"id\":\"39113\"}},\"id\":\"39106\",\"subtype\":\"Figure\",\"type\":\"Plot\"},{\"attributes\":{},\"id\":\"39123\",\"type\":\"SaveTool\"},{\"attributes\":{},\"id\":\"39252\",\"type\":\"UnionRenderers\"},{\"attributes\":{\"fill_alpha\":{\"value\":0.2},\"fill_color\":{\"value\":\"#fc4f30\"},\"hatch_alpha\":{\"value\":0.2},\"hatch_color\":{\"value\":\"#fc4f30\"},\"line_alpha\":{\"value\":0.2},\"line_color\":{\"value\":\"#fc4f30\"},\"size\":{\"value\":10.0},\"x\":{\"field\":\"year\"},\"y\":{\"field\":\"weekly_icu_admissions\"}},\"id\":\"39174\",\"type\":\"Scatter\"},{\"attributes\":{},\"id\":\"39140\",\"type\":\"BasicTickFormatter\"},{\"attributes\":{\"overlay\":{\"id\":\"39128\"}},\"id\":\"39126\",\"type\":\"BoxZoomTool\"},{\"attributes\":{\"source\":{\"id\":\"39169\"}},\"id\":\"39176\",\"type\":\"CDSView\"},{\"attributes\":{},\"id\":\"39285\",\"type\":\"Selection\"},{\"attributes\":{},\"id\":\"39127\",\"type\":\"ResetTool\"},{\"attributes\":{\"angle\":{\"value\":0.0},\"fill_alpha\":{\"value\":0.7},\"fill_color\":{\"value\":\"#17becf\"},\"hatch_alpha\":{\"value\":0.7},\"hatch_color\":{\"value\":\"#17becf\"},\"hatch_scale\":{\"value\":12.0},\"hatch_weight\":{\"value\":1.0},\"line_alpha\":{\"value\":0.7},\"line_cap\":{\"value\":\"butt\"},\"line_color\":{\"value\":\"#17becf\"},\"line_dash\":{\"value\":[]},\"line_dash_offset\":{\"value\":0},\"line_join\":{\"value\":\"bevel\"},\"line_width\":{\"value\":1},\"marker\":{\"value\":\"circle\"},\"size\":{\"value\":10.0},\"x\":{\"field\":\"year\"},\"y\":{\"field\":\"weekly_icu_admissions\"}},\"id\":\"39283\",\"type\":\"Scatter\"},{\"attributes\":{},\"id\":\"39258\",\"type\":\"Selection\"},{\"attributes\":{},\"id\":\"39111\",\"type\":\"LinearScale\"},{\"attributes\":{\"active\":0,\"button_type\":\"success\",\"labels\":[\"weekly_icu_admissions\",\"weekly_icu_admissions_per_million\"],\"margin\":[5,10,5,10],\"orientation\":\"vertical\"},\"id\":\"39091\",\"type\":\"RadioButtonGroup\"},{\"attributes\":{\"coordinates\":null,\"data_source\":{\"id\":\"39151\"},\"glyph\":{\"id\":\"39154\"},\"group\":null,\"hover_glyph\":null,\"muted_glyph\":{\"id\":\"39156\"},\"nonselection_glyph\":{\"id\":\"39155\"},\"selection_glyph\":{\"id\":\"39168\"},\"view\":{\"id\":\"39158\"}},\"id\":\"39157\",\"type\":\"GlyphRenderer\"},{\"attributes\":{\"coordinates\":null,\"group\":null,\"text\":\"Weekly ICU admissions by location\",\"text_color\":\"black\",\"text_font_size\":\"12pt\"},\"id\":\"39107\",\"type\":\"Title\"},{\"attributes\":{},\"id\":\"39113\",\"type\":\"LinearScale\"},{\"attributes\":{\"data\":{\"location\":[\"Czechia\",\"Czechia\",\"Czechia\",\"Czechia\"],\"weekly_icu_admissions\":{\"__ndarray__\":\"MzMzMzMLYUC8RFZ5v4tuQCA/fvz4MVdA27Zt27ZtSUA=\",\"dtype\":\"float64\",\"order\":\"little\",\"shape\":[4]},\"year\":[2020,2021,2022,2023]},\"selected\":{\"id\":\"39170\"},\"selection_policy\":{\"id\":\"39183\"}},\"id\":\"39169\",\"type\":\"ColumnDataSource\"},{\"attributes\":{},\"id\":\"39407\",\"type\":\"UnionRenderers\"},{\"attributes\":{\"axis_label\":\"year\",\"coordinates\":null,\"formatter\":{\"id\":\"39140\"},\"group\":null,\"major_label_policy\":{\"id\":\"39141\"},\"ticker\":{\"id\":\"39136\"}},\"id\":\"39115\",\"type\":\"LinearAxis\"},{\"attributes\":{},\"id\":\"39279\",\"type\":\"UnionRenderers\"},{\"attributes\":{\"fill_alpha\":{\"value\":0.2},\"fill_color\":{\"value\":\"#17becf\"},\"hatch_alpha\":{\"value\":0.2},\"hatch_color\":{\"value\":\"#17becf\"},\"line_alpha\":{\"value\":0.2},\"line_color\":{\"value\":\"#17becf\"},\"size\":{\"value\":10.0},\"x\":{\"field\":\"year\"},\"y\":{\"field\":\"weekly_icu_admissions\"}},\"id\":\"39262\",\"type\":\"Scatter\"},{\"attributes\":{\"angle\":{\"value\":0.0},\"fill_alpha\":{\"value\":0.7},\"fill_color\":{\"value\":\"#8b8b8b\"},\"hatch_alpha\":{\"value\":0.7},\"hatch_color\":{\"value\":\"#8b8b8b\"},\"hatch_scale\":{\"value\":12.0},\"hatch_weight\":{\"value\":1.0},\"line_alpha\":{\"value\":0.7},\"line_cap\":{\"value\":\"butt\"},\"line_color\":{\"value\":\"#8b8b8b\"},\"line_dash\":{\"value\":[]},\"line_dash_offset\":{\"value\":0},\"line_join\":{\"value\":\"bevel\"},\"line_width\":{\"value\":1},\"marker\":{\"value\":\"circle\"},\"size\":{\"value\":10.0},\"x\":{\"field\":\"year\"},\"y\":{\"field\":\"weekly_icu_admissions\"}},\"id\":\"39256\",\"type\":\"Scatter\"},{\"attributes\":{\"fill_alpha\":{\"value\":0.7},\"fill_color\":{\"value\":\"#9467bd\"},\"hatch_alpha\":{\"value\":0.1},\"hatch_color\":{\"value\":\"#9467bd\"},\"line_alpha\":{\"value\":0.7},\"line_color\":{\"value\":\"#9467bd\"},\"size\":{\"value\":10.0},\"x\":{\"field\":\"year\"},\"y\":{\"field\":\"weekly_icu_admissions\"}},\"id\":\"39288\",\"type\":\"Scatter\"},{\"attributes\":{\"source\":{\"id\":\"39377\"}},\"id\":\"39384\",\"type\":\"CDSView\"},{\"attributes\":{\"fill_alpha\":{\"value\":0.2},\"fill_color\":{\"value\":\"#8c564b\"},\"hatch_alpha\":{\"value\":0.2},\"hatch_color\":{\"value\":\"#8c564b\"},\"line_alpha\":{\"value\":0.2},\"line_color\":{\"value\":\"#8c564b\"},\"size\":{\"value\":10.0},\"x\":{\"field\":\"year\"},\"y\":{\"field\":\"weekly_icu_admissions\"}},\"id\":\"39417\",\"type\":\"Scatter\"},{\"attributes\":{\"fill_alpha\":{\"value\":0.7},\"fill_color\":{\"value\":\"#30a2da\"},\"hatch_alpha\":{\"value\":0.1},\"hatch_color\":{\"value\":\"#30a2da\"},\"line_alpha\":{\"value\":0.7},\"line_color\":{\"value\":\"#30a2da\"},\"size\":{\"value\":10.0},\"x\":{\"field\":\"year\"},\"y\":{\"field\":\"weekly_icu_admissions\"}},\"id\":\"39155\",\"type\":\"Scatter\"},{\"attributes\":{\"callback\":null,\"renderers\":[{\"id\":\"39157\"},{\"id\":\"39175\"},{\"id\":\"39194\"},{\"id\":\"39215\"},{\"id\":\"39238\"},{\"id\":\"39263\"},{\"id\":\"39290\"},{\"id\":\"39319\"},{\"id\":\"39350\"},{\"id\":\"39383\"},{\"id\":\"39418\"}],\"tags\":[\"hv_created\"],\"tooltips\":[[\"location\",\"@{location}\"],[\"year\",\"@{year}\"],[\"weekly_icu_admissions\",\"@{weekly_icu_admissions}\"]]},\"id\":\"39095\",\"type\":\"HoverTool\"},{\"attributes\":{\"label\":{\"value\":\"Greece\"},\"renderers\":[{\"id\":\"39238\"}]},\"id\":\"39255\",\"type\":\"LegendItem\"},{\"attributes\":{\"source\":{\"id\":\"39151\"}},\"id\":\"39158\",\"type\":\"CDSView\"},{\"attributes\":{\"fill_alpha\":{\"value\":0.2},\"fill_color\":{\"value\":\"#30a2da\"},\"hatch_alpha\":{\"value\":0.2},\"hatch_color\":{\"value\":\"#30a2da\"},\"line_alpha\":{\"value\":0.2},\"line_color\":{\"value\":\"#30a2da\"},\"size\":{\"value\":10.0},\"x\":{\"field\":\"year\"},\"y\":{\"field\":\"weekly_icu_admissions\"}},\"id\":\"39156\",\"type\":\"Scatter\"},{\"attributes\":{\"axis\":{\"id\":\"39115\"},\"coordinates\":null,\"grid_line_color\":null,\"group\":null,\"ticker\":null},\"id\":\"39118\",\"type\":\"Grid\"},{\"attributes\":{},\"id\":\"39124\",\"type\":\"PanTool\"},{\"attributes\":{\"fill_alpha\":{\"value\":0.2},\"fill_color\":{\"value\":\"#e5ae38\"},\"hatch_alpha\":{\"value\":0.2},\"hatch_color\":{\"value\":\"#e5ae38\"},\"line_alpha\":{\"value\":0.2},\"line_color\":{\"value\":\"#e5ae38\"},\"size\":{\"value\":10.0},\"x\":{\"field\":\"year\"},\"y\":{\"field\":\"weekly_icu_admissions\"}},\"id\":\"39193\",\"type\":\"Scatter\"},{\"attributes\":{\"fill_alpha\":{\"value\":0.7},\"fill_color\":{\"value\":\"#17becf\"},\"hatch_alpha\":{\"value\":0.7},\"hatch_color\":{\"value\":\"#17becf\"},\"line_alpha\":{\"value\":0.7},\"line_color\":{\"value\":\"#17becf\"},\"size\":{\"value\":10.0},\"x\":{\"field\":\"year\"},\"y\":{\"field\":\"weekly_icu_admissions\"}},\"id\":\"39260\",\"type\":\"Scatter\"},{\"attributes\":{\"source\":{\"id\":\"39257\"}},\"id\":\"39264\",\"type\":\"CDSView\"},{\"attributes\":{\"data\":{\"location\":[\"Germany\",\"Germany\",\"Germany\",\"Germany\"],\"weekly_icu_admissions\":{\"__ndarray__\":\"AAAAAAAA+H+x5BdLfnORQE/Q09rotJFAzczMzMzMjEA=\",\"dtype\":\"float64\",\"order\":\"little\",\"shape\":[4]},\"year\":[2020,2021,2022,2023]},\"selected\":{\"id\":\"39210\"},\"selection_policy\":{\"id\":\"39227\"}},\"id\":\"39209\",\"type\":\"ColumnDataSource\"},{\"attributes\":{\"label\":{\"value\":\"Israel\"},\"renderers\":[{\"id\":\"39263\"}]},\"id\":\"39282\",\"type\":\"LegendItem\"},{\"attributes\":{},\"id\":\"39141\",\"type\":\"AllLabels\"},{\"attributes\":{\"coordinates\":null,\"data_source\":{\"id\":\"39257\"},\"glyph\":{\"id\":\"39260\"},\"group\":null,\"hover_glyph\":null,\"muted_glyph\":{\"id\":\"39262\"},\"nonselection_glyph\":{\"id\":\"39261\"},\"selection_glyph\":{\"id\":\"39283\"},\"view\":{\"id\":\"39264\"}},\"id\":\"39263\",\"type\":\"GlyphRenderer\"},{\"attributes\":{\"axis_label\":\"weekly_icu_admissions\",\"coordinates\":null,\"formatter\":{\"id\":\"39138\"},\"group\":null,\"major_label_policy\":{\"id\":\"39146\"},\"ticker\":{\"id\":\"39137\"}},\"id\":\"39119\",\"type\":\"LinearAxis\"},{\"attributes\":{\"source\":{\"id\":\"39188\"}},\"id\":\"39195\",\"type\":\"CDSView\"},{\"attributes\":{\"label\":{\"value\":\"France\"},\"renderers\":[{\"id\":\"39194\"}]},\"id\":\"39207\",\"type\":\"LegendItem\"},{\"attributes\":{\"fill_alpha\":{\"value\":0.7},\"fill_color\":{\"value\":\"#fc4f30\"},\"hatch_alpha\":{\"value\":0.1},\"hatch_color\":{\"value\":\"#fc4f30\"},\"line_alpha\":{\"value\":0.7},\"line_color\":{\"value\":\"#fc4f30\"},\"size\":{\"value\":10.0},\"x\":{\"field\":\"year\"},\"y\":{\"field\":\"weekly_icu_admissions\"}},\"id\":\"39173\",\"type\":\"Scatter\"},{\"attributes\":{\"fill_alpha\":{\"value\":0.7},\"fill_color\":{\"value\":\"#e5ae38\"},\"hatch_alpha\":{\"value\":0.1},\"hatch_color\":{\"value\":\"#e5ae38\"},\"line_alpha\":{\"value\":0.7},\"line_color\":{\"value\":\"#e5ae38\"},\"size\":{\"value\":10.0},\"x\":{\"field\":\"year\"},\"y\":{\"field\":\"weekly_icu_admissions\"}},\"id\":\"39192\",\"type\":\"Scatter\"},{\"attributes\":{\"fill_alpha\":{\"value\":0.7},\"fill_color\":{\"value\":\"#17becf\"},\"hatch_alpha\":{\"value\":0.1},\"hatch_color\":{\"value\":\"#17becf\"},\"line_alpha\":{\"value\":0.7},\"line_color\":{\"value\":\"#17becf\"},\"size\":{\"value\":10.0},\"x\":{\"field\":\"year\"},\"y\":{\"field\":\"weekly_icu_admissions\"}},\"id\":\"39261\",\"type\":\"Scatter\"},{\"attributes\":{\"fill_alpha\":{\"value\":0.7},\"fill_color\":{\"value\":\"#d62728\"},\"hatch_alpha\":{\"value\":0.1},\"hatch_color\":{\"value\":\"#d62728\"},\"line_alpha\":{\"value\":0.7},\"line_color\":{\"value\":\"#d62728\"},\"size\":{\"value\":10.0},\"x\":{\"field\":\"year\"},\"y\":{\"field\":\"weekly_icu_admissions\"}},\"id\":\"39317\",\"type\":\"Scatter\"},{\"attributes\":{\"fill_alpha\":{\"value\":0.2},\"fill_color\":{\"value\":\"#d62728\"},\"hatch_alpha\":{\"value\":0.2},\"hatch_color\":{\"value\":\"#d62728\"},\"line_alpha\":{\"value\":0.2},\"line_color\":{\"value\":\"#d62728\"},\"size\":{\"value\":10.0},\"x\":{\"field\":\"year\"},\"y\":{\"field\":\"weekly_icu_admissions\"}},\"id\":\"39318\",\"type\":\"Scatter\"},{\"attributes\":{},\"id\":\"39125\",\"type\":\"WheelZoomTool\"}],\"root_ids\":[\"39087\",\"39557\"]},\"title\":\"Bokeh Application\",\"version\":\"2.4.3\"}};\n",
       "    var render_items = [{\"docid\":\"05a46415-cbec-4d57-92e3-708cf9d15edc\",\"root_ids\":[\"39087\"],\"roots\":{\"39087\":\"0aaf3e05-ae26-4030-8a24-828275af11ab\"}}];\n",
       "    root.Bokeh.embed.embed_items_notebook(docs_json, render_items);\n",
       "    for (const render_item of render_items) {\n",
       "      for (const root_id of render_item.root_ids) {\n",
       "\tconst id_el = document.getElementById(root_id)\n",
       "\tif (id_el.children.length && (id_el.children[0].className === 'bk-root')) {\n",
       "\t  const root_el = id_el.children[0]\n",
       "\t  root_el.id = root_el.id + '-rendered'\n",
       "\t}\n",
       "      }\n",
       "    }\n",
       "  }\n",
       "  if (root.Bokeh !== undefined && root.Bokeh.Panel !== undefined && ( root['Tabulator'] !== undefined) && ( root['Tabulator'] !== undefined) && ( root['Tabulator'] !== undefined) && ( root['Tabulator'] !== undefined) && ( root['Tabulator'] !== undefined)) {\n",
       "    embed_document(root);\n",
       "  } else {\n",
       "    var attempts = 0;\n",
       "    var timer = setInterval(function(root) {\n",
       "      if (root.Bokeh !== undefined && root.Bokeh.Panel !== undefined && (root['Tabulator'] !== undefined) && (root['Tabulator'] !== undefined) && (root['Tabulator'] !== undefined) && (root['Tabulator'] !== undefined) && (root['Tabulator'] !== undefined)) {\n",
       "        clearInterval(timer);\n",
       "        embed_document(root);\n",
       "      } else if (document.readyState == \"complete\") {\n",
       "        attempts++;\n",
       "        if (attempts > 200) {\n",
       "          clearInterval(timer);\n",
       "          console.log(\"Bokeh: ERROR: Unable to run BokehJS code because BokehJS library is missing\");\n",
       "        }\n",
       "      }\n",
       "    }, 25, root)\n",
       "  }\n",
       "})(window);</script>"
      ],
      "text/plain": [
       "<hvplot.interactive.Interactive at 0x22422fa92e0>"
      ]
     },
     "execution_count": 350,
     "metadata": {
      "application/vnd.holoviews_exec.v0+json": {
       "id": "39087"
      }
     },
     "output_type": "execute_result"
    }
   ],
   "source": [
    "Graph33_scatterplot = Graph3_scatterplot_pipeline.hvplot(x='year', \n",
    "                                                                y=yaxis_w_icu_admi,\n",
    "                                                                by='location',\n",
    "                                                                xticks=[2020, 2021, 2022, 2023],\n",
    "                                                                yticks= np.arange(0,1400, 100),\n",
    "                                                                size=100,\n",
    "                                                                yformatter='%.0f',\n",
    "                                                                kind=\"scatter\", \n",
    "                                                                title= 'Weekly ICU admissions by location',\n",
    "                                                                alpha=0.7,\n",
    "                                                                legend='right', \n",
    "                                                                height=500, \n",
    "                                                                width=500)\n",
    "Graph33_scatterplot"
   ]
  },
  {
   "cell_type": "markdown",
   "id": "d9dc167b",
   "metadata": {},
   "source": [
    "##Graph 6- Weekly admissions over time (#1 in the dashboard)"
   ]
  },
  {
   "cell_type": "code",
   "execution_count": 351,
   "id": "c882f0d8",
   "metadata": {},
   "outputs": [
    {
     "data": {},
     "metadata": {},
     "output_type": "display_data"
    },
    {
     "data": {
      "application/vnd.holoviews_exec.v0+json": "",
      "text/html": [
       "<div id='39693'>\n",
       "  <div class=\"bk-root\" id=\"ec0bb46e-7bab-412a-b6f2-4601f8000fd0\" data-root-id=\"39693\"></div>\n",
       "</div>\n",
       "<script type=\"application/javascript\">(function(root) {\n",
       "  function embed_document(root) {\n",
       "    var docs_json = {\"85c0ebf1-3b7f-4a55-9862-59deb6dabc8e\":{\"defs\":[{\"extends\":null,\"module\":null,\"name\":\"ReactiveHTML1\",\"overrides\":[],\"properties\":[]},{\"extends\":null,\"module\":null,\"name\":\"FlexBox1\",\"overrides\":[],\"properties\":[{\"default\":\"flex-start\",\"kind\":null,\"name\":\"align_content\"},{\"default\":\"flex-start\",\"kind\":null,\"name\":\"align_items\"},{\"default\":\"row\",\"kind\":null,\"name\":\"flex_direction\"},{\"default\":\"wrap\",\"kind\":null,\"name\":\"flex_wrap\"},{\"default\":\"flex-start\",\"kind\":null,\"name\":\"justify_content\"}]},{\"extends\":null,\"module\":null,\"name\":\"GridStack1\",\"overrides\":[],\"properties\":[{\"default\":\"warn\",\"kind\":null,\"name\":\"mode\"},{\"default\":null,\"kind\":null,\"name\":\"ncols\"},{\"default\":null,\"kind\":null,\"name\":\"nrows\"},{\"default\":true,\"kind\":null,\"name\":\"allow_resize\"},{\"default\":true,\"kind\":null,\"name\":\"allow_drag\"},{\"default\":[],\"kind\":null,\"name\":\"state\"}]},{\"extends\":null,\"module\":null,\"name\":\"click1\",\"overrides\":[],\"properties\":[{\"default\":\"\",\"kind\":null,\"name\":\"terminal_output\"},{\"default\":\"\",\"kind\":null,\"name\":\"debug_name\"},{\"default\":0,\"kind\":null,\"name\":\"clears\"}]},{\"extends\":null,\"module\":null,\"name\":\"NotificationAreaBase1\",\"overrides\":[],\"properties\":[{\"default\":\"bottom-right\",\"kind\":null,\"name\":\"position\"},{\"default\":0,\"kind\":null,\"name\":\"_clear\"}]},{\"extends\":null,\"module\":null,\"name\":\"NotificationArea1\",\"overrides\":[],\"properties\":[{\"default\":[],\"kind\":null,\"name\":\"notifications\"},{\"default\":\"bottom-right\",\"kind\":null,\"name\":\"position\"},{\"default\":0,\"kind\":null,\"name\":\"_clear\"},{\"default\":[{\"background\":\"#ffc107\",\"icon\":{\"className\":\"fas fa-exclamation-triangle\",\"color\":\"white\",\"tagName\":\"i\"},\"type\":\"warning\"},{\"background\":\"#007bff\",\"icon\":{\"className\":\"fas fa-info-circle\",\"color\":\"white\",\"tagName\":\"i\"},\"type\":\"info\"}],\"kind\":null,\"name\":\"types\"}]},{\"extends\":null,\"module\":null,\"name\":\"Notification\",\"overrides\":[],\"properties\":[{\"default\":null,\"kind\":null,\"name\":\"background\"},{\"default\":3000,\"kind\":null,\"name\":\"duration\"},{\"default\":null,\"kind\":null,\"name\":\"icon\"},{\"default\":\"\",\"kind\":null,\"name\":\"message\"},{\"default\":null,\"kind\":null,\"name\":\"notification_type\"},{\"default\":false,\"kind\":null,\"name\":\"_destroyed\"}]},{\"extends\":null,\"module\":null,\"name\":\"TemplateActions1\",\"overrides\":[],\"properties\":[{\"default\":0,\"kind\":null,\"name\":\"open_modal\"},{\"default\":0,\"kind\":null,\"name\":\"close_modal\"}]},{\"extends\":null,\"module\":null,\"name\":\"MaterialTemplateActions1\",\"overrides\":[],\"properties\":[{\"default\":0,\"kind\":null,\"name\":\"open_modal\"},{\"default\":0,\"kind\":null,\"name\":\"close_modal\"}]}],\"roots\":{\"references\":[{\"attributes\":{\"active\":0,\"button_type\":\"success\",\"labels\":[\"weekly_hosp_admissions\",\"weekly_hosp_admissions_per_million\"],\"margin\":[5,10,5,10],\"orientation\":\"vertical\"},\"id\":\"39693\",\"type\":\"RadioButtonGroup\"},{\"attributes\":{\"client_comm_id\":\"9dc20a47435e4e7890a5108a9629806b\",\"comm_id\":\"2c4856281c4f4ab58b7003738d64d417\",\"plot_id\":\"39693\"},\"id\":\"39694\",\"type\":\"panel.models.comm_manager.CommManager\"}],\"root_ids\":[\"39693\",\"39694\"]},\"title\":\"Bokeh Application\",\"version\":\"2.4.3\"}};\n",
       "    var render_items = [{\"docid\":\"85c0ebf1-3b7f-4a55-9862-59deb6dabc8e\",\"root_ids\":[\"39693\"],\"roots\":{\"39693\":\"ec0bb46e-7bab-412a-b6f2-4601f8000fd0\"}}];\n",
       "    root.Bokeh.embed.embed_items_notebook(docs_json, render_items);\n",
       "    for (const render_item of render_items) {\n",
       "      for (const root_id of render_item.root_ids) {\n",
       "\tconst id_el = document.getElementById(root_id)\n",
       "\tif (id_el.children.length && (id_el.children[0].className === 'bk-root')) {\n",
       "\t  const root_el = id_el.children[0]\n",
       "\t  root_el.id = root_el.id + '-rendered'\n",
       "\t}\n",
       "      }\n",
       "    }\n",
       "  }\n",
       "  if (root.Bokeh !== undefined && root.Bokeh.Panel !== undefined && ( root['Tabulator'] !== undefined) && ( root['Tabulator'] !== undefined) && ( root['Tabulator'] !== undefined) && ( root['Tabulator'] !== undefined) && ( root['Tabulator'] !== undefined)) {\n",
       "    embed_document(root);\n",
       "  } else {\n",
       "    var attempts = 0;\n",
       "    var timer = setInterval(function(root) {\n",
       "      if (root.Bokeh !== undefined && root.Bokeh.Panel !== undefined && (root['Tabulator'] !== undefined) && (root['Tabulator'] !== undefined) && (root['Tabulator'] !== undefined) && (root['Tabulator'] !== undefined) && (root['Tabulator'] !== undefined)) {\n",
       "        clearInterval(timer);\n",
       "        embed_document(root);\n",
       "      } else if (document.readyState == \"complete\") {\n",
       "        attempts++;\n",
       "        if (attempts > 200) {\n",
       "          clearInterval(timer);\n",
       "          console.log(\"Bokeh: ERROR: Unable to run BokehJS code because BokehJS library is missing\");\n",
       "        }\n",
       "      }\n",
       "    }, 25, root)\n",
       "  }\n",
       "})(window);</script>"
      ],
      "text/plain": [
       "RadioButtonGroup(button_type='success', name='Y axis', options=['weekly_hosp_admissions',...], orientation='vertical', value='weekly_hosp_admissions')"
      ]
     },
     "execution_count": 351,
     "metadata": {
      "application/vnd.holoviews_exec.v0+json": {
       "id": "39693"
      }
     },
     "output_type": "execute_result"
    }
   ],
   "source": [
    "# Radio buttons for weekly hosp admissions in Israel measures\n",
    "yaxis_hosp_a = pn.widgets.RadioButtonGroup(\n",
    "    name='Y axis', \n",
    "    options=['weekly_hosp_admissions', 'weekly_hosp_admissions_per_million',],\n",
    "    button_type='success',\n",
    "    orientation= 'vertical'\n",
    ")\n",
    "yaxis_hosp_a  \n"
   ]
  },
  {
   "cell_type": "code",
   "execution_count": 352,
   "id": "8a292811",
   "metadata": {},
   "outputs": [],
   "source": [
    "locations = ['Chile','Cyprus', 'Czechia','Estonia','France','Germany', 'Greece',\n",
    "             'Ireland', 'Israel', 'Italy', 'Latvia', 'Lithuania', 'Luxembourg', 'Malta',\n",
    "             'Netherlands', 'Norway', 'Singapore', 'Slovakia', 'Slovenia', 'South Korea','Spain']\n",
    "\n",
    "selected_2 = ['France','Germany', 'Israel', 'Italy', 'Spain','United Kingdom']\n",
    "year_selected= [2020,2021,2022]"
   ]
  },
  {
   "cell_type": "code",
   "execution_count": 353,
   "id": "4cbd6fa1",
   "metadata": {},
   "outputs": [
    {
     "data": {},
     "metadata": {},
     "output_type": "display_data"
    },
    {
     "data": {
      "application/vnd.holoviews_exec.v0+json": "",
      "text/html": [
       "<div id='39695'>\n",
       "  <div class=\"bk-root\" id=\"65505818-5f64-4653-a51a-ad6d4884fa07\" data-root-id=\"39695\"></div>\n",
       "</div>\n",
       "<script type=\"application/javascript\">(function(root) {\n",
       "  function embed_document(root) {\n",
       "    var docs_json = {\"c53d29e8-2e3e-4c33-b2c8-4fda2e290e1d\":{\"defs\":[{\"extends\":null,\"module\":null,\"name\":\"ReactiveHTML1\",\"overrides\":[],\"properties\":[]},{\"extends\":null,\"module\":null,\"name\":\"FlexBox1\",\"overrides\":[],\"properties\":[{\"default\":\"flex-start\",\"kind\":null,\"name\":\"align_content\"},{\"default\":\"flex-start\",\"kind\":null,\"name\":\"align_items\"},{\"default\":\"row\",\"kind\":null,\"name\":\"flex_direction\"},{\"default\":\"wrap\",\"kind\":null,\"name\":\"flex_wrap\"},{\"default\":\"flex-start\",\"kind\":null,\"name\":\"justify_content\"}]},{\"extends\":null,\"module\":null,\"name\":\"GridStack1\",\"overrides\":[],\"properties\":[{\"default\":\"warn\",\"kind\":null,\"name\":\"mode\"},{\"default\":null,\"kind\":null,\"name\":\"ncols\"},{\"default\":null,\"kind\":null,\"name\":\"nrows\"},{\"default\":true,\"kind\":null,\"name\":\"allow_resize\"},{\"default\":true,\"kind\":null,\"name\":\"allow_drag\"},{\"default\":[],\"kind\":null,\"name\":\"state\"}]},{\"extends\":null,\"module\":null,\"name\":\"click1\",\"overrides\":[],\"properties\":[{\"default\":\"\",\"kind\":null,\"name\":\"terminal_output\"},{\"default\":\"\",\"kind\":null,\"name\":\"debug_name\"},{\"default\":0,\"kind\":null,\"name\":\"clears\"}]},{\"extends\":null,\"module\":null,\"name\":\"NotificationAreaBase1\",\"overrides\":[],\"properties\":[{\"default\":\"bottom-right\",\"kind\":null,\"name\":\"position\"},{\"default\":0,\"kind\":null,\"name\":\"_clear\"}]},{\"extends\":null,\"module\":null,\"name\":\"NotificationArea1\",\"overrides\":[],\"properties\":[{\"default\":[],\"kind\":null,\"name\":\"notifications\"},{\"default\":\"bottom-right\",\"kind\":null,\"name\":\"position\"},{\"default\":0,\"kind\":null,\"name\":\"_clear\"},{\"default\":[{\"background\":\"#ffc107\",\"icon\":{\"className\":\"fas fa-exclamation-triangle\",\"color\":\"white\",\"tagName\":\"i\"},\"type\":\"warning\"},{\"background\":\"#007bff\",\"icon\":{\"className\":\"fas fa-info-circle\",\"color\":\"white\",\"tagName\":\"i\"},\"type\":\"info\"}],\"kind\":null,\"name\":\"types\"}]},{\"extends\":null,\"module\":null,\"name\":\"Notification\",\"overrides\":[],\"properties\":[{\"default\":null,\"kind\":null,\"name\":\"background\"},{\"default\":3000,\"kind\":null,\"name\":\"duration\"},{\"default\":null,\"kind\":null,\"name\":\"icon\"},{\"default\":\"\",\"kind\":null,\"name\":\"message\"},{\"default\":null,\"kind\":null,\"name\":\"notification_type\"},{\"default\":false,\"kind\":null,\"name\":\"_destroyed\"}]},{\"extends\":null,\"module\":null,\"name\":\"TemplateActions1\",\"overrides\":[],\"properties\":[{\"default\":0,\"kind\":null,\"name\":\"open_modal\"},{\"default\":0,\"kind\":null,\"name\":\"close_modal\"}]},{\"extends\":null,\"module\":null,\"name\":\"MaterialTemplateActions1\",\"overrides\":[],\"properties\":[{\"default\":0,\"kind\":null,\"name\":\"open_modal\"},{\"default\":0,\"kind\":null,\"name\":\"close_modal\"}]}],\"roots\":{\"references\":[{\"attributes\":{\"client_comm_id\":\"0e234c3089cd49b58b04b29201393e16\",\"comm_id\":\"6fc70965b513468d919b35fe0bbccee9\",\"plot_id\":\"39695\"},\"id\":\"39703\",\"type\":\"panel.models.comm_manager.CommManager\"},{\"attributes\":{\"children\":[{\"id\":\"39697\"},{\"id\":\"39701\"}],\"margin\":[0,0,0,0],\"name\":\"Column192082\"},\"id\":\"39696\",\"type\":\"Column\"},{\"attributes\":{\"active\":0,\"button_type\":\"success\",\"labels\":[\"weekly_hosp_admissions\",\"weekly_hosp_admissions_per_million\"],\"margin\":[5,10,5,10],\"orientation\":\"vertical\"},\"id\":\"39699\",\"type\":\"RadioButtonGroup\"},{\"attributes\":{\"margin\":[5,5,5,5],\"name\":\"HSpacer192080\",\"sizing_mode\":\"stretch_width\"},\"id\":\"39700\",\"type\":\"Spacer\"},{\"attributes\":{\"children\":[{\"id\":\"39699\"}],\"margin\":[0,0,0,0],\"name\":\"Column192034\"},\"id\":\"39698\",\"type\":\"Column\"},{\"attributes\":{\"children\":[{\"id\":\"39702\"}],\"margin\":[0,0,0,0],\"name\":\"Row192039\"},\"id\":\"39701\",\"type\":\"Row\"},{\"attributes\":{\"margin\":[5,5,5,5],\"name\":\"DataFrame192078\",\"text\":\"&lt;table class=&quot;dataframe panel-df&quot;&gt;\\n  &lt;thead&gt;\\n    &lt;tr style=&quot;text-align: right;&quot;&gt;\\n      &lt;th&gt;&lt;/th&gt;\\n      &lt;th&gt;location&lt;/th&gt;\\n      &lt;th&gt;year&lt;/th&gt;\\n      &lt;th&gt;weekly_hosp_admissions&lt;/th&gt;\\n    &lt;/tr&gt;\\n  &lt;/thead&gt;\\n  &lt;tbody&gt;\\n    &lt;tr&gt;\\n      &lt;th&gt;0&lt;/th&gt;\\n      &lt;td&gt;France&lt;/td&gt;\\n      &lt;td&gt;2020&lt;/td&gt;\\n      &lt;td&gt;6670.620567&lt;/td&gt;\\n    &lt;/tr&gt;\\n    &lt;tr&gt;\\n      &lt;th&gt;1&lt;/th&gt;\\n      &lt;td&gt;United Kingdom&lt;/td&gt;\\n      &lt;td&gt;2020&lt;/td&gt;\\n      &lt;td&gt;6802.402878&lt;/td&gt;\\n    &lt;/tr&gt;\\n    &lt;tr&gt;\\n      &lt;th&gt;2&lt;/th&gt;\\n      &lt;td&gt;Germany&lt;/td&gt;\\n      &lt;td&gt;2020&lt;/td&gt;\\n      &lt;td&gt;2906.245098&lt;/td&gt;\\n    &lt;/tr&gt;\\n    &lt;tr&gt;\\n      &lt;th&gt;3&lt;/th&gt;\\n      &lt;td&gt;Israel&lt;/td&gt;\\n      &lt;td&gt;2020&lt;/td&gt;\\n      &lt;td&gt;624.073579&lt;/td&gt;\\n    &lt;/tr&gt;\\n    &lt;tr&gt;\\n      &lt;th&gt;4&lt;/th&gt;\\n      &lt;td&gt;Italy&lt;/td&gt;\\n      &lt;td&gt;2020&lt;/td&gt;\\n      &lt;td&gt;5405.029032&lt;/td&gt;\\n    &lt;/tr&gt;\\n    &lt;tr&gt;\\n      &lt;th&gt;5&lt;/th&gt;\\n      &lt;td&gt;Spain&lt;/td&gt;\\n      &lt;td&gt;2020&lt;/td&gt;\\n      &lt;td&gt;8250.054422&lt;/td&gt;\\n    &lt;/tr&gt;\\n    &lt;tr&gt;\\n      &lt;th&gt;6&lt;/th&gt;\\n      &lt;td&gt;France&lt;/td&gt;\\n      &lt;td&gt;2021&lt;/td&gt;\\n      &lt;td&gt;6198.260274&lt;/td&gt;\\n    &lt;/tr&gt;\\n    &lt;tr&gt;\\n      &lt;th&gt;7&lt;/th&gt;\\n      &lt;td&gt;Germany&lt;/td&gt;\\n      &lt;td&gt;2021&lt;/td&gt;\\n      &lt;td&gt;4996.556164&lt;/td&gt;\\n    &lt;/tr&gt;\\n    &lt;tr&gt;\\n      &lt;th&gt;8&lt;/th&gt;\\n      &lt;td&gt;Israel&lt;/td&gt;\\n      &lt;td&gt;2021&lt;/td&gt;\\n      &lt;td&gt;611.972603&lt;/td&gt;\\n    &lt;/tr&gt;\\n    &lt;tr&gt;\\n      &lt;th&gt;9&lt;/th&gt;\\n      &lt;td&gt;United Kingdom&lt;/td&gt;\\n      &lt;td&gt;2021&lt;/td&gt;\\n      &lt;td&gt;6819.041096&lt;/td&gt;\\n    &lt;/tr&gt;\\n    &lt;tr&gt;\\n      &lt;th&gt;10&lt;/th&gt;\\n      &lt;td&gt;Italy&lt;/td&gt;\\n      &lt;td&gt;2021&lt;/td&gt;\\n      &lt;td&gt;4524.471233&lt;/td&gt;\\n    &lt;/tr&gt;\\n    &lt;tr&gt;\\n      &lt;th&gt;11&lt;/th&gt;\\n      &lt;td&gt;Spain&lt;/td&gt;\\n      &lt;td&gt;2021&lt;/td&gt;\\n      &lt;td&gt;5666.586301&lt;/td&gt;\\n    &lt;/tr&gt;\\n    &lt;tr&gt;\\n      &lt;th&gt;12&lt;/th&gt;\\n      &lt;td&gt;Spain&lt;/td&gt;\\n      &lt;td&gt;2022&lt;/td&gt;\\n      &lt;td&gt;5391.487671&lt;/td&gt;\\n    &lt;/tr&gt;\\n    &lt;tr&gt;\\n      &lt;th&gt;13&lt;/th&gt;\\n      &lt;td&gt;Israel&lt;/td&gt;\\n      &lt;td&gt;2022&lt;/td&gt;\\n      &lt;td&gt;836.093151&lt;/td&gt;\\n    &lt;/tr&gt;\\n    &lt;tr&gt;\\n      &lt;th&gt;14&lt;/th&gt;\\n      &lt;td&gt;Germany&lt;/td&gt;\\n      &lt;td&gt;2022&lt;/td&gt;\\n      &lt;td&gt;8423.605479&lt;/td&gt;\\n    &lt;/tr&gt;\\n    &lt;tr&gt;\\n      &lt;th&gt;15&lt;/th&gt;\\n      &lt;td&gt;France&lt;/td&gt;\\n      &lt;td&gt;2022&lt;/td&gt;\\n      &lt;td&gt;7970.654795&lt;/td&gt;\\n    &lt;/tr&gt;\\n    &lt;tr&gt;\\n      &lt;th&gt;16&lt;/th&gt;\\n      &lt;td&gt;Italy&lt;/td&gt;\\n      &lt;td&gt;2022&lt;/td&gt;\\n      &lt;td&gt;4765.819178&lt;/td&gt;\\n    &lt;/tr&gt;\\n    &lt;tr&gt;\\n      &lt;th&gt;17&lt;/th&gt;\\n      &lt;td&gt;United Kingdom&lt;/td&gt;\\n      &lt;td&gt;2022&lt;/td&gt;\\n      &lt;td&gt;9853.661417&lt;/td&gt;\\n    &lt;/tr&gt;\\n  &lt;/tbody&gt;\\n&lt;/table&gt;\"},\"id\":\"39702\",\"type\":\"panel.models.markup.HTML\"},{\"attributes\":{\"children\":[{\"id\":\"39698\"},{\"id\":\"39700\"}],\"margin\":[0,0,0,0],\"name\":\"Row192081\"},\"id\":\"39697\",\"type\":\"Row\"},{\"attributes\":{\"children\":[{\"id\":\"39696\"}],\"margin\":[0,0,0,0],\"name\":\"Row192083\"},\"id\":\"39695\",\"type\":\"Row\"}],\"root_ids\":[\"39695\",\"39703\"]},\"title\":\"Bokeh Application\",\"version\":\"2.4.3\"}};\n",
       "    var render_items = [{\"docid\":\"c53d29e8-2e3e-4c33-b2c8-4fda2e290e1d\",\"root_ids\":[\"39695\"],\"roots\":{\"39695\":\"65505818-5f64-4653-a51a-ad6d4884fa07\"}}];\n",
       "    root.Bokeh.embed.embed_items_notebook(docs_json, render_items);\n",
       "    for (const render_item of render_items) {\n",
       "      for (const root_id of render_item.root_ids) {\n",
       "\tconst id_el = document.getElementById(root_id)\n",
       "\tif (id_el.children.length && (id_el.children[0].className === 'bk-root')) {\n",
       "\t  const root_el = id_el.children[0]\n",
       "\t  root_el.id = root_el.id + '-rendered'\n",
       "\t}\n",
       "      }\n",
       "    }\n",
       "  }\n",
       "  if (root.Bokeh !== undefined && root.Bokeh.Panel !== undefined && ( root['Tabulator'] !== undefined) && ( root['Tabulator'] !== undefined) && ( root['Tabulator'] !== undefined) && ( root['Tabulator'] !== undefined) && ( root['Tabulator'] !== undefined)) {\n",
       "    embed_document(root);\n",
       "  } else {\n",
       "    var attempts = 0;\n",
       "    var timer = setInterval(function(root) {\n",
       "      if (root.Bokeh !== undefined && root.Bokeh.Panel !== undefined && (root['Tabulator'] !== undefined) && (root['Tabulator'] !== undefined) && (root['Tabulator'] !== undefined) && (root['Tabulator'] !== undefined) && (root['Tabulator'] !== undefined)) {\n",
       "        clearInterval(timer);\n",
       "        embed_document(root);\n",
       "      } else if (document.readyState == \"complete\") {\n",
       "        attempts++;\n",
       "        if (attempts > 200) {\n",
       "          clearInterval(timer);\n",
       "          console.log(\"Bokeh: ERROR: Unable to run BokehJS code because BokehJS library is missing\");\n",
       "        }\n",
       "      }\n",
       "    }, 25, root)\n",
       "  }\n",
       "})(window);</script>"
      ],
      "text/plain": [
       "<hvplot.interactive.Interactive at 0x2241e7eaa00>"
      ]
     },
     "execution_count": 353,
     "metadata": {
      "application/vnd.holoviews_exec.v0+json": {
       "id": "39695"
      }
     },
     "output_type": "execute_result"
    }
   ],
   "source": [
    "hosp_a_pipeline = (\n",
    "    idf[\n",
    "        (idf.location.isin(selected_2))&\n",
    "         (idf.year.isin(year_selected))\n",
    "         ]\n",
    "         \n",
    "    .groupby(['location','year'])[yaxis_hosp_a].mean()\n",
    "    .to_frame()\n",
    "    .reset_index()\n",
    "    .sort_values(by='year')  \n",
    "    .reset_index(drop=True)\n",
    ")\n",
    "hosp_a_pipeline "
   ]
  },
  {
   "cell_type": "code",
   "execution_count": 354,
   "id": "45879081",
   "metadata": {},
   "outputs": [
    {
     "data": {},
     "metadata": {},
     "output_type": "display_data"
    },
    {
     "data": {},
     "metadata": {},
     "output_type": "display_data"
    },
    {
     "data": {
      "application/vnd.holoviews_exec.v0+json": "",
      "text/html": [
       "<div id='39704'>\n",
       "  <div class=\"bk-root\" id=\"555b9940-db89-4e75-904c-7e34eca68e57\" data-root-id=\"39704\"></div>\n",
       "</div>\n",
       "<script type=\"application/javascript\">(function(root) {\n",
       "  function embed_document(root) {\n",
       "    var docs_json = {\"1458eea4-8479-4f71-bcd7-708389350160\":{\"defs\":[{\"extends\":null,\"module\":null,\"name\":\"ReactiveHTML1\",\"overrides\":[],\"properties\":[]},{\"extends\":null,\"module\":null,\"name\":\"FlexBox1\",\"overrides\":[],\"properties\":[{\"default\":\"flex-start\",\"kind\":null,\"name\":\"align_content\"},{\"default\":\"flex-start\",\"kind\":null,\"name\":\"align_items\"},{\"default\":\"row\",\"kind\":null,\"name\":\"flex_direction\"},{\"default\":\"wrap\",\"kind\":null,\"name\":\"flex_wrap\"},{\"default\":\"flex-start\",\"kind\":null,\"name\":\"justify_content\"}]},{\"extends\":null,\"module\":null,\"name\":\"GridStack1\",\"overrides\":[],\"properties\":[{\"default\":\"warn\",\"kind\":null,\"name\":\"mode\"},{\"default\":null,\"kind\":null,\"name\":\"ncols\"},{\"default\":null,\"kind\":null,\"name\":\"nrows\"},{\"default\":true,\"kind\":null,\"name\":\"allow_resize\"},{\"default\":true,\"kind\":null,\"name\":\"allow_drag\"},{\"default\":[],\"kind\":null,\"name\":\"state\"}]},{\"extends\":null,\"module\":null,\"name\":\"click1\",\"overrides\":[],\"properties\":[{\"default\":\"\",\"kind\":null,\"name\":\"terminal_output\"},{\"default\":\"\",\"kind\":null,\"name\":\"debug_name\"},{\"default\":0,\"kind\":null,\"name\":\"clears\"}]},{\"extends\":null,\"module\":null,\"name\":\"NotificationAreaBase1\",\"overrides\":[],\"properties\":[{\"default\":\"bottom-right\",\"kind\":null,\"name\":\"position\"},{\"default\":0,\"kind\":null,\"name\":\"_clear\"}]},{\"extends\":null,\"module\":null,\"name\":\"NotificationArea1\",\"overrides\":[],\"properties\":[{\"default\":[],\"kind\":null,\"name\":\"notifications\"},{\"default\":\"bottom-right\",\"kind\":null,\"name\":\"position\"},{\"default\":0,\"kind\":null,\"name\":\"_clear\"},{\"default\":[{\"background\":\"#ffc107\",\"icon\":{\"className\":\"fas fa-exclamation-triangle\",\"color\":\"white\",\"tagName\":\"i\"},\"type\":\"warning\"},{\"background\":\"#007bff\",\"icon\":{\"className\":\"fas fa-info-circle\",\"color\":\"white\",\"tagName\":\"i\"},\"type\":\"info\"}],\"kind\":null,\"name\":\"types\"}]},{\"extends\":null,\"module\":null,\"name\":\"Notification\",\"overrides\":[],\"properties\":[{\"default\":null,\"kind\":null,\"name\":\"background\"},{\"default\":3000,\"kind\":null,\"name\":\"duration\"},{\"default\":null,\"kind\":null,\"name\":\"icon\"},{\"default\":\"\",\"kind\":null,\"name\":\"message\"},{\"default\":null,\"kind\":null,\"name\":\"notification_type\"},{\"default\":false,\"kind\":null,\"name\":\"_destroyed\"}]},{\"extends\":null,\"module\":null,\"name\":\"TemplateActions1\",\"overrides\":[],\"properties\":[{\"default\":0,\"kind\":null,\"name\":\"open_modal\"},{\"default\":0,\"kind\":null,\"name\":\"close_modal\"}]},{\"extends\":null,\"module\":null,\"name\":\"MaterialTemplateActions1\",\"overrides\":[],\"properties\":[{\"default\":0,\"kind\":null,\"name\":\"open_modal\"},{\"default\":0,\"kind\":null,\"name\":\"close_modal\"}]}],\"roots\":{\"references\":[{\"attributes\":{\"axis_label\":\"weekly_hosp_admissions\",\"coordinates\":null,\"formatter\":{\"id\":\"39753\"},\"group\":null,\"major_label_policy\":{\"id\":\"39754\"},\"ticker\":{\"id\":\"39723\"}},\"id\":\"39722\",\"type\":\"LinearAxis\"},{\"attributes\":{\"fill_alpha\":{\"value\":0.7},\"fill_color\":{\"field\":\"location\",\"transform\":{\"id\":\"39742\"}},\"hatch_alpha\":{\"value\":0.1},\"hatch_color\":{\"field\":\"location\",\"transform\":{\"id\":\"39742\"}},\"height\":{\"value\":0.8},\"line_alpha\":{\"value\":0.7},\"right\":{\"field\":\"weekly_hosp_admissions\"},\"y\":{\"field\":\"xoffsets\"}},\"id\":\"39747\",\"type\":\"HBar\"},{\"attributes\":{\"children\":[{\"id\":\"39708\"}],\"margin\":[0,0,0,0],\"name\":\"Column192255\"},\"id\":\"39707\",\"type\":\"Column\"},{\"attributes\":{},\"id\":\"39730\",\"type\":\"PanTool\"},{\"attributes\":{},\"id\":\"39765\",\"type\":\"UnionRenderers\"},{\"attributes\":{},\"id\":\"39731\",\"type\":\"WheelZoomTool\"},{\"attributes\":{\"axis\":{\"id\":\"39722\"},\"coordinates\":null,\"grid_line_color\":null,\"group\":null,\"ticker\":null},\"id\":\"39725\",\"type\":\"Grid\"},{\"attributes\":{},\"id\":\"39723\",\"type\":\"BasicTicker\"},{\"attributes\":{\"fill_alpha\":{\"value\":0.7},\"fill_color\":{\"field\":\"location\",\"transform\":{\"id\":\"39742\"}},\"hatch_alpha\":{\"value\":0.7},\"hatch_color\":{\"field\":\"location\",\"transform\":{\"id\":\"39742\"}},\"hatch_scale\":{\"value\":12.0},\"hatch_weight\":{\"value\":1.0},\"height\":{\"value\":0.8},\"left\":{\"value\":0},\"line_alpha\":{\"value\":0.7},\"line_cap\":{\"value\":\"butt\"},\"line_color\":{\"value\":\"black\"},\"line_dash\":{\"value\":[]},\"line_dash_offset\":{\"value\":0},\"line_join\":{\"value\":\"bevel\"},\"line_width\":{\"value\":1},\"right\":{\"field\":\"weekly_hosp_admissions\"},\"y\":{\"field\":\"xoffsets\"}},\"id\":\"39751\",\"type\":\"HBar\"},{\"attributes\":{\"axis\":{\"id\":\"39726\"},\"coordinates\":null,\"dimension\":1,\"grid_line_color\":null,\"group\":null,\"ticker\":null},\"id\":\"39728\",\"type\":\"Grid\"},{\"attributes\":{\"end\":10777.830298781146,\"reset_end\":10777.830298781146,\"reset_start\":0.0,\"tags\":[[[\"weekly_hosp_admissions\",\"weekly_hosp_admissions\",null]]]},\"id\":\"39710\",\"type\":\"Range1d\"},{\"attributes\":{\"data\":{\"location\":[\"France\",\"France\",\"France\",\"United Kingdom\",\"United Kingdom\",\"United Kingdom\",\"Germany\",\"Germany\",\"Germany\",\"Israel\",\"Israel\",\"Israel\",\"Italy\",\"Italy\",\"Italy\",\"Spain\",\"Spain\",\"Spain\"],\"weekly_hosp_admissions\":{\"__ndarray__\":\"ZuiA3Z4OukBUqFChQja4QFobnaCnIr9AhSj+ImeSukBRoUKFCqO6QEulUqnUPsNAfX19fX20pkCZ/slgjoSzQH3GWYDNc8BAmuRfsJaAg0D8+PHjxx+DQAxLycW+IIpA63aobgcdtUBIwreieKyxQJ2gp7XRnbJAZeJK9wYdwEApudgXliK2QGicBdh8D7VA\",\"dtype\":\"float64\",\"order\":\"little\",\"shape\":[18]},\"xoffsets\":[[\"2020\",\"France\"],[\"2021\",\"France\"],[\"2022\",\"France\"],[\"2020\",\"United Kingdom\"],[\"2021\",\"United Kingdom\"],[\"2022\",\"United Kingdom\"],[\"2020\",\"Germany\"],[\"2021\",\"Germany\"],[\"2022\",\"Germany\"],[\"2020\",\"Israel\"],[\"2021\",\"Israel\"],[\"2022\",\"Israel\"],[\"2020\",\"Italy\"],[\"2021\",\"Italy\"],[\"2022\",\"Italy\"],[\"2020\",\"Spain\"],[\"2021\",\"Spain\"],[\"2022\",\"Spain\"]],\"year\":[\"2020\",\"2021\",\"2022\",\"2020\",\"2021\",\"2022\",\"2020\",\"2021\",\"2022\",\"2020\",\"2021\",\"2022\",\"2020\",\"2021\",\"2022\",\"2020\",\"2021\",\"2022\"]},\"selected\":{\"id\":\"39744\"},\"selection_policy\":{\"id\":\"39765\"}},\"id\":\"39743\",\"type\":\"ColumnDataSource\"},{\"attributes\":{\"callback\":null,\"renderers\":[{\"id\":\"39749\"}],\"tags\":[\"hv_created\"],\"tooltips\":[[\"year\",\"@{year}\"],[\"location\",\"@{location}\"],[\"weekly_hosp_admissions\",\"@{weekly_hosp_admissions}\"]]},\"id\":\"39712\",\"type\":\"HoverTool\"},{\"attributes\":{},\"id\":\"39733\",\"type\":\"ResetTool\"},{\"attributes\":{\"factors\":[[\"2020\",\"France\"],[\"2020\",\"United Kingdom\"],[\"2020\",\"Germany\"],[\"2020\",\"Israel\"],[\"2020\",\"Italy\"],[\"2020\",\"Spain\"],[\"2021\",\"France\"],[\"2021\",\"United Kingdom\"],[\"2021\",\"Germany\"],[\"2021\",\"Israel\"],[\"2021\",\"Italy\"],[\"2021\",\"Spain\"],[\"2022\",\"France\"],[\"2022\",\"United Kingdom\"],[\"2022\",\"Germany\"],[\"2022\",\"Israel\"],[\"2022\",\"Italy\"],[\"2022\",\"Spain\"]],\"tags\":[[[\"year\",\"year\",null],[\"location\",\"location\",null]]]},\"id\":\"39711\",\"type\":\"FactorRange\"},{\"attributes\":{\"active\":0,\"button_type\":\"success\",\"labels\":[\"weekly_hosp_admissions\",\"weekly_hosp_admissions_per_million\"],\"margin\":[5,10,5,10],\"orientation\":\"vertical\"},\"id\":\"39708\",\"type\":\"RadioButtonGroup\"},{\"attributes\":{\"margin\":[5,5,5,5],\"name\":\"HSpacer192259\",\"sizing_mode\":\"stretch_width\"},\"id\":\"39709\",\"type\":\"Spacer\"},{\"attributes\":{\"overlay\":{\"id\":\"39734\"}},\"id\":\"39732\",\"type\":\"BoxZoomTool\"},{\"attributes\":{\"children\":[{\"id\":\"39705\"}],\"margin\":[0,0,0,0],\"name\":\"Row192267\"},\"id\":\"39704\",\"type\":\"Row\"},{\"attributes\":{\"bottom_units\":\"screen\",\"coordinates\":null,\"fill_alpha\":0.5,\"fill_color\":\"lightgrey\",\"group\":null,\"left_units\":\"screen\",\"level\":\"overlay\",\"line_alpha\":1.0,\"line_color\":\"black\",\"line_dash\":[4,4],\"line_width\":2,\"right_units\":\"screen\",\"syncable\":false,\"top_units\":\"screen\"},\"id\":\"39734\",\"type\":\"BoxAnnotation\"},{\"attributes\":{},\"id\":\"39727\",\"type\":\"CategoricalTicker\"},{\"attributes\":{\"factors\":[\"France\",\"United Kingdom\",\"Germany\",\"Israel\",\"Italy\",\"Spain\"],\"palette\":[\"#30a2da\",\"#fc4f30\",\"#e5ae38\",\"#6d904f\",\"#8b8b8b\",\"#17becf\"]},\"id\":\"39742\",\"type\":\"CategoricalColorMapper\"},{\"attributes\":{},\"id\":\"39756\",\"type\":\"CategoricalTickFormatter\"},{\"attributes\":{\"tools\":[{\"id\":\"39712\"},{\"id\":\"39729\"},{\"id\":\"39730\"},{\"id\":\"39731\"},{\"id\":\"39732\"},{\"id\":\"39733\"}]},\"id\":\"39735\",\"type\":\"Toolbar\"},{\"attributes\":{},\"id\":\"39729\",\"type\":\"SaveTool\"},{\"attributes\":{\"fill_alpha\":{\"value\":0.7},\"fill_color\":{\"field\":\"location\",\"transform\":{\"id\":\"39742\"}},\"hatch_alpha\":{\"value\":0.7},\"hatch_color\":{\"field\":\"location\",\"transform\":{\"id\":\"39742\"}},\"height\":{\"value\":0.8},\"line_alpha\":{\"value\":0.7},\"right\":{\"field\":\"weekly_hosp_admissions\"},\"y\":{\"field\":\"xoffsets\"}},\"id\":\"39746\",\"type\":\"HBar\"},{\"attributes\":{},\"id\":\"39754\",\"type\":\"AllLabels\"},{\"attributes\":{\"source\":{\"id\":\"39743\"}},\"id\":\"39750\",\"type\":\"CDSView\"},{\"attributes\":{},\"id\":\"39718\",\"type\":\"LinearScale\"},{\"attributes\":{\"coordinates\":null,\"group\":null,\"text\":\"Weekly admissions over time\",\"text_color\":\"black\",\"text_font_size\":\"12pt\"},\"id\":\"39714\",\"type\":\"Title\"},{\"attributes\":{},\"id\":\"39757\",\"type\":\"AllLabels\"},{\"attributes\":{\"children\":[{\"id\":\"39706\"},{\"id\":\"39713\"}],\"margin\":[0,0,0,0],\"name\":\"Column192266\"},\"id\":\"39705\",\"type\":\"Column\"},{\"attributes\":{\"below\":[{\"id\":\"39722\"}],\"center\":[{\"id\":\"39725\"},{\"id\":\"39728\"}],\"height\":350,\"left\":[{\"id\":\"39726\"}],\"margin\":[5,5,5,5],\"min_border_bottom\":10,\"min_border_left\":10,\"min_border_right\":10,\"min_border_top\":10,\"renderers\":[{\"id\":\"39749\"}],\"sizing_mode\":\"fixed\",\"title\":{\"id\":\"39714\"},\"toolbar\":{\"id\":\"39735\"},\"width\":500,\"x_range\":{\"id\":\"39710\"},\"x_scale\":{\"id\":\"39718\"},\"y_range\":{\"id\":\"39711\"},\"y_scale\":{\"id\":\"39720\"}},\"id\":\"39713\",\"subtype\":\"Figure\",\"type\":\"Plot\"},{\"attributes\":{\"fill_alpha\":{\"value\":0.2},\"fill_color\":{\"field\":\"location\",\"transform\":{\"id\":\"39742\"}},\"hatch_alpha\":{\"value\":0.2},\"hatch_color\":{\"field\":\"location\",\"transform\":{\"id\":\"39742\"}},\"height\":{\"value\":0.8},\"line_alpha\":{\"value\":0.2},\"right\":{\"field\":\"weekly_hosp_admissions\"},\"y\":{\"field\":\"xoffsets\"}},\"id\":\"39748\",\"type\":\"HBar\"},{\"attributes\":{},\"id\":\"39720\",\"type\":\"CategoricalScale\"},{\"attributes\":{\"coordinates\":null,\"data_source\":{\"id\":\"39743\"},\"glyph\":{\"id\":\"39746\"},\"group\":null,\"hover_glyph\":null,\"muted_glyph\":{\"id\":\"39748\"},\"nonselection_glyph\":{\"id\":\"39747\"},\"selection_glyph\":{\"id\":\"39751\"},\"view\":{\"id\":\"39750\"}},\"id\":\"39749\",\"type\":\"GlyphRenderer\"},{\"attributes\":{\"client_comm_id\":\"d6378ff471594368acf9ce354b59ee4c\",\"comm_id\":\"b22c3db9c6cb4f68b81936259aad11f4\",\"plot_id\":\"39704\"},\"id\":\"39798\",\"type\":\"panel.models.comm_manager.CommManager\"},{\"attributes\":{\"children\":[{\"id\":\"39707\"},{\"id\":\"39709\"}],\"margin\":[0,0,0,0],\"name\":\"Row192260\"},\"id\":\"39706\",\"type\":\"Row\"},{\"attributes\":{},\"id\":\"39753\",\"type\":\"BasicTickFormatter\"},{\"attributes\":{},\"id\":\"39744\",\"type\":\"Selection\"},{\"attributes\":{\"axis_label\":\"year, location\",\"coordinates\":null,\"formatter\":{\"id\":\"39756\"},\"group\":null,\"major_label_policy\":{\"id\":\"39757\"},\"ticker\":{\"id\":\"39727\"}},\"id\":\"39726\",\"type\":\"CategoricalAxis\"}],\"root_ids\":[\"39704\",\"39798\"]},\"title\":\"Bokeh Application\",\"version\":\"2.4.3\"}};\n",
       "    var render_items = [{\"docid\":\"1458eea4-8479-4f71-bcd7-708389350160\",\"root_ids\":[\"39704\"],\"roots\":{\"39704\":\"555b9940-db89-4e75-904c-7e34eca68e57\"}}];\n",
       "    root.Bokeh.embed.embed_items_notebook(docs_json, render_items);\n",
       "    for (const render_item of render_items) {\n",
       "      for (const root_id of render_item.root_ids) {\n",
       "\tconst id_el = document.getElementById(root_id)\n",
       "\tif (id_el.children.length && (id_el.children[0].className === 'bk-root')) {\n",
       "\t  const root_el = id_el.children[0]\n",
       "\t  root_el.id = root_el.id + '-rendered'\n",
       "\t}\n",
       "      }\n",
       "    }\n",
       "  }\n",
       "  if (root.Bokeh !== undefined && root.Bokeh.Panel !== undefined && ( root['Tabulator'] !== undefined) && ( root['Tabulator'] !== undefined) && ( root['Tabulator'] !== undefined) && ( root['Tabulator'] !== undefined) && ( root['Tabulator'] !== undefined)) {\n",
       "    embed_document(root);\n",
       "  } else {\n",
       "    var attempts = 0;\n",
       "    var timer = setInterval(function(root) {\n",
       "      if (root.Bokeh !== undefined && root.Bokeh.Panel !== undefined && (root['Tabulator'] !== undefined) && (root['Tabulator'] !== undefined) && (root['Tabulator'] !== undefined) && (root['Tabulator'] !== undefined) && (root['Tabulator'] !== undefined)) {\n",
       "        clearInterval(timer);\n",
       "        embed_document(root);\n",
       "      } else if (document.readyState == \"complete\") {\n",
       "        attempts++;\n",
       "        if (attempts > 200) {\n",
       "          clearInterval(timer);\n",
       "          console.log(\"Bokeh: ERROR: Unable to run BokehJS code because BokehJS library is missing\");\n",
       "        }\n",
       "      }\n",
       "    }, 25, root)\n",
       "  }\n",
       "})(window);</script>"
      ],
      "text/plain": [
       "<hvplot.interactive.Interactive at 0x2241e7ea5b0>"
      ]
     },
     "execution_count": 354,
     "metadata": {
      "application/vnd.holoviews_exec.v0+json": {
       "id": "39704"
      }
     },
     "output_type": "execute_result"
    }
   ],
   "source": [
    "hosp_patients_bhplot = hosp_a_pipeline.hvplot(kind ='barh',\n",
    "                                               x='year',\n",
    "                                               y= yaxis_hosp_a,\n",
    "                                               by= 'location',\n",
    "                                               title='Weekly admissions over time',\n",
    "                                               alpha=0.7,\n",
    "                                               size=100,\n",
    "                                               legend='right', \n",
    "                                               height=350, \n",
    "                                               width=500)\n",
    "hosp_patients_bhplot"
   ]
  },
  {
   "cell_type": "markdown",
   "id": "4901aab5",
   "metadata": {},
   "source": [
    "##Creating Dashboard"
   ]
  },
  {
   "cell_type": "code",
   "execution_count": 355,
   "id": "1bc10722",
   "metadata": {},
   "outputs": [],
   "source": [
    "our_template = pn.template.FastListTemplate(\n",
    "      title = 'Hospitalizations-Covid19 Dashboard',\n",
    "      sidebar=[pn.pane.Markdown('## Hospitalizations- Group 2'),\n",
    "               pn.pane.Markdown('#### In this dashboard We provide data on hospitalizations & ICU admissions due to COVID-19. Enjoy !:)'),\n",
    "               pn.pane.Markdown('### Our Interesting Outcomes:'),\n",
    "               pn.pane.Markdown('#### 1.An increase in hospital patients cases in Asia, Africa and Europe during 2020-2021 and a decrease after that.'),\n",
    "               pn.pane.Markdown('#### 2.South America only repoted a decrease in hospital patients cases in 2021-2022.'),\n",
    "               pn.pane.Markdown('#### 3.An inverse trend ratio in weekly admissions between Spain and UK.'),\n",
    "               pn.pane.Markdown('#### 4.A decrease in all weekly ICU patients (per million) cases, except an outlier year- 2021 in Chile.'),\n",
    "               pn.pane.Markdown('#### 5.Unlike LMICs, in Israel there was a decline in death cases (per million) in the past two years.'),\n",
    "               pn.pane.PNG('pic_purple.png', sizing_mode='scale_both'),\n",
    "                ],\n",
    "      main=[pn.Row(pn.Column(yaxis_hosp_a, \n",
    "                             hosp_patients_bhplot.panel(width=600), margin=(0,20)),\n",
    "                   pn.Column(yaxis_w_icu_admi, \n",
    "                             Graph33_scatterplot.panel(width=500), margin=(0,20))),\n",
    "            pn.Row(pn.Column(year_slider2, month_slider2,\n",
    "                             deaths_barplot.panel(width=590), margin=(0,20)),\n",
    "                   pn.Column(yaxis_hosp_p, year_slider, \n",
    "                             hosp_patients_linearplot.panel(width=600), margin=(0,20)))],\n",
    "          \n",
    "      accent_base_color=\"#e0c6f7\",\n",
    "      header_background=\"#e0c6f7\",\n",
    ")\n",
    "our_template.servable();"
   ]
  }
 ],
 "metadata": {
  "kernelspec": {
   "display_name": "Python 3 (ipykernel)",
   "language": "python",
   "name": "python3"
  },
  "language_info": {
   "codemirror_mode": {
    "name": "ipython",
    "version": 3
   },
   "file_extension": ".py",
   "mimetype": "text/x-python",
   "name": "python",
   "nbconvert_exporter": "python",
   "pygments_lexer": "ipython3",
   "version": "3.9.13"
  }
 },
 "nbformat": 4,
 "nbformat_minor": 5
}
